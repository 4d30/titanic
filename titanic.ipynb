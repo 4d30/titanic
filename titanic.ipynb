{
 "cells": [
  {
   "cell_type": "markdown",
   "metadata": {},
   "source": [
    "# Predicting Survival of Passengers on the RMS Titanic\n",
    "\n",
    "In this notebook various data from the passengers aboard the RMS is loaded. This data is then analyzed for significant correlation with surviving the disaster. Ultimately, models are produced to predict the survivorship of passengers based on details of their passage.\n",
    "\n",
    "Let's import the libraries we'll need."
   ]
  },
  {
   "cell_type": "code",
   "execution_count": 1,
   "metadata": {},
   "outputs": [],
   "source": [
    "import pandas as pd\n",
    "import numpy as np\n",
    "import pygraphviz as pgv\n",
    "import os\n",
    "from scipy import stats\n",
    "from sklearn import tree\n",
    "from sklearn.linear_model import LogisticRegression\n",
    "from sklearn.linear_model import LinearRegression\n",
    "from sklearn.preprocessing import PolynomialFeatures\n",
    "from sklearn.model_selection import train_test_split\n",
    "from sklearn.model_selection import GridSearchCV\n",
    "from sklearn.metrics import jaccard_score, f1_score, accuracy_score, log_loss, confusion_matrix, ConfusionMatrixDisplay\n",
    "from sklearn import neighbors\n",
    "from sklearn import preprocessing\n",
    "\n",
    "import matplotlib.pyplot as plt\n",
    "import matplotlib\n",
    "%matplotlib inline \n",
    "\n",
    "matplotlib.rcParams.update({'font.size': 16})"
   ]
  },
  {
   "cell_type": "markdown",
   "metadata": {},
   "source": [
    "The data is imported and a several rows are printed."
   ]
  },
  {
   "cell_type": "code",
   "execution_count": 2,
   "metadata": {
    "scrolled": false
   },
   "outputs": [
    {
     "name": "stdout",
     "output_type": "stream",
     "text": [
      "(891, 12)\n",
      "PassengerId      int64\n",
      "Survived         int64\n",
      "Pclass           int64\n",
      "Name            object\n",
      "Sex             object\n",
      "Age            float64\n",
      "SibSp            int64\n",
      "Parch            int64\n",
      "Ticket          object\n",
      "Fare           float64\n",
      "Cabin           object\n",
      "Embarked        object\n",
      "dtype: object\n"
     ]
    },
    {
     "data": {
      "text/html": [
       "<div>\n",
       "<style scoped>\n",
       "    .dataframe tbody tr th:only-of-type {\n",
       "        vertical-align: middle;\n",
       "    }\n",
       "\n",
       "    .dataframe tbody tr th {\n",
       "        vertical-align: top;\n",
       "    }\n",
       "\n",
       "    .dataframe thead th {\n",
       "        text-align: right;\n",
       "    }\n",
       "</style>\n",
       "<table border=\"1\" class=\"dataframe\">\n",
       "  <thead>\n",
       "    <tr style=\"text-align: right;\">\n",
       "      <th></th>\n",
       "      <th>PassengerId</th>\n",
       "      <th>Survived</th>\n",
       "      <th>Pclass</th>\n",
       "      <th>Name</th>\n",
       "      <th>Sex</th>\n",
       "      <th>Age</th>\n",
       "      <th>SibSp</th>\n",
       "      <th>Parch</th>\n",
       "      <th>Ticket</th>\n",
       "      <th>Fare</th>\n",
       "      <th>Cabin</th>\n",
       "      <th>Embarked</th>\n",
       "    </tr>\n",
       "  </thead>\n",
       "  <tbody>\n",
       "    <tr>\n",
       "      <th>0</th>\n",
       "      <td>1</td>\n",
       "      <td>0</td>\n",
       "      <td>3</td>\n",
       "      <td>Braund, Mr. Owen Harris</td>\n",
       "      <td>male</td>\n",
       "      <td>22.0</td>\n",
       "      <td>1</td>\n",
       "      <td>0</td>\n",
       "      <td>A/5 21171</td>\n",
       "      <td>7.2500</td>\n",
       "      <td>NaN</td>\n",
       "      <td>S</td>\n",
       "    </tr>\n",
       "    <tr>\n",
       "      <th>1</th>\n",
       "      <td>2</td>\n",
       "      <td>1</td>\n",
       "      <td>1</td>\n",
       "      <td>Cumings, Mrs. John Bradley (Florence Briggs Th...</td>\n",
       "      <td>female</td>\n",
       "      <td>38.0</td>\n",
       "      <td>1</td>\n",
       "      <td>0</td>\n",
       "      <td>PC 17599</td>\n",
       "      <td>71.2833</td>\n",
       "      <td>C85</td>\n",
       "      <td>C</td>\n",
       "    </tr>\n",
       "    <tr>\n",
       "      <th>2</th>\n",
       "      <td>3</td>\n",
       "      <td>1</td>\n",
       "      <td>3</td>\n",
       "      <td>Heikkinen, Miss. Laina</td>\n",
       "      <td>female</td>\n",
       "      <td>26.0</td>\n",
       "      <td>0</td>\n",
       "      <td>0</td>\n",
       "      <td>STON/O2. 3101282</td>\n",
       "      <td>7.9250</td>\n",
       "      <td>NaN</td>\n",
       "      <td>S</td>\n",
       "    </tr>\n",
       "    <tr>\n",
       "      <th>3</th>\n",
       "      <td>4</td>\n",
       "      <td>1</td>\n",
       "      <td>1</td>\n",
       "      <td>Futrelle, Mrs. Jacques Heath (Lily May Peel)</td>\n",
       "      <td>female</td>\n",
       "      <td>35.0</td>\n",
       "      <td>1</td>\n",
       "      <td>0</td>\n",
       "      <td>113803</td>\n",
       "      <td>53.1000</td>\n",
       "      <td>C123</td>\n",
       "      <td>S</td>\n",
       "    </tr>\n",
       "    <tr>\n",
       "      <th>4</th>\n",
       "      <td>5</td>\n",
       "      <td>0</td>\n",
       "      <td>3</td>\n",
       "      <td>Allen, Mr. William Henry</td>\n",
       "      <td>male</td>\n",
       "      <td>35.0</td>\n",
       "      <td>0</td>\n",
       "      <td>0</td>\n",
       "      <td>373450</td>\n",
       "      <td>8.0500</td>\n",
       "      <td>NaN</td>\n",
       "      <td>S</td>\n",
       "    </tr>\n",
       "    <tr>\n",
       "      <th>5</th>\n",
       "      <td>6</td>\n",
       "      <td>0</td>\n",
       "      <td>3</td>\n",
       "      <td>Moran, Mr. James</td>\n",
       "      <td>male</td>\n",
       "      <td>NaN</td>\n",
       "      <td>0</td>\n",
       "      <td>0</td>\n",
       "      <td>330877</td>\n",
       "      <td>8.4583</td>\n",
       "      <td>NaN</td>\n",
       "      <td>Q</td>\n",
       "    </tr>\n",
       "    <tr>\n",
       "      <th>6</th>\n",
       "      <td>7</td>\n",
       "      <td>0</td>\n",
       "      <td>1</td>\n",
       "      <td>McCarthy, Mr. Timothy J</td>\n",
       "      <td>male</td>\n",
       "      <td>54.0</td>\n",
       "      <td>0</td>\n",
       "      <td>0</td>\n",
       "      <td>17463</td>\n",
       "      <td>51.8625</td>\n",
       "      <td>E46</td>\n",
       "      <td>S</td>\n",
       "    </tr>\n",
       "    <tr>\n",
       "      <th>7</th>\n",
       "      <td>8</td>\n",
       "      <td>0</td>\n",
       "      <td>3</td>\n",
       "      <td>Palsson, Master. Gosta Leonard</td>\n",
       "      <td>male</td>\n",
       "      <td>2.0</td>\n",
       "      <td>3</td>\n",
       "      <td>1</td>\n",
       "      <td>349909</td>\n",
       "      <td>21.0750</td>\n",
       "      <td>NaN</td>\n",
       "      <td>S</td>\n",
       "    </tr>\n",
       "    <tr>\n",
       "      <th>8</th>\n",
       "      <td>9</td>\n",
       "      <td>1</td>\n",
       "      <td>3</td>\n",
       "      <td>Johnson, Mrs. Oscar W (Elisabeth Vilhelmina Berg)</td>\n",
       "      <td>female</td>\n",
       "      <td>27.0</td>\n",
       "      <td>0</td>\n",
       "      <td>2</td>\n",
       "      <td>347742</td>\n",
       "      <td>11.1333</td>\n",
       "      <td>NaN</td>\n",
       "      <td>S</td>\n",
       "    </tr>\n",
       "    <tr>\n",
       "      <th>9</th>\n",
       "      <td>10</td>\n",
       "      <td>1</td>\n",
       "      <td>2</td>\n",
       "      <td>Nasser, Mrs. Nicholas (Adele Achem)</td>\n",
       "      <td>female</td>\n",
       "      <td>14.0</td>\n",
       "      <td>1</td>\n",
       "      <td>0</td>\n",
       "      <td>237736</td>\n",
       "      <td>30.0708</td>\n",
       "      <td>NaN</td>\n",
       "      <td>C</td>\n",
       "    </tr>\n",
       "  </tbody>\n",
       "</table>\n",
       "</div>"
      ],
      "text/plain": [
       "   PassengerId  Survived  Pclass  \\\n",
       "0            1         0       3   \n",
       "1            2         1       1   \n",
       "2            3         1       3   \n",
       "3            4         1       1   \n",
       "4            5         0       3   \n",
       "5            6         0       3   \n",
       "6            7         0       1   \n",
       "7            8         0       3   \n",
       "8            9         1       3   \n",
       "9           10         1       2   \n",
       "\n",
       "                                                Name     Sex   Age  SibSp  \\\n",
       "0                            Braund, Mr. Owen Harris    male  22.0      1   \n",
       "1  Cumings, Mrs. John Bradley (Florence Briggs Th...  female  38.0      1   \n",
       "2                             Heikkinen, Miss. Laina  female  26.0      0   \n",
       "3       Futrelle, Mrs. Jacques Heath (Lily May Peel)  female  35.0      1   \n",
       "4                           Allen, Mr. William Henry    male  35.0      0   \n",
       "5                                   Moran, Mr. James    male   NaN      0   \n",
       "6                            McCarthy, Mr. Timothy J    male  54.0      0   \n",
       "7                     Palsson, Master. Gosta Leonard    male   2.0      3   \n",
       "8  Johnson, Mrs. Oscar W (Elisabeth Vilhelmina Berg)  female  27.0      0   \n",
       "9                Nasser, Mrs. Nicholas (Adele Achem)  female  14.0      1   \n",
       "\n",
       "   Parch            Ticket     Fare Cabin Embarked  \n",
       "0      0         A/5 21171   7.2500   NaN        S  \n",
       "1      0          PC 17599  71.2833   C85        C  \n",
       "2      0  STON/O2. 3101282   7.9250   NaN        S  \n",
       "3      0            113803  53.1000  C123        S  \n",
       "4      0            373450   8.0500   NaN        S  \n",
       "5      0            330877   8.4583   NaN        Q  \n",
       "6      0             17463  51.8625   E46        S  \n",
       "7      1            349909  21.0750   NaN        S  \n",
       "8      2            347742  11.1333   NaN        S  \n",
       "9      0            237736  30.0708   NaN        C  "
      ]
     },
     "execution_count": 2,
     "metadata": {},
     "output_type": "execute_result"
    }
   ],
   "source": [
    "df = pd.read_csv('train.csv')\n",
    "print(df.shape)\n",
    "no_passengers = df.shape[0]\n",
    "print(df.dtypes)\n",
    "df[0:10]"
   ]
  },
  {
   "cell_type": "markdown",
   "metadata": {},
   "source": [
    "Three columns have NaN. Let's address the port of Embarkation as well as age."
   ]
  },
  {
   "cell_type": "code",
   "execution_count": 3,
   "metadata": {},
   "outputs": [
    {
     "data": {
      "text/plain": [
       "0.7710437710437711"
      ]
     },
     "execution_count": 3,
     "metadata": {},
     "output_type": "execute_result"
    }
   ],
   "source": [
    "len(df[df['Cabin'].isnull()])/len(df)"
   ]
  },
  {
   "cell_type": "markdown",
   "metadata": {},
   "source": [
    "# MISSING DATA"
   ]
  },
  {
   "cell_type": "markdown",
   "metadata": {},
   "source": [
    "## Port of Embarkation"
   ]
  },
  {
   "cell_type": "markdown",
   "metadata": {},
   "source": [
    "We inspect the Embarked column for missing values."
   ]
  },
  {
   "cell_type": "code",
   "execution_count": 4,
   "metadata": {
    "scrolled": true
   },
   "outputs": [
    {
     "data": {
      "text/html": [
       "<div>\n",
       "<style scoped>\n",
       "    .dataframe tbody tr th:only-of-type {\n",
       "        vertical-align: middle;\n",
       "    }\n",
       "\n",
       "    .dataframe tbody tr th {\n",
       "        vertical-align: top;\n",
       "    }\n",
       "\n",
       "    .dataframe thead th {\n",
       "        text-align: right;\n",
       "    }\n",
       "</style>\n",
       "<table border=\"1\" class=\"dataframe\">\n",
       "  <thead>\n",
       "    <tr style=\"text-align: right;\">\n",
       "      <th></th>\n",
       "      <th>PassengerId</th>\n",
       "      <th>Survived</th>\n",
       "      <th>Pclass</th>\n",
       "      <th>Name</th>\n",
       "      <th>Sex</th>\n",
       "      <th>Age</th>\n",
       "      <th>SibSp</th>\n",
       "      <th>Parch</th>\n",
       "      <th>Ticket</th>\n",
       "      <th>Fare</th>\n",
       "      <th>Cabin</th>\n",
       "      <th>Embarked</th>\n",
       "    </tr>\n",
       "  </thead>\n",
       "  <tbody>\n",
       "    <tr>\n",
       "      <th>61</th>\n",
       "      <td>62</td>\n",
       "      <td>1</td>\n",
       "      <td>1</td>\n",
       "      <td>Icard, Miss. Amelie</td>\n",
       "      <td>female</td>\n",
       "      <td>38.0</td>\n",
       "      <td>0</td>\n",
       "      <td>0</td>\n",
       "      <td>113572</td>\n",
       "      <td>80.0</td>\n",
       "      <td>B28</td>\n",
       "      <td>NaN</td>\n",
       "    </tr>\n",
       "    <tr>\n",
       "      <th>829</th>\n",
       "      <td>830</td>\n",
       "      <td>1</td>\n",
       "      <td>1</td>\n",
       "      <td>Stone, Mrs. George Nelson (Martha Evelyn)</td>\n",
       "      <td>female</td>\n",
       "      <td>62.0</td>\n",
       "      <td>0</td>\n",
       "      <td>0</td>\n",
       "      <td>113572</td>\n",
       "      <td>80.0</td>\n",
       "      <td>B28</td>\n",
       "      <td>NaN</td>\n",
       "    </tr>\n",
       "  </tbody>\n",
       "</table>\n",
       "</div>"
      ],
      "text/plain": [
       "     PassengerId  Survived  Pclass                                       Name  \\\n",
       "61            62         1       1                        Icard, Miss. Amelie   \n",
       "829          830         1       1  Stone, Mrs. George Nelson (Martha Evelyn)   \n",
       "\n",
       "        Sex   Age  SibSp  Parch  Ticket  Fare Cabin Embarked  \n",
       "61   female  38.0      0      0  113572  80.0   B28      NaN  \n",
       "829  female  62.0      0      0  113572  80.0   B28      NaN  "
      ]
     },
     "execution_count": 4,
     "metadata": {},
     "output_type": "execute_result"
    }
   ],
   "source": [
    "df[df['Embarked'].isnull()]"
   ]
  },
  {
   "cell_type": "markdown",
   "metadata": {},
   "source": [
    "Two values are found. Let's build a model based on everyone else on board and see if we can guess where Miss Icard and Mrs. Stone got onboard. We assume that the passenger's fare, class, and where they embarked are related. Let's define the variables."
   ]
  },
  {
   "cell_type": "code",
   "execution_count": 5,
   "metadata": {
    "scrolled": false
   },
   "outputs": [],
   "source": [
    "df2 = df.loc[:,['Pclass','Fare','Embarked']]\n",
    "df2.dropna(inplace=True) #Dropping the target of our model\n",
    "\n",
    "# Prepare X\n",
    "X = np.array(df2.loc[:,['Pclass','Fare']]) # Casting to an np.arr\n",
    "scaler = preprocessing.Normalizer().fit(X) \n",
    "X = scaler.transform(X)  # Scaling values\n",
    "\n",
    "# Prepare y\n",
    "ports = ['C','Q','S']\n",
    "emb_dum = df2['Embarked'].replace(ports,[0,1,2]) # Transforming categorical data into numeric\n",
    "y = np.array(emb_dum) # Casting to an np.arr\n",
    "\n",
    "X_train, X_test, y_train, y_test = train_test_split(X,y,test_size=0.15)\n",
    "\n",
    "\n"
   ]
  },
  {
   "cell_type": "markdown",
   "metadata": {},
   "source": [
    "A classifier clf is defined and the data fit to it."
   ]
  },
  {
   "cell_type": "code",
   "execution_count": 6,
   "metadata": {},
   "outputs": [
    {
     "data": {
      "text/plain": [
       "DecisionTreeClassifier(ccp_alpha=0.0, class_weight=None, criterion='gini',\n",
       "                       max_depth=None, max_features=None, max_leaf_nodes=None,\n",
       "                       min_impurity_decrease=0.0, min_impurity_split=None,\n",
       "                       min_samples_leaf=1, min_samples_split=2,\n",
       "                       min_weight_fraction_leaf=0.0, presort='deprecated',\n",
       "                       random_state=None, splitter='best')"
      ]
     },
     "execution_count": 6,
     "metadata": {},
     "output_type": "execute_result"
    },
    {
     "data": {
      "text/plain": [
       "<Figure size 1800x1440 with 0 Axes>"
      ]
     },
     "metadata": {},
     "output_type": "display_data"
    }
   ],
   "source": [
    "fig = plt.figure(figsize=(25,20))\n",
    "clf = tree.DecisionTreeClassifier()\n",
    "clf.fit(X_train, y_train) \n"
   ]
  },
  {
   "cell_type": "code",
   "execution_count": 7,
   "metadata": {},
   "outputs": [
    {
     "data": {
      "text/plain": [
       "0.9107292979576639"
      ]
     },
     "execution_count": 7,
     "metadata": {},
     "output_type": "execute_result"
    }
   ],
   "source": [
    "f1_score(y_test,clf.predict(X_test),average='weighted')"
   ]
  },
  {
   "cell_type": "code",
   "execution_count": 8,
   "metadata": {},
   "outputs": [
    {
     "data": {
      "text/plain": [
       "<Figure size 576x288 with 0 Axes>"
      ]
     },
     "metadata": {},
     "output_type": "display_data"
    },
    {
     "data": {
      "image/png": "[encoded data removed]",
      "text/plain": [
       "<Figure size 432x288 with 2 Axes>"
      ]
     },
     "metadata": {
      "needs_background": "light"
     },
     "output_type": "display_data"
    }
   ],
   "source": [
    "plt.figure(figsize=(8,4))\n",
    "c_mat = confusion_matrix(y_test,clf.predict(X_test))\n",
    "disp = ConfusionMatrixDisplay(confusion_matrix = c_mat, display_labels=ports)\n",
    "disp.plot(values_format='d')\n",
    "plt.savefig('./embarked_dt.png',bbox_inches='tight',dpi=300)\n"
   ]
  },
  {
   "cell_type": "code",
   "execution_count": 9,
   "metadata": {},
   "outputs": [],
   "source": [
    "dot_data = tree.export_graphviz(clf, out_file='embarked_dt.dot', \n",
    "                     feature_names=['Pclass','Fare'],\n",
    "                    filled=True, rounded=True,  \n",
    "                     special_characters=True)\n",
    "graph = pgv.AGraph('./embarked_dt.dot')  \n",
    "#graph.draw()"
   ]
  },
  {
   "cell_type": "markdown",
   "metadata": {},
   "source": [
    "Predicting the port of our passengers:"
   ]
  },
  {
   "cell_type": "code",
   "execution_count": 10,
   "metadata": {},
   "outputs": [
    {
     "name": "stdout",
     "output_type": "stream",
     "text": [
      "[0,1,2]\n",
      "['C', 'Q', 'S']\n",
      "[2]\n"
     ]
    }
   ],
   "source": [
    "x = scaler.transform(np.array([1,80]).reshape(1,-1)) # Both passengers paid 80 pounds for a first class ticket\n",
    "print('[0,1,2]')\n",
    "print(ports)\n",
    "print(clf.predict(x))"
   ]
  },
  {
   "cell_type": "markdown",
   "metadata": {},
   "source": [
    "The model calculates the port of embarkation for both passengers to be Southampton. Southampton is imputed."
   ]
  },
  {
   "cell_type": "code",
   "execution_count": 11,
   "metadata": {},
   "outputs": [],
   "source": [
    "df['Embarked'].fillna('S', inplace=True)"
   ]
  },
  {
   "cell_type": "markdown",
   "metadata": {},
   "source": [
    "Let's check to see if we missed anyone"
   ]
  },
  {
   "cell_type": "code",
   "execution_count": 12,
   "metadata": {
    "scrolled": true
   },
   "outputs": [
    {
     "data": {
      "text/html": [
       "<div>\n",
       "<style scoped>\n",
       "    .dataframe tbody tr th:only-of-type {\n",
       "        vertical-align: middle;\n",
       "    }\n",
       "\n",
       "    .dataframe tbody tr th {\n",
       "        vertical-align: top;\n",
       "    }\n",
       "\n",
       "    .dataframe thead th {\n",
       "        text-align: right;\n",
       "    }\n",
       "</style>\n",
       "<table border=\"1\" class=\"dataframe\">\n",
       "  <thead>\n",
       "    <tr style=\"text-align: right;\">\n",
       "      <th></th>\n",
       "      <th>PassengerId</th>\n",
       "      <th>Survived</th>\n",
       "      <th>Pclass</th>\n",
       "      <th>Name</th>\n",
       "      <th>Sex</th>\n",
       "      <th>Age</th>\n",
       "      <th>SibSp</th>\n",
       "      <th>Parch</th>\n",
       "      <th>Ticket</th>\n",
       "      <th>Fare</th>\n",
       "      <th>Cabin</th>\n",
       "      <th>Embarked</th>\n",
       "    </tr>\n",
       "  </thead>\n",
       "  <tbody>\n",
       "  </tbody>\n",
       "</table>\n",
       "</div>"
      ],
      "text/plain": [
       "Empty DataFrame\n",
       "Columns: [PassengerId, Survived, Pclass, Name, Sex, Age, SibSp, Parch, Ticket, Fare, Cabin, Embarked]\n",
       "Index: []"
      ]
     },
     "execution_count": 12,
     "metadata": {},
     "output_type": "execute_result"
    }
   ],
   "source": [
    "df[df['Embarked'].isnull()]"
   ]
  },
  {
   "cell_type": "markdown",
   "metadata": {},
   "source": [
    "We did not miss anyone. Let's now look towards age."
   ]
  },
  {
   "cell_type": "markdown",
   "metadata": {},
   "source": [
    "## Age"
   ]
  },
  {
   "cell_type": "code",
   "execution_count": 13,
   "metadata": {},
   "outputs": [
    {
     "data": {
      "text/html": [
       "<div>\n",
       "<style scoped>\n",
       "    .dataframe tbody tr th:only-of-type {\n",
       "        vertical-align: middle;\n",
       "    }\n",
       "\n",
       "    .dataframe tbody tr th {\n",
       "        vertical-align: top;\n",
       "    }\n",
       "\n",
       "    .dataframe thead th {\n",
       "        text-align: right;\n",
       "    }\n",
       "</style>\n",
       "<table border=\"1\" class=\"dataframe\">\n",
       "  <thead>\n",
       "    <tr style=\"text-align: right;\">\n",
       "      <th></th>\n",
       "      <th>PassengerId</th>\n",
       "      <th>Survived</th>\n",
       "      <th>Pclass</th>\n",
       "      <th>Name</th>\n",
       "      <th>Sex</th>\n",
       "      <th>Age</th>\n",
       "      <th>SibSp</th>\n",
       "      <th>Parch</th>\n",
       "      <th>Ticket</th>\n",
       "      <th>Fare</th>\n",
       "      <th>Cabin</th>\n",
       "      <th>Embarked</th>\n",
       "    </tr>\n",
       "  </thead>\n",
       "  <tbody>\n",
       "    <tr>\n",
       "      <th>5</th>\n",
       "      <td>6</td>\n",
       "      <td>0</td>\n",
       "      <td>3</td>\n",
       "      <td>Moran, Mr. James</td>\n",
       "      <td>male</td>\n",
       "      <td>NaN</td>\n",
       "      <td>0</td>\n",
       "      <td>0</td>\n",
       "      <td>330877</td>\n",
       "      <td>8.4583</td>\n",
       "      <td>NaN</td>\n",
       "      <td>Q</td>\n",
       "    </tr>\n",
       "    <tr>\n",
       "      <th>17</th>\n",
       "      <td>18</td>\n",
       "      <td>1</td>\n",
       "      <td>2</td>\n",
       "      <td>Williams, Mr. Charles Eugene</td>\n",
       "      <td>male</td>\n",
       "      <td>NaN</td>\n",
       "      <td>0</td>\n",
       "      <td>0</td>\n",
       "      <td>244373</td>\n",
       "      <td>13.0000</td>\n",
       "      <td>NaN</td>\n",
       "      <td>S</td>\n",
       "    </tr>\n",
       "    <tr>\n",
       "      <th>19</th>\n",
       "      <td>20</td>\n",
       "      <td>1</td>\n",
       "      <td>3</td>\n",
       "      <td>Masselmani, Mrs. Fatima</td>\n",
       "      <td>female</td>\n",
       "      <td>NaN</td>\n",
       "      <td>0</td>\n",
       "      <td>0</td>\n",
       "      <td>2649</td>\n",
       "      <td>7.2250</td>\n",
       "      <td>NaN</td>\n",
       "      <td>C</td>\n",
       "    </tr>\n",
       "    <tr>\n",
       "      <th>26</th>\n",
       "      <td>27</td>\n",
       "      <td>0</td>\n",
       "      <td>3</td>\n",
       "      <td>Emir, Mr. Farred Chehab</td>\n",
       "      <td>male</td>\n",
       "      <td>NaN</td>\n",
       "      <td>0</td>\n",
       "      <td>0</td>\n",
       "      <td>2631</td>\n",
       "      <td>7.2250</td>\n",
       "      <td>NaN</td>\n",
       "      <td>C</td>\n",
       "    </tr>\n",
       "    <tr>\n",
       "      <th>28</th>\n",
       "      <td>29</td>\n",
       "      <td>1</td>\n",
       "      <td>3</td>\n",
       "      <td>O'Dwyer, Miss. Ellen \"Nellie\"</td>\n",
       "      <td>female</td>\n",
       "      <td>NaN</td>\n",
       "      <td>0</td>\n",
       "      <td>0</td>\n",
       "      <td>330959</td>\n",
       "      <td>7.8792</td>\n",
       "      <td>NaN</td>\n",
       "      <td>Q</td>\n",
       "    </tr>\n",
       "    <tr>\n",
       "      <th>...</th>\n",
       "      <td>...</td>\n",
       "      <td>...</td>\n",
       "      <td>...</td>\n",
       "      <td>...</td>\n",
       "      <td>...</td>\n",
       "      <td>...</td>\n",
       "      <td>...</td>\n",
       "      <td>...</td>\n",
       "      <td>...</td>\n",
       "      <td>...</td>\n",
       "      <td>...</td>\n",
       "      <td>...</td>\n",
       "    </tr>\n",
       "    <tr>\n",
       "      <th>859</th>\n",
       "      <td>860</td>\n",
       "      <td>0</td>\n",
       "      <td>3</td>\n",
       "      <td>Razi, Mr. Raihed</td>\n",
       "      <td>male</td>\n",
       "      <td>NaN</td>\n",
       "      <td>0</td>\n",
       "      <td>0</td>\n",
       "      <td>2629</td>\n",
       "      <td>7.2292</td>\n",
       "      <td>NaN</td>\n",
       "      <td>C</td>\n",
       "    </tr>\n",
       "    <tr>\n",
       "      <th>863</th>\n",
       "      <td>864</td>\n",
       "      <td>0</td>\n",
       "      <td>3</td>\n",
       "      <td>Sage, Miss. Dorothy Edith \"Dolly\"</td>\n",
       "      <td>female</td>\n",
       "      <td>NaN</td>\n",
       "      <td>8</td>\n",
       "      <td>2</td>\n",
       "      <td>CA. 2343</td>\n",
       "      <td>69.5500</td>\n",
       "      <td>NaN</td>\n",
       "      <td>S</td>\n",
       "    </tr>\n",
       "    <tr>\n",
       "      <th>868</th>\n",
       "      <td>869</td>\n",
       "      <td>0</td>\n",
       "      <td>3</td>\n",
       "      <td>van Melkebeke, Mr. Philemon</td>\n",
       "      <td>male</td>\n",
       "      <td>NaN</td>\n",
       "      <td>0</td>\n",
       "      <td>0</td>\n",
       "      <td>345777</td>\n",
       "      <td>9.5000</td>\n",
       "      <td>NaN</td>\n",
       "      <td>S</td>\n",
       "    </tr>\n",
       "    <tr>\n",
       "      <th>878</th>\n",
       "      <td>879</td>\n",
       "      <td>0</td>\n",
       "      <td>3</td>\n",
       "      <td>Laleff, Mr. Kristo</td>\n",
       "      <td>male</td>\n",
       "      <td>NaN</td>\n",
       "      <td>0</td>\n",
       "      <td>0</td>\n",
       "      <td>349217</td>\n",
       "      <td>7.8958</td>\n",
       "      <td>NaN</td>\n",
       "      <td>S</td>\n",
       "    </tr>\n",
       "    <tr>\n",
       "      <th>888</th>\n",
       "      <td>889</td>\n",
       "      <td>0</td>\n",
       "      <td>3</td>\n",
       "      <td>Johnston, Miss. Catherine Helen \"Carrie\"</td>\n",
       "      <td>female</td>\n",
       "      <td>NaN</td>\n",
       "      <td>1</td>\n",
       "      <td>2</td>\n",
       "      <td>W./C. 6607</td>\n",
       "      <td>23.4500</td>\n",
       "      <td>NaN</td>\n",
       "      <td>S</td>\n",
       "    </tr>\n",
       "  </tbody>\n",
       "</table>\n",
       "<p>177 rows × 12 columns</p>\n",
       "</div>"
      ],
      "text/plain": [
       "     PassengerId  Survived  Pclass                                      Name  \\\n",
       "5              6         0       3                          Moran, Mr. James   \n",
       "17            18         1       2              Williams, Mr. Charles Eugene   \n",
       "19            20         1       3                   Masselmani, Mrs. Fatima   \n",
       "26            27         0       3                   Emir, Mr. Farred Chehab   \n",
       "28            29         1       3             O'Dwyer, Miss. Ellen \"Nellie\"   \n",
       "..           ...       ...     ...                                       ...   \n",
       "859          860         0       3                          Razi, Mr. Raihed   \n",
       "863          864         0       3         Sage, Miss. Dorothy Edith \"Dolly\"   \n",
       "868          869         0       3               van Melkebeke, Mr. Philemon   \n",
       "878          879         0       3                        Laleff, Mr. Kristo   \n",
       "888          889         0       3  Johnston, Miss. Catherine Helen \"Carrie\"   \n",
       "\n",
       "        Sex  Age  SibSp  Parch      Ticket     Fare Cabin Embarked  \n",
       "5      male  NaN      0      0      330877   8.4583   NaN        Q  \n",
       "17     male  NaN      0      0      244373  13.0000   NaN        S  \n",
       "19   female  NaN      0      0        2649   7.2250   NaN        C  \n",
       "26     male  NaN      0      0        2631   7.2250   NaN        C  \n",
       "28   female  NaN      0      0      330959   7.8792   NaN        Q  \n",
       "..      ...  ...    ...    ...         ...      ...   ...      ...  \n",
       "859    male  NaN      0      0        2629   7.2292   NaN        C  \n",
       "863  female  NaN      8      2    CA. 2343  69.5500   NaN        S  \n",
       "868    male  NaN      0      0      345777   9.5000   NaN        S  \n",
       "878    male  NaN      0      0      349217   7.8958   NaN        S  \n",
       "888  female  NaN      1      2  W./C. 6607  23.4500   NaN        S  \n",
       "\n",
       "[177 rows x 12 columns]"
      ]
     },
     "execution_count": 13,
     "metadata": {},
     "output_type": "execute_result"
    }
   ],
   "source": [
    "df[df['Age'].isnull()]"
   ]
  },
  {
   "cell_type": "markdown",
   "metadata": {},
   "source": [
    "Oh dear. There is a significant number of passengers whose age is unknown. Again we will build a model with the objective of calculating the age of passengers we don't know. This time a k-Neighbors regressor is used and fit to the passengers we have data for. First let's note the indicies of the passengers we will be targeting."
   ]
  },
  {
   "cell_type": "code",
   "execution_count": 14,
   "metadata": {
    "scrolled": false
   },
   "outputs": [
    {
     "data": {
      "text/plain": [
       "[5, 17, 19, 26, 28]"
      ]
     },
     "execution_count": 14,
     "metadata": {},
     "output_type": "execute_result"
    }
   ],
   "source": [
    "nullage = df[df['Age'].isnull()].index.tolist()\n",
    "nullage[0:5]"
   ]
  },
  {
   "cell_type": "code",
   "execution_count": 15,
   "metadata": {},
   "outputs": [
    {
     "name": "stdout",
     "output_type": "stream",
     "text": [
      "0\r",
      "1\r",
      "2\r",
      "3\r",
      "4\r",
      "5\r",
      "6\r",
      "7\r",
      "8\r",
      "9\r",
      "10\r",
      "11\r",
      "12\r",
      "13\r",
      "14\r",
      "15\r",
      "16\r",
      "17\r",
      "18\r\n",
      "DONE\n"
     ]
    },
    {
     "data": {
      "image/png": "[encoded data removed]",
      "text/plain": [
       "<Figure size 720x504 with 1 Axes>"
      ]
     },
     "metadata": {
      "needs_background": "light"
     },
     "output_type": "display_data"
    }
   ],
   "source": [
    "matplotlib.rcParams.update({'font.size': 20})\n",
    "\n",
    "df2 = df.loc[:,['Pclass','Sex','SibSp','Parch','Fare','Embarked','Age']] # These are our variables of interest\n",
    "\n",
    "# Quick and dirty: Categorical variables are replaced with an integer\n",
    "df2['Sex'].replace(['female','male'],[0,1],inplace=True) \n",
    "df2['Embarked'].replace(['C','Q','S'],[0,1,2],inplace=True)\n",
    "\n",
    "# A copy of out model inputs is made for graphing later\n",
    "df3 = df2.copy()\n",
    "\n",
    "# Remove NaNs and cast to np.arr\n",
    "df2.dropna(inplace=True)\n",
    "data = np.array(df2)\n",
    "\n",
    "# Defining model inputs\n",
    "X = data[:,:6]\n",
    "y = data[:,6]\n",
    "\n",
    "list_knn = []\n",
    "\n",
    "its=1\n",
    "neighbor_range = range(1,20)\n",
    "index = 0\n",
    "for i in neighbor_range:\n",
    "    RMSE_LIST= []\n",
    "    for j in range(0,its):\n",
    "    \n",
    "        X_train, X_test,y_train,y_test = train_test_split(X,y,test_size=0.2)\n",
    "        # Defining a classifier. \n",
    "        n_neighbors = i\n",
    "        knn = neighbors.KNeighborsRegressor(n_neighbors,weights='distance',algorithm='brute',n_jobs=-1)\n",
    "        knn.fit(X_train,y_train)\n",
    "\n",
    "        E = np.subtract(knn.predict(X_test),y_test)\n",
    "        SE = np.power(E,2)\n",
    "        MSE = np.sum(SE/len(y_test))\n",
    "        RMSE = np.sqrt(MSE)\n",
    "        RMSE_LIST.append(RMSE)\n",
    "        os.sys.stdout.write(f'{index}\\r')\n",
    "        index = index + 1\n",
    "    \n",
    "    list_knn.append(np.array(RMSE_LIST).mean())\n",
    "print('\\nDONE')\n",
    "plt.figure(figsize=(10,7))\n",
    "plt.plot(neighbor_range,list_knn)\n",
    "plt.title('n Selection for Age Model')\n",
    "plt.ylabel('RMSE (Years)')\n",
    "plt.xlabel('n Neighbors')\n",
    "plt.xticks(neighbor_range)\n",
    "#plt.savefig('./age_rmse.png',bbox_inches='tight',dpi=300)\n",
    "plt.show()"
   ]
  },
  {
   "cell_type": "code",
   "execution_count": 16,
   "metadata": {
    "scrolled": false
   },
   "outputs": [
    {
     "name": "stdout",
     "output_type": "stream",
     "text": [
      "Model RMSE: 13.1\n"
     ]
    },
    {
     "data": {
      "image/png": "[encoded data removed]",
      "text/plain": [
       "<Figure size 576x432 with 1 Axes>"
      ]
     },
     "metadata": {
      "needs_background": "light"
     },
     "output_type": "display_data"
    }
   ],
   "source": [
    "df2 = df.loc[:,['Pclass','Sex','SibSp','Parch','Fare','Embarked','Age']] # These are our variables of interest\n",
    "\n",
    "# Quick and dirty: Categorical variables are replaced with an integer\n",
    "df2['Sex'].replace(['female','male'],[0,1],inplace=True) \n",
    "df2['Embarked'].replace(['C','Q','S'],[0,1,2],inplace=True)\n",
    "\n",
    "# A copy of out model inputs is made for graphing later\n",
    "df3 = df2.copy()\n",
    "\n",
    "# Remove NaNs and cast to np.arr\n",
    "df2.dropna(inplace=True)\n",
    "data = np.array(df2)\n",
    "\n",
    "# Defining model inputs\n",
    "X = data[:,:6]\n",
    "y = data[:,6]\n",
    "\n",
    "# The inputs have many different scales.\n",
    "# They are normalized.\n",
    "scaler = preprocessing.Normalizer().fit(X)\n",
    "T = np.array(df3[df3['Age'].isnull()])\n",
    "T = scaler.transform(T[:,:6])\n",
    "X = scaler.transform(X)\n",
    "model_RMSE = []\n",
    "for i in range (0,1000):\n",
    "    X_train, X_test,y_train,y_test = train_test_split(X,y,test_size=0.2)\n",
    "\n",
    "    # Defining a classifier. \n",
    "    n_neighbors = 4\n",
    "    knn = neighbors.KNeighborsRegressor(n_neighbors,weights='distance',algorithm='brute',n_jobs=-1)\n",
    "    knn.fit(X_train,y_train)\n",
    "\n",
    "    E = np.subtract(knn.predict(X_test),y_test)\n",
    "    SE = np.power(E,2)\n",
    "    MSE = np.sum(SE)/len(y_test)\n",
    "    RMSE = np.sqrt(MSE)\n",
    "    model_RMSE.append(RMSE)\n",
    "print(f'Model RMSE: {RMSE:.1f}')\n",
    "\n",
    "# Plot the known ages with the modeled ages for comparison of shape.\n",
    "plt.figure(figsize=(8,6))\n",
    "plt.hist(df['Age'],color='C0',bins=np.arange(0,80,10))\n",
    "plt.hist(knn.predict(X_test),color='C1',bins=np.arange(0,80,10))\n",
    "plt.legend(['Known Ages','Estimated Ages'])\n",
    "plt.title('Shape Comparison')\n",
    "plt.ylabel('Frequency')\n",
    "plt.xlabel('Age')\n",
    "#plt.savefig('./agemodeldist.png', dpi=300)\n",
    "# Replace unknown ages with modeled ones.\n",
    "df.iloc[nullage,5] = knn.predict(T)\n",
    "\n",
    "plt.show()"
   ]
  },
  {
   "cell_type": "code",
   "execution_count": 17,
   "metadata": {},
   "outputs": [
    {
     "name": "stdout",
     "output_type": "stream",
     "text": [
      "14.12071752920503\n",
      "0.8352283859496595\n"
     ]
    },
    {
     "data": {
      "image/png": "[encoded data removed]",
      "text/plain": [
       "<Figure size 576x432 with 1 Axes>"
      ]
     },
     "metadata": {
      "needs_background": "light"
     },
     "output_type": "display_data"
    }
   ],
   "source": [
    "bins = np.linspace(-3,3,13)\n",
    "plt.figure(figsize=(8,6))\n",
    "#plt.hist(stats.zscore(model_RMSE),bins=bins)\n",
    "plt.hist(model_RMSE)\n",
    "plt.title('Model Accuracy')\n",
    "plt.ylabel('Frequency\\n(n=1000)')\n",
    "plt.xlabel('RMSE (years)')\n",
    "stats.describe(model_RMSE)\n",
    "plt.savefig('agermsefreq.png',bbox_inches='tight',dpi=300)\n",
    "print(np.mean(model_RMSE))\n",
    "print(np.std(model_RMSE))"
   ]
  },
  {
   "cell_type": "markdown",
   "metadata": {},
   "source": [
    "The shapes of these distributions are visually consistent. The RMSE of the fit is 13 years or about half a human generation. There is no immediate reason to reject these results."
   ]
  },
  {
   "cell_type": "code",
   "execution_count": 18,
   "metadata": {},
   "outputs": [
    {
     "data": {
      "text/html": [
       "<div>\n",
       "<style scoped>\n",
       "    .dataframe tbody tr th:only-of-type {\n",
       "        vertical-align: middle;\n",
       "    }\n",
       "\n",
       "    .dataframe tbody tr th {\n",
       "        vertical-align: top;\n",
       "    }\n",
       "\n",
       "    .dataframe thead th {\n",
       "        text-align: right;\n",
       "    }\n",
       "</style>\n",
       "<table border=\"1\" class=\"dataframe\">\n",
       "  <thead>\n",
       "    <tr style=\"text-align: right;\">\n",
       "      <th></th>\n",
       "      <th>PassengerId</th>\n",
       "      <th>Survived</th>\n",
       "      <th>Pclass</th>\n",
       "      <th>Name</th>\n",
       "      <th>Sex</th>\n",
       "      <th>Age</th>\n",
       "      <th>SibSp</th>\n",
       "      <th>Parch</th>\n",
       "      <th>Ticket</th>\n",
       "      <th>Fare</th>\n",
       "      <th>Cabin</th>\n",
       "      <th>Embarked</th>\n",
       "    </tr>\n",
       "  </thead>\n",
       "  <tbody>\n",
       "  </tbody>\n",
       "</table>\n",
       "</div>"
      ],
      "text/plain": [
       "Empty DataFrame\n",
       "Columns: [PassengerId, Survived, Pclass, Name, Sex, Age, SibSp, Parch, Ticket, Fare, Cabin, Embarked]\n",
       "Index: []"
      ]
     },
     "execution_count": 18,
     "metadata": {},
     "output_type": "execute_result"
    }
   ],
   "source": [
    "df[df['Age'].isnull()]"
   ]
  },
  {
   "cell_type": "markdown",
   "metadata": {},
   "source": [
    "Every passenger now has an age and a port of Embarkation. Moving on, we begin to build our model of who survived.\n",
    "\n",
    "An empty list is defined. As I move through each variable, those that have significant correlation with the Survived variable will be appended to the list."
   ]
  },
  {
   "cell_type": "code",
   "execution_count": 19,
   "metadata": {},
   "outputs": [],
   "source": [
    "model = [] "
   ]
  },
  {
   "cell_type": "markdown",
   "metadata": {},
   "source": [
    "# BY SEX\n",
    "\n",
    "An exploration is made into the correlation and significance of sex on surviving the shipwreck."
   ]
  },
  {
   "cell_type": "code",
   "execution_count": 20,
   "metadata": {},
   "outputs": [
    {
     "data": {
      "text/plain": [
       "array([[468., 109.],\n",
       "       [ 81., 233.]])"
      ]
     },
     "execution_count": 20,
     "metadata": {},
     "output_type": "execute_result"
    }
   ],
   "source": [
    "sexes = ['male','female']\n",
    "bysex = np.zeros((2,2))\n",
    "for i in range(0,len(sexes)):\n",
    "    bysex[i] = df[df['Sex'] == sexes[i]]['Survived'].value_counts().sort_index()\n",
    "bysex"
   ]
  },
  {
   "cell_type": "markdown",
   "metadata": {},
   "source": [
    "The first row of this array are all male. The second row is all female. The first column represents the number of passengers who did not survive. The second column represents the number of passengers who did survive. Looks like males are less likely to survive than females. Let's check rates"
   ]
  },
  {
   "cell_type": "code",
   "execution_count": 21,
   "metadata": {},
   "outputs": [
    {
     "name": "stdout",
     "output_type": "stream",
     "text": [
      "Survival rate of:\n",
      "\tmales:\t\t 0.189\n",
      "\tfemales:\t 0.742\n"
     ]
    }
   ],
   "source": [
    "males_rate = bysex[0][1]/np.sum(bysex[0])\n",
    "females_rate = bysex[1][1]/np.sum(bysex[1])\n",
    "print('Survival rate of:')\n",
    "print('\\tmales:\\t\\t',f'{males_rate:.3f}')\n",
    "print('\\tfemales:\\t',f'{females_rate:.3f}')"
   ]
  },
  {
   "cell_type": "markdown",
   "metadata": {},
   "source": [
    "Indeed, there is quite a contrast between the two rates. Let's visualize survivorship."
   ]
  },
  {
   "cell_type": "code",
   "execution_count": 22,
   "metadata": {
    "scrolled": false
   },
   "outputs": [
    {
     "data": {
      "image/png": "[encoded data removed]",
      "text/plain": [
       "<Figure size 720x576 with 1 Axes>"
      ]
     },
     "metadata": {
      "needs_background": "light"
     },
     "output_type": "display_data"
    }
   ],
   "source": [
    "labels = ['No Survive', 'Survive']\n",
    "male = bysex[0]\n",
    "female = bysex[1]\n",
    "\n",
    "x = np.arange(len(labels))  # the label locations\n",
    "width = 0.35  # the width of the bars\n",
    "\n",
    "fig, ax = plt.subplots(figsize=(10,8))\n",
    "rects1 = ax.bar(x - width/2, male, width, label='Men')\n",
    "rects2 = ax.bar(x + width/2, female, width, label='Women')\n",
    "\n",
    "# Add some text for labels, title and custom x-axis tick labels, etc.\n",
    "ax.set_ylabel('Passengers')\n",
    "ax.set_title('Survival by Sex')\n",
    "ax.set_xticks(x)\n",
    "ax.set_ylim(0,500)\n",
    "ax.set_xticklabels(labels)\n",
    "ax.legend()\n",
    "\n",
    "def autolabel(rects):\n",
    "    \"\"\"Attach a text label above each bar in *rects*, displaying its height.\"\"\"\n",
    "    for rect in rects:\n",
    "        height = rect.get_height()\n",
    "        ax.annotate('{}'.format(height),\n",
    "                    xy=(rect.get_x() + rect.get_width() / 2, height),\n",
    "                    xytext=(0, 3),  # 3 points vertical offset\n",
    "                    textcoords=\"offset points\",\n",
    "                    ha='center', va='bottom')\n",
    "\n",
    "autolabel(rects1)\n",
    "autolabel(rects2)\n",
    "\n",
    "plt.show()"
   ]
  },
  {
   "cell_type": "markdown",
   "metadata": {},
   "source": [
    "There are more males on board than there are females. Let's do an apples to apples comparison and visualize rate."
   ]
  },
  {
   "cell_type": "code",
   "execution_count": 23,
   "metadata": {},
   "outputs": [
    {
     "data": {
      "image/png": "[encoded data removed]",
      "text/plain": [
       "<Figure size 720x576 with 1 Axes>"
      ]
     },
     "metadata": {
      "needs_background": "light"
     },
     "output_type": "display_data"
    }
   ],
   "source": [
    "labels = ['No Survive', 'Survive']\n",
    "male = np.round(bysex[0]/np.sum(bysex[0]),2)\n",
    "female = np.round(bysex[1]/np.sum(bysex[1]),2)\n",
    "\n",
    "x = np.arange(len(labels))  # the label locations\n",
    "width = 0.35  # the width of the bars\n",
    "\n",
    "fig, ax = plt.subplots(figsize=(10,8))\n",
    "rects1 = ax.bar(x - width/2, male, width, label='Male')\n",
    "rects2 = ax.bar(x + width/2, female, width, label='Female')\n",
    "\n",
    "# Add some text for labels, title and custom x-axis tick labels, etc.\n",
    "ax.set_ylabel('Rate')\n",
    "ax.set_title('Survival by Sex')\n",
    "ax.set_xticks(x)\n",
    "ax.set_ylim(0,1)\n",
    "ax.set_xticklabels(labels)\n",
    "ax.legend()\n",
    "\n",
    "autolabel(rects1)\n",
    "autolabel(rects2)\n",
    "\n",
    "plt.show()"
   ]
  },
  {
   "cell_type": "markdown",
   "metadata": {},
   "source": [
    "Now we calculate Pearson's r for being a male and surviving the disaster for inclusion in the final model."
   ]
  },
  {
   "cell_type": "code",
   "execution_count": 24,
   "metadata": {},
   "outputs": [
    {
     "name": "stdout",
     "output_type": "stream",
     "text": [
      "is_male vs Survived\n",
      "\tCorrelation: -0.54\n",
      "\tp-val: 1.41e-69\n"
     ]
    }
   ],
   "source": [
    "df['male'] = df['Sex'] == 'male' # Create a column to indicate whether or not the passenger is male\n",
    "df['male'].replace([True,False],[1,0],inplace=True) # Converting the results to a numeric value\n",
    "\n",
    "# Define the input\n",
    "X = np.array(df['male'])\n",
    "y = np.array(df['Survived'])\n",
    "\n",
    "# Calculate correlation\n",
    "pear = stats.pearsonr(X,y)\n",
    "print('is_male vs Survived')\n",
    "print(f'\\tCorrelation: {pear[0]:.2f}')\n",
    "print(f'\\tp-val: {pear[1]:.2e}')"
   ]
  },
  {
   "cell_type": "markdown",
   "metadata": {},
   "source": [
    "#### Discussion\n",
    "There is a statistically significant indirect correlation between being a male and survival. Our model should include whether or not the passenger is male."
   ]
  },
  {
   "cell_type": "code",
   "execution_count": 25,
   "metadata": {},
   "outputs": [
    {
     "data": {
      "text/plain": [
       "['male']"
      ]
     },
     "execution_count": 25,
     "metadata": {},
     "output_type": "execute_result"
    }
   ],
   "source": [
    "model.append('male')\n",
    "model"
   ]
  },
  {
   "cell_type": "markdown",
   "metadata": {},
   "source": [
    "# BY PORT of EMBARKATION\n"
   ]
  },
  {
   "cell_type": "markdown",
   "metadata": {},
   "source": [
    "An exploration is made into the correlation and significance of port of embarkation on surviving the shipwreck. We define a list of all ports"
   ]
  },
  {
   "cell_type": "code",
   "execution_count": 26,
   "metadata": {},
   "outputs": [
    {
     "data": {
      "text/plain": [
       "array(['S', 'C', 'Q'], dtype=object)"
      ]
     },
     "execution_count": 26,
     "metadata": {},
     "output_type": "execute_result"
    }
   ],
   "source": [
    "ports = df['Embarked'].unique()\n",
    "ports"
   ]
  },
  {
   "cell_type": "code",
   "execution_count": 27,
   "metadata": {
    "scrolled": false
   },
   "outputs": [
    {
     "name": "stdout",
     "output_type": "stream",
     "text": [
      "Survival rate of:\n",
      "\tS: 0.34\n",
      "\tC: 0.55\n",
      "\tQ: 0.39\n"
     ]
    }
   ],
   "source": [
    "# Now we calculate and print the survival rate of passengers vs where the boarded.\n",
    "byport = np.zeros((len(ports),2))\n",
    "byport\n",
    "for i in range(0,len(ports)):\n",
    "    byport[i] = df[df['Embarked'] == ports[i]]['Survived'].value_counts().sort_index()\n",
    "print('Survival rate of:')\n",
    "for i in range(0,len(ports)):\n",
    "    print(f'\\t{ports[i]}: {byport[i][1]/np.sum(byport[i]):.2f}')"
   ]
  },
  {
   "cell_type": "code",
   "execution_count": 28,
   "metadata": {},
   "outputs": [
    {
     "data": {
      "image/png": "[encoded data removed]",
      "text/plain": [
       "<Figure size 720x576 with 1 Axes>"
      ]
     },
     "metadata": {
      "needs_background": "light"
     },
     "output_type": "display_data"
    }
   ],
   "source": [
    "# Visualizing these rates\n",
    "labels = ['No Survive', 'Survive']\n",
    "S = byport[0]\n",
    "C = byport[1]\n",
    "Q = byport[2]\n",
    "\n",
    "x = np.arange(len(labels))  # the label locations\n",
    "width = 0.2  # the width of the bars\n",
    "\n",
    "fig, ax = plt.subplots(figsize=(10,8))\n",
    "rects1 = ax.bar(x - width, S, width, label='Southampton')\n",
    "rects2 = ax.bar(x , C, width, label='Cherbourg')\n",
    "rects3 = ax.bar(x + width, Q, width, label='Queenstown')\n",
    "\n",
    "\n",
    "# Add some text for labels, title and custom x-axis tick labels, etc.\n",
    "ax.set_ylabel('Passengers')\n",
    "ax.set_title('Survival by Port')\n",
    "ax.set_xticks(x)\n",
    "ax.set_ylim(0,500)\n",
    "ax.set_xticklabels(labels)\n",
    "ax.legend()\n",
    "\n",
    "autolabel(rects1)\n",
    "autolabel(rects2)\n",
    "autolabel(rects3)\n",
    "\n",
    "plt.show()"
   ]
  },
  {
   "cell_type": "code",
   "execution_count": 29,
   "metadata": {
    "scrolled": false
   },
   "outputs": [
    {
     "data": {
      "image/png": "[encoded data removed]",
      "text/plain": [
       "<Figure size 720x576 with 1 Axes>"
      ]
     },
     "metadata": {
      "needs_background": "light"
     },
     "output_type": "display_data"
    }
   ],
   "source": [
    "# Now we do the same for the rate of surviving at each port.\n",
    "labels = ['No Survive', 'Survive']\n",
    "S = np.round(byport[0]/np.sum(byport[0]),2)\n",
    "C = np.round(byport[1]/np.sum(byport[1]),2)\n",
    "Q = np.round(byport[2]/np.sum(byport[2]),2)\n",
    "\n",
    "x = np.arange(len(labels))  # the label locations\n",
    "width = 0.2  # the width of the bars\n",
    "\n",
    "fig, ax = plt.subplots(figsize=(10,8))\n",
    "rects1 = ax.bar(x - width, S, width, label='Southampton')\n",
    "rects2 = ax.bar(x , C, width, label='Cherbourg')\n",
    "rects3 = ax.bar(x + width, Q, width, label='Queenstown')\n",
    "\n",
    "\n",
    "# Add some text for labels, title and custom x-axis tick labels, etc.\n",
    "ax.set_ylabel('rate')\n",
    "ax.set_title('Survival by Port')\n",
    "ax.set_xticks(x)\n",
    "ax.set_ylim(0,1)\n",
    "ax.set_xticklabels(labels)\n",
    "ax.legend()\n",
    "\n",
    "autolabel(rects1)\n",
    "autolabel(rects2)\n",
    "autolabel(rects3)\n",
    "\n",
    "plt.show()"
   ]
  },
  {
   "cell_type": "markdown",
   "metadata": {},
   "source": [
    "These are great pictures, but do they mean anything significant? Now I calculate the Pearson R correlation for the relationship between port and surviving."
   ]
  },
  {
   "cell_type": "code",
   "execution_count": 30,
   "metadata": {},
   "outputs": [
    {
     "name": "stdout",
     "output_type": "stream",
     "text": [
      "Embarked Q:\n",
      "\tcorr 3.650e-03\n",
      "\tp-value 9.134e-01\n",
      "\n",
      "Embarked S:\n",
      "\tcorr -1.497e-01\n",
      "\tp-value 7.223e-06\n",
      "\n"
     ]
    }
   ],
   "source": [
    "portdum = pd.get_dummies(df['Embarked'])\n",
    "ports = np.array(portdum.columns)\n",
    "X = np.array(portdum)\n",
    "for i in range(0,3):\n",
    "    if stats.pearsonr(X[:,i],y)[0] < 0.05:\n",
    "        print(f'Embarked {ports[i]}:')\n",
    "        print(f'\\tcorr {stats.pearsonr(X[:,i],y)[0]:.3e}')\n",
    "        print(f'\\tp-value {stats.pearsonr(X[:,i],y)[1]:.3e}')\n",
    "        model.append(f'port_{ports[i]}')\n",
    "        print()"
   ]
  },
  {
   "cell_type": "markdown",
   "metadata": {},
   "source": [
    "#### Discussion\n",
    "These values suggest that embarking at Cherbourg has a statistically significant direct correlation with surviving. Southampton has a similar indirect correlation. There is no statisically significant correlation between embarking at Queenstown and survival. Our model should include whether the passenger embarked at Cherbourg or Southampton."
   ]
  },
  {
   "cell_type": "code",
   "execution_count": 31,
   "metadata": {},
   "outputs": [
    {
     "data": {
      "text/plain": [
       "['male', 'port_Q', 'port_S']"
      ]
     },
     "execution_count": 31,
     "metadata": {},
     "output_type": "execute_result"
    }
   ],
   "source": [
    "model"
   ]
  },
  {
   "cell_type": "markdown",
   "metadata": {},
   "source": [
    "# BY DECK"
   ]
  },
  {
   "cell_type": "markdown",
   "metadata": {},
   "source": [
    "Each cabin number is prefixed with a letter which indicates on which deck the passenger's cabin was. The cabin of all passengers is not known so for those without a known cabin(and deck) number we will create a group."
   ]
  },
  {
   "cell_type": "code",
   "execution_count": 32,
   "metadata": {
    "scrolled": true
   },
   "outputs": [
    {
     "data": {
      "text/html": [
       "<div>\n",
       "<style scoped>\n",
       "    .dataframe tbody tr th:only-of-type {\n",
       "        vertical-align: middle;\n",
       "    }\n",
       "\n",
       "    .dataframe tbody tr th {\n",
       "        vertical-align: top;\n",
       "    }\n",
       "\n",
       "    .dataframe thead th {\n",
       "        text-align: right;\n",
       "    }\n",
       "</style>\n",
       "<table border=\"1\" class=\"dataframe\">\n",
       "  <thead>\n",
       "    <tr style=\"text-align: right;\">\n",
       "      <th></th>\n",
       "      <th>Cabin</th>\n",
       "      <th>Survived</th>\n",
       "    </tr>\n",
       "  </thead>\n",
       "  <tbody>\n",
       "    <tr>\n",
       "      <th>0</th>\n",
       "      <td>NaN</td>\n",
       "      <td>0</td>\n",
       "    </tr>\n",
       "    <tr>\n",
       "      <th>1</th>\n",
       "      <td>C85</td>\n",
       "      <td>1</td>\n",
       "    </tr>\n",
       "    <tr>\n",
       "      <th>2</th>\n",
       "      <td>NaN</td>\n",
       "      <td>1</td>\n",
       "    </tr>\n",
       "    <tr>\n",
       "      <th>3</th>\n",
       "      <td>C123</td>\n",
       "      <td>1</td>\n",
       "    </tr>\n",
       "    <tr>\n",
       "      <th>4</th>\n",
       "      <td>NaN</td>\n",
       "      <td>0</td>\n",
       "    </tr>\n",
       "  </tbody>\n",
       "</table>\n",
       "</div>"
      ],
      "text/plain": [
       "  Cabin  Survived\n",
       "0   NaN         0\n",
       "1   C85         1\n",
       "2   NaN         1\n",
       "3  C123         1\n",
       "4   NaN         0"
      ]
     },
     "execution_count": 32,
     "metadata": {},
     "output_type": "execute_result"
    }
   ],
   "source": [
    "df.loc[:,['Cabin','Survived']][0:5]"
   ]
  },
  {
   "cell_type": "code",
   "execution_count": 33,
   "metadata": {},
   "outputs": [
    {
     "name": "stdout",
     "output_type": "stream",
     "text": [
      "['?' 'A' 'B' 'C' 'D' 'E' 'F' 'G' 'T']\n"
     ]
    },
    {
     "data": {
      "text/html": [
       "<div>\n",
       "<style scoped>\n",
       "    .dataframe tbody tr th:only-of-type {\n",
       "        vertical-align: middle;\n",
       "    }\n",
       "\n",
       "    .dataframe tbody tr th {\n",
       "        vertical-align: top;\n",
       "    }\n",
       "\n",
       "    .dataframe thead th {\n",
       "        text-align: right;\n",
       "    }\n",
       "</style>\n",
       "<table border=\"1\" class=\"dataframe\">\n",
       "  <thead>\n",
       "    <tr style=\"text-align: right;\">\n",
       "      <th></th>\n",
       "      <th>deck</th>\n",
       "      <th>Survived</th>\n",
       "    </tr>\n",
       "  </thead>\n",
       "  <tbody>\n",
       "    <tr>\n",
       "      <th>0</th>\n",
       "      <td>?</td>\n",
       "      <td>0</td>\n",
       "    </tr>\n",
       "    <tr>\n",
       "      <th>1</th>\n",
       "      <td>C</td>\n",
       "      <td>1</td>\n",
       "    </tr>\n",
       "    <tr>\n",
       "      <th>2</th>\n",
       "      <td>?</td>\n",
       "      <td>1</td>\n",
       "    </tr>\n",
       "    <tr>\n",
       "      <th>3</th>\n",
       "      <td>C</td>\n",
       "      <td>1</td>\n",
       "    </tr>\n",
       "    <tr>\n",
       "      <th>4</th>\n",
       "      <td>?</td>\n",
       "      <td>0</td>\n",
       "    </tr>\n",
       "  </tbody>\n",
       "</table>\n",
       "</div>"
      ],
      "text/plain": [
       "  deck  Survived\n",
       "0    ?         0\n",
       "1    C         1\n",
       "2    ?         1\n",
       "3    C         1\n",
       "4    ?         0"
      ]
     },
     "execution_count": 33,
     "metadata": {},
     "output_type": "execute_result"
    }
   ],
   "source": [
    "# Replace NaN with '??' to indicate that the cabin number and deck for this passenger is unknown.\n",
    "df['Cabin'].replace(np.nan,'??',inplace=True)\n",
    "\n",
    "# A function to return which deck the passenger was on.\n",
    "def get_deck(cabin):\n",
    "    return str(cabin)[0]\n",
    "\n",
    "df['deck'] = df['Cabin'].apply(get_deck)\n",
    "decks = df['deck'].unique()\n",
    "decks.sort()\n",
    "print(decks)\n",
    "df.loc[:,['deck','Survived']][0:5]"
   ]
  },
  {
   "cell_type": "markdown",
   "metadata": {
    "scrolled": true
   },
   "source": [
    "Now we have a list of all decks. Let's look into how this variable effects survival."
   ]
  },
  {
   "cell_type": "code",
   "execution_count": 34,
   "metadata": {
    "scrolled": true
   },
   "outputs": [
    {
     "name": "stdout",
     "output_type": "stream",
     "text": [
      "Survival rate of:\n",
      "? 687.00\n",
      "A 15.00\n",
      "B 47.00\n",
      "C 59.00\n",
      "D 33.00\n",
      "E 32.00\n",
      "F 13.00\n",
      "G 4.00\n",
      "T 1.00\n"
     ]
    }
   ],
   "source": [
    "# Initialize an array\n",
    "bydeck = np.zeros((len(decks),2))\n",
    "\n",
    "# Loop through all decks and calculate number of survivors on each.\n",
    "for i in range(0,len(decks)):\n",
    "    if len(df[df['deck'] == decks[i]]['Survived']) > 1: # Did anyone survive on the deck?\n",
    "        bydeck[i] = df[df['deck'] == decks[i]]['Survived'].value_counts().sort_index()\n",
    "    elif df[df['deck'] == decks[8]]['Survived'].value_counts().index[0] == 0: # if no one survived, return 0\n",
    "        bydeck[i] = [df[df['deck'] == decks[8]]['Survived'].value_counts(),0]\n",
    "\n",
    "print('Survival rate of:')\n",
    "for i in range(0,len(decks)):\n",
    "    print(f'{decks[i]} {np.sum(bydeck[i]):.2f}')"
   ]
  },
  {
   "cell_type": "markdown",
   "metadata": {},
   "source": [
    "The printout is informative, but not as revealing as a graph. Let's draw some axes."
   ]
  },
  {
   "cell_type": "code",
   "execution_count": 35,
   "metadata": {},
   "outputs": [
    {
     "data": {
      "image/png": "[encoded data removed]",
      "text/plain": [
       "<Figure size 1152x648 with 1 Axes>"
      ]
     },
     "metadata": {
      "needs_background": "light"
     },
     "output_type": "display_data"
    }
   ],
   "source": [
    "labels = ['No Survive', 'Survive']\n",
    "\n",
    "x = np.arange(0,2)  # the label locations\n",
    "width = 0.5  # the width of the bars\n",
    "\n",
    "fig, ax = plt.subplots(figsize=(16,9))\n",
    "\n",
    "for i in range(1,len(decks)):\n",
    "    b = ax.bar(x + (i-5)*width/5, bydeck[i], width/5, label=decks[i])\n",
    "    autolabel(b)\n",
    "\n",
    "# Add some text for labels, title and custom x-axis tick labels, etc.\n",
    "ax.set_ylabel('Passengers')\n",
    "ax.set_title('Survival by Deck')\n",
    "ax.set_xticks(x)\n",
    "#ax.set_ylim(0,505)\n",
    "ax.set_xticklabels(labels)\n",
    "ax.legend()\n",
    "\n",
    "plt.show()"
   ]
  },
  {
   "cell_type": "code",
   "execution_count": 36,
   "metadata": {},
   "outputs": [
    {
     "name": "stdout",
     "output_type": "stream",
     "text": [
      "colors: 18\n"
     ]
    }
   ],
   "source": [
    "# A snippet to generate distinct colors for our bars.\n",
    "import colorsys\n",
    "N = 2*len(np.unique(decks))\n",
    "print('colors: {}'.format(N))\n",
    "rgb_list = []\n",
    "HSV_tuples = []\n",
    "for x in range(1,N+1):\n",
    "    if (x%2 == 0):\n",
    "        HSV_tuples.append(((x-1)*1.0/N, 1.0, 0.325))\n",
    "    else:\n",
    "        HSV_tuples.append((x*1.0/N, 1.0, 0.75))\n",
    "RGB_tuples = map(lambda x: colorsys.hsv_to_rgb(*x), HSV_tuples)\n",
    "for rgb in RGB_tuples:\n",
    "        color = [int(255*rgb[0]),int(255*rgb[1]),int(255*rgb[2])]\n",
    "        hxstr = '#'\n",
    "        for c in color:\n",
    "            hxstr = hxstr + '{0:0{1}X}'.format(c,2)\n",
    "        rgb_list.append(hxstr)    \n"
   ]
  },
  {
   "cell_type": "markdown",
   "metadata": {},
   "source": [
    "Let's also visualize survival rate per deck."
   ]
  },
  {
   "cell_type": "code",
   "execution_count": 37,
   "metadata": {
    "scrolled": false
   },
   "outputs": [
    {
     "data": {
      "image/png": "[encoded data removed]",
      "text/plain": [
       "<Figure size 1152x648 with 1 Axes>"
      ]
     },
     "metadata": {
      "needs_background": "light"
     },
     "output_type": "display_data"
    }
   ],
   "source": [
    "x = np.arange(-2.0,2.0)  # the label locations\n",
    "width = 5.0  # the width of the bars\n",
    "\n",
    "fig, ax = plt.subplots(figsize=(16,9))\n",
    "rects = []\n",
    "for i in range(0,len(decks)):\n",
    "    b = plt.barh(i, np.round(bydeck[i,1]/np.sum(bydeck[i]),2), width/5, label=decks[i],color=rgb_list[2*i])\n",
    "    nb = plt.barh(i, -np.round(bydeck[i,0]/np.sum(bydeck[i]),2), width/5, label=decks[i],color=rgb_list[2*i+1])\n",
    "    plt.annotate(f'N = {str(int(np.sum(bydeck[i])))}',xy=[-0.20,i-0.1],c='white')\n",
    "    rects.append(b)\n",
    "ax.set_xlabel('\\nDeath                                                        Survival\\nRate')\n",
    "ax.set_ylabel('Deck')\n",
    "ax.set_title('Survival by Deck')\n",
    "ax.set_yticks(range(0,9))\n",
    "ax.set_xlim(-1.1,1.1)\n",
    "ax.set_yticklabels(decks)\n",
    "ax.grid(axis='x')\n",
    "plt.show()"
   ]
  },
  {
   "cell_type": "markdown",
   "metadata": {},
   "source": [
    "It looks like if the deck is known, seems to indicate that the passenger survived. In fact, I would say that if the deck is unknown there is a significant chance the passenger did not survive. To validate my claim, the Pearson r is calculated."
   ]
  },
  {
   "cell_type": "code",
   "execution_count": 38,
   "metadata": {
    "scrolled": false
   },
   "outputs": [
    {
     "name": "stdout",
     "output_type": "stream",
     "text": [
      "Significance  p < 0.05\n",
      "==========================\n",
      "Deck ? \n",
      "\tcorr -0.317\n",
      "\tp-value 3.091e-22\n",
      "\tSignificant: True\n",
      "+------------------------+\n",
      "Deck B \n",
      "\tcorr 0.175\n",
      "\tp-value 1.442e-07\n",
      "\tSignificant: True\n",
      "+------------------------+\n",
      "Deck C \n",
      "\tcorr 0.115\n",
      "\tp-value 6.062e-04\n",
      "\tSignificant: True\n",
      "+------------------------+\n",
      "Deck D \n",
      "\tcorr 0.151\n",
      "\tp-value 6.233e-06\n",
      "\tSignificant: True\n",
      "+------------------------+\n",
      "Deck E \n",
      "\tcorr 0.145\n",
      "\tp-value 1.332e-05\n",
      "\tSignificant: True\n",
      "+------------------------+\n"
     ]
    }
   ],
   "source": [
    "# Translate the categorical deck values into numeric types\n",
    "deckdum = pd.get_dummies(df['deck'])\n",
    "decks = np.array(deckdum.columns)\n",
    "\n",
    "#Define input (y is still survivors)\n",
    "X = np.array(deckdum)\n",
    "\n",
    "# Loop through decks and check for correlation\n",
    "print('Significance  p < 0.05')\n",
    "print('==========================')\n",
    "for i in range(0,len(decks)):\n",
    "    pr = stats.pearsonr(X[:,i],y)\n",
    "    significant = ( pr[1] < 0.05)\n",
    "    if significant: # if a significant correlation is found, do stuff\n",
    "        print(f'Deck {decks[i]} ')\n",
    "        print(f'\\tcorr {pr[0]:.3f}')\n",
    "        print(f'\\tp-value {pr[1]:.3e}')\n",
    "        print(f'\\tSignificant: {significant}')\n",
    "        model.append(f'deck_{decks[i]}')\n",
    "        print('+------------------------+')"
   ]
  },
  {
   "cell_type": "markdown",
   "metadata": {},
   "source": [
    "#### Discussion\n",
    "There is a statistically significant correlation between staying on Deck B, C, D, E and survival. Conversely, if the deck of the passenger is unknown there is a stronger correlation with not surviving. There is no significant correlation for the other decks A, F, G, & T. The significant decks should be included in our model."
   ]
  },
  {
   "cell_type": "code",
   "execution_count": 39,
   "metadata": {},
   "outputs": [
    {
     "data": {
      "text/plain": [
       "['male', 'port_Q', 'port_S', 'deck_?', 'deck_B', 'deck_C', 'deck_D', 'deck_E']"
      ]
     },
     "execution_count": 39,
     "metadata": {},
     "output_type": "execute_result"
    }
   ],
   "source": [
    "model"
   ]
  },
  {
   "cell_type": "markdown",
   "metadata": {},
   "source": [
    "# BY AGE"
   ]
  },
  {
   "cell_type": "markdown",
   "metadata": {},
   "source": [
    "Since we filled in the missing age values, everyone on board now has an age value. Let's visualize the age distribution and investigate different age groups for correlation with surviving the disaster.\n",
    "\n",
    "Let's make a histogram."
   ]
  },
  {
   "cell_type": "code",
   "execution_count": 40,
   "metadata": {
    "scrolled": false
   },
   "outputs": [
    {
     "data": {
      "image/png": "[encoded data removed]",
      "text/plain": [
       "<Figure size 576x432 with 1 Axes>"
      ]
     },
     "metadata": {
      "needs_background": "light"
     },
     "output_type": "display_data"
    }
   ],
   "source": [
    "# Defining some parameters for our histogram\n",
    "nbins = 20 # The number of bins in our histogram. More on this later.\n",
    "ylim = df['Age'].max() # Maximum value for the histogram's x-axis\n",
    "binwidth= ylim/nbins # The width of each bin\n",
    "\n",
    "bins = np.arange(0,ylim,binwidth) # An array of evenly spaced bins \"binwidth\" apart from 0 to 80 years of age.\n",
    "\n",
    "\n",
    "thedigital = np.digitize(df['Age'],bins,right=True) # assign each age to a bin\n",
    "thecount = np.bincount(thedigital) # Count the members in each bin\n",
    "\n",
    "# Create some axes\n",
    "plt.figure(figsize=(8,6))\n",
    "plt.bar(bins+binwidth/2,thecount[1:],width=binwidth*0.95)\n",
    "plt.xticks(np.arange(0,88,8))\n",
    "plt.title('Passenger Age Distibution')\n",
    "plt.ylabel('Frequency')\n",
    "plt.xlabel('Age (years)')\n",
    "plt.savefig('./agedist.png',bbox_inches='tight',dpi=300)\n",
    "plt.show()"
   ]
  },
  {
   "cell_type": "markdown",
   "metadata": {},
   "source": [
    "Let's calculate some descriptive statistics for discussion."
   ]
  },
  {
   "cell_type": "code",
   "execution_count": 41,
   "metadata": {},
   "outputs": [
    {
     "name": "stdout",
     "output_type": "stream",
     "text": [
      "nobs\t:\t891\n",
      "minmax\t:\t(0.42, 80.0)\n",
      "mean\t:\t29.6587537878343\n",
      "variance:\t195.21813648926403\n",
      "skewness:\t0.40027347598818325\n",
      "kurtosis:\t0.2648498026077948\n",
      "\n",
      "mode\t:\t29.0 (34)\n",
      "median\t:\t28.5\n",
      "Std.Dev\t:\t14.0\n",
      "\n",
      "IQR\t:\t16.3\n",
      "25%\t:\t21.5\n",
      "50%\t:\t29.7\n",
      "75%\t:\t37.8\n"
     ]
    }
   ],
   "source": [
    "desc = stats.describe(df['Age'])\n",
    "\n",
    "stats_ = ['nobs\\t','minmax\\t','mean\\t','variance','skewness','kurtosis']\n",
    "for i in range(0,len(stats_)):\n",
    "    print(f'{stats_[i]}:\\t{desc[i]}')\n",
    "\n",
    "mode = stats.mode(df['Age'])\n",
    "print(f'\\nmode\\t:\\t{mode[0][0]} ({mode[1][0]})')\n",
    "\n",
    "median = np.median(np.array(df['Age']))\n",
    "print(f'median\\t:\\t{median:.1f}')\n",
    "\n",
    "stdev= np.std(df['Age'])\n",
    "print(f'Std.Dev\\t:\\t{stdev:.1f}')\n",
    "\n",
    "IQR = stats.iqr(df['Age'])\n",
    "_25pct = desc[2] - IQR/2\n",
    "_50pct = desc[2]\n",
    "_75pct = desc[2] + IQR/2\n",
    "print(f'\\nIQR\\t:\\t{IQR:.1f}')\n",
    "print(f'25%\\t:\\t{_25pct:.1f}')\n",
    "print(f'50%\\t:\\t{_50pct:.1f}')\n",
    "print(f'75%\\t:\\t{_75pct:.1f}')"
   ]
  },
  {
   "cell_type": "markdown",
   "metadata": {},
   "source": [
    "This age distribution is bi-modal and skewed right with an IQR of 16.3. The center of the distribution lies between the mode (19) and the mean (30). \n",
    "\n",
    "Let's now visualize survival by age-group."
   ]
  },
  {
   "cell_type": "code",
   "execution_count": 42,
   "metadata": {
    "scrolled": false
   },
   "outputs": [
    {
     "data": {
      "image/png": "[encoded data removed]",
      "text/plain": [
       "<Figure size 1152x648 with 1 Axes>"
      ]
     },
     "metadata": {
      "needs_background": "light"
     },
     "output_type": "display_data"
    }
   ],
   "source": [
    "dig_sur = np.digitize(df[df['Survived'] == 1]['Age'],bins,right=True)\n",
    "freq_sur = np.bincount(dig_sur,minlength=len(bins)+1)\n",
    "\n",
    "dig_die = np.digitize(df[df['Survived'] == 0]['Age'],bins,right=True)\n",
    "freq_die = np.bincount(dig_die,minlength=len(bins)+1)\n",
    "\n",
    "xmax = freq_die.max()+5\n",
    "xlim = [-xmax,xmax]\n",
    "\n",
    "plt.figure(figsize=(16,9))\n",
    "plt.barh(bins+binwidth/2,freq_sur[1:],height=binwidth*0.9)\n",
    "plt.barh(bins+binwidth/2,-freq_die[1:],height=binwidth*0.9)\n",
    "plt.xlim(xlim)\n",
    "plt.yticks(np.arange(0,88,8))\n",
    "plt.title('Age groups on the RMS Titanic')\n",
    "plt.ylabel('Age')\n",
    "plt.xlabel('Lost                                     Saved\\nPassengers')\n",
    "\n",
    "plt.show()"
   ]
  },
  {
   "cell_type": "markdown",
   "metadata": {},
   "source": [
    "There are three groups that seem to have a correlation with surviving or not surviving. First, those between the ages of 0 and 7 seem to survive more often than not. This could be the result that young people take up less room on lifeboats and they're pretty cute. \n",
    "\n",
    "Second, is the group of people age 20-27. Their fate seems to be tragic. This age group appears to correlate with not surviving. It could be that these people are full-grown adults but may not have a family of their own yet and therefore a liability. I suspect that males in this age group have sour odds.\n",
    "\n",
    "Finally, the age group 36-44 also seems to correlate with not surviving. Perhaps this group of people has already raised their children who are now grown and independent. Obsolescence.\n",
    "\n",
    "Let's check the pearson scores against my interpretation of this graphic."
   ]
  },
  {
   "cell_type": "code",
   "execution_count": 43,
   "metadata": {},
   "outputs": [
    {
     "name": "stdout",
     "output_type": "stream",
     "text": [
      "[ 0  4  8 12 16 20 24 28 32 36 40 44 48 52 56 60 64 68 72 76]\n",
      "[[0 0 0 0 0 1 0 0 0 0 0 0 0 0 0 0 0 0 0 0 0]\n",
      " [0 0 0 0 0 0 0 0 0 1 0 0 0 0 0 0 0 0 0 0 0]\n",
      " [0 0 0 0 0 0 1 0 0 0 0 0 0 0 0 0 0 0 0 0 0]\n",
      " [0 0 0 0 0 0 0 0 1 0 0 0 0 0 0 0 0 0 0 0 0]\n",
      " [0 0 0 0 0 0 0 0 1 0 0 0 0 0 0 0 0 0 0 0 0]\n",
      " [0 0 0 0 0 0 0 0 0 0 0 0 1 0 0 0 0 0 0 0 0]\n",
      " [0 0 0 0 0 0 0 0 0 0 0 0 0 1 0 0 0 0 0 0 0]\n",
      " [1 0 0 0 0 0 0 0 0 0 0 0 0 0 0 0 0 0 0 0 0]\n",
      " [0 0 0 0 0 0 1 0 0 0 0 0 0 0 0 0 0 0 0 0 0]\n",
      " [0 0 0 1 0 0 0 0 0 0 0 0 0 0 0 0 0 0 0 0 0]]\n"
     ]
    }
   ],
   "source": [
    "# Initialize an array to hold which age group each passenger belongs to.\n",
    "age_arr = np.zeros((len(df),len(bins)+1))\n",
    "\n",
    "# Fill the array with the age group indicator for each passenger\n",
    "for i in range(0,len(df)):\n",
    "    for j in range(0,len(bins)):\n",
    "        if (df['Age'][i] > bins[j]) & (df['Age'][i] <= bins[j]+binwidth):\n",
    "            age_arr[i,j] = 1\n",
    "            break\n",
    "            \n",
    "# Let's have a look \n",
    "print(bins.astype(int))\n",
    "print(age_arr[0:10].astype(int))"
   ]
  },
  {
   "cell_type": "code",
   "execution_count": 44,
   "metadata": {},
   "outputs": [
    {
     "name": "stdout",
     "output_type": "stream",
     "text": [
      "i = 0\n",
      "Age 0.0 : 4.0 \n",
      "\tcorr 0.130\n",
      "\tp-value 1.021e-04\n",
      "\tSignificant: True\n",
      "\tPassengers: 40.0\n",
      "+------------------------+\n",
      "i = 8\n",
      "Age 32.0 : 36.0 \n",
      "\tcorr 0.066\n",
      "\tp-value 4.965e-02\n",
      "\tSignificant: True\n",
      "\tPassengers: 85.0\n",
      "+------------------------+\n",
      "125.0\n"
     ]
    },
    {
     "name": "stderr",
     "output_type": "stream",
     "text": [
      "/usr/pkg/lib/python3.8/site-packages/scipy/stats/stats.py:3845: PearsonRConstantInputWarning: An input array is constant; the correlation coefficent is not defined.\n",
      "  warnings.warn(PearsonRConstantInputWarning())\n"
     ]
    }
   ],
   "source": [
    "bins = np.arange(0,ylim,binwidth)\n",
    "X = age_arr\n",
    "total = 0\n",
    "for i in range(0,age_arr.shape[1]):\n",
    "    significant = False\n",
    "    if stats.pearsonr(X[:,i],y)[1] < 0.05:\n",
    "        significant = True\n",
    "        print(f'i = {i}')\n",
    "        print(f'Age {bins[i]:.1f} : {bins[i]+binwidth:.1f} ')\n",
    "        print(f'\\tcorr {stats.pearsonr(X[:,i],y)[0]:.3f}')\n",
    "        print(f'\\tp-value {stats.pearsonr(X[:,i],y)[1]:.3e}')\n",
    "        print(f'\\tSignificant: {significant}')\n",
    "        print(f'\\tPassengers: {np.sum(X[:,i])}')\n",
    "        model.append(f'{bins[i]:.0f}_{bins[i]+binwidth:.0f}')\n",
    "        total = total + np.sum(X[:,i])\n",
    "        print('+------------------------+')       \n",
    "\n",
    "print(total)"
   ]
  },
  {
   "cell_type": "markdown",
   "metadata": {},
   "source": [
    "#### Discussion\n",
    "\n",
    "There are two age groups that have a statistically significant correlation with survival on the RMS Titanic. Those age 0 - 9 are correlated with surviving. Those age 18-27 are correlated with not surviving. There are no other age groups that have a correlation at this confidence level."
   ]
  },
  {
   "cell_type": "code",
   "execution_count": 45,
   "metadata": {},
   "outputs": [
    {
     "data": {
      "text/plain": [
       "['male',\n",
       " 'port_Q',\n",
       " 'port_S',\n",
       " 'deck_?',\n",
       " 'deck_B',\n",
       " 'deck_C',\n",
       " 'deck_D',\n",
       " 'deck_E',\n",
       " '0_4',\n",
       " '32_36']"
      ]
     },
     "execution_count": 45,
     "metadata": {},
     "output_type": "execute_result"
    }
   ],
   "source": [
    "model"
   ]
  },
  {
   "cell_type": "markdown",
   "metadata": {},
   "source": [
    "# BY TICKET PREFIX"
   ]
  },
  {
   "cell_type": "markdown",
   "metadata": {},
   "source": [
    "Some tickets have a prefix. Maybe they mean something that could have an effect on whether or not the passenger survived. Let's peel off the prefixes and take a look."
   ]
  },
  {
   "cell_type": "code",
   "execution_count": 46,
   "metadata": {},
   "outputs": [],
   "source": [
    "def get_prefix(PD_SERIES):\n",
    "    splt = PD_SERIES.split(' ')\n",
    "    tmp = splt\n",
    "    if len(splt) > 1:      \n",
    "        tmp = splt[0]\n",
    "        tmp = tmp.replace('STON/O2','SOTON/O2')\n",
    "        tmp = tmp.replace('STON/O','SOTON/O2')\n",
    "        tmp = tmp.replace('O2.','O2')\n",
    "\n",
    "        tmp = tmp.upper()\n",
    "    else:\n",
    "        tmp = ''\n",
    "    return tmp"
   ]
  },
  {
   "cell_type": "code",
   "execution_count": 47,
   "metadata": {},
   "outputs": [
    {
     "data": {
      "text/plain": [
       "              665\n",
       "PC             60\n",
       "C.A.           27\n",
       "SOTON/O2       20\n",
       "A/5            10\n",
       "W./C.           9\n",
       "SC/PARIS        9\n",
       "SOTON/O.Q.      8\n",
       "CA.             8\n",
       "SOTON/OQ        7\n",
       "A/5.            7\n",
       "CA              6\n",
       "S.O.C.          5\n",
       "C               5\n",
       "F.C.C.          5\n",
       "A/4             3\n",
       "PP              3\n",
       "SC/AH           3\n",
       "S.O./P.P.       3\n",
       "A/4.            3\n",
       "WE/P            2\n",
       "S.C./PARIS      2\n",
       "P/PP            2\n",
       "A./5.           2\n",
       "A.5.            2\n",
       "S.O.P.          1\n",
       "W/C             1\n",
       "A/S             1\n",
       "F.C.            1\n",
       "S.C./A.4.       1\n",
       "C.A./SOTON      1\n",
       "SC              1\n",
       "W.E.P.          1\n",
       "S.W./PP         1\n",
       "A4.             1\n",
       "FA              1\n",
       "SO/C            1\n",
       "SCO/W           1\n",
       "S.P.            1\n",
       "SW/PP           1\n",
       "Name: Ticket, dtype: int64"
      ]
     },
     "execution_count": 47,
     "metadata": {},
     "output_type": "execute_result"
    }
   ],
   "source": [
    "df['Ticket'].apply(get_prefix).value_counts()\n"
   ]
  },
  {
   "cell_type": "markdown",
   "metadata": {},
   "source": [
    "#### Discussion\n",
    "\n",
    "This is a waste of time. There aren't enough passengers with any specific prefix to make any meaningful inference about the group."
   ]
  },
  {
   "cell_type": "markdown",
   "metadata": {},
   "source": [
    "# BY TITLE"
   ]
  },
  {
   "cell_type": "markdown",
   "metadata": {},
   "source": [
    "Each passenger has a title preceding his or her name. Perhaps the passenger's title is correlated with survival. We did find correlation for sex and age. This has an air of linear dependence, but let's look anyway."
   ]
  },
  {
   "cell_type": "code",
   "execution_count": 48,
   "metadata": {
    "scrolled": true
   },
   "outputs": [
    {
     "data": {
      "text/plain": [
       "Mr             517\n",
       "Miss           182\n",
       "Mrs            125\n",
       "Master          40\n",
       "Dr               7\n",
       "Rev              6\n",
       "Major            2\n",
       "Col              2\n",
       "Mlle             2\n",
       "Sir              1\n",
       "Don              1\n",
       "Jonkheer         1\n",
       "Mme              1\n",
       "Ms               1\n",
       "Capt             1\n",
       "theCountess      1\n",
       "Lady             1\n",
       "Name: title, dtype: int64"
      ]
     },
     "execution_count": 48,
     "metadata": {},
     "output_type": "execute_result"
    }
   ],
   "source": [
    "# Peel off and count titles\n",
    "df['title'] = df['Name'].apply(lambda x: x.split(',')[1].split('.')[0].replace(' ',''))\n",
    "df['title'].value_counts()"
   ]
  },
  {
   "cell_type": "code",
   "execution_count": 49,
   "metadata": {},
   "outputs": [
    {
     "data": {
      "text/plain": [
       "Mr             517\n",
       "Miss           185\n",
       "Mrs            127\n",
       "Master          40\n",
       "Prestigious     22\n",
       "Name: title, dtype: int64"
      ]
     },
     "execution_count": 49,
     "metadata": {},
     "output_type": "execute_result"
    }
   ],
   "source": [
    "# Group up some of the less common titles\n",
    "miss = ['Ms','Mlle']\n",
    "mrs = ['Mme', 'Lady']\n",
    "prestigious = ['Dr','Rev','Major','Col','Sir','theCountess','Capt','Jonkheer','Don']\n",
    "\n",
    "df['title'] = df['title'].replace(miss,'Miss')\n",
    "df['title'] = df['title'].replace(mrs,'Mrs')\n",
    "df['title'] = df['title'].replace(prestigious,'Prestigious')\n",
    "df['title'].value_counts()"
   ]
  },
  {
   "cell_type": "code",
   "execution_count": 50,
   "metadata": {},
   "outputs": [
    {
     "data": {
      "image/png": "[encoded data removed]",
      "text/plain": [
       "<Figure size 1152x648 with 1 Axes>"
      ]
     },
     "metadata": {
      "needs_background": "light"
     },
     "output_type": "display_data"
    }
   ],
   "source": [
    "# Creating an array to hold the titles and whether or not they surived.\n",
    "titles = df['title'].value_counts().index.tolist()\n",
    "bytitle = np.zeros((len(titles),2))\n",
    "# Populate the array\n",
    "for i in range(0,len(titles)):\n",
    "    bytitle[i] = df[df['title'] == titles[i]]['Survived'].value_counts().sort_index()\n",
    "\n",
    "### Visualizing survival vs title\n",
    "\n",
    "#Define some parameters for the graph\n",
    "x = np.arange(-2.0,2.0)  # the label locations\n",
    "width = 5.0  # the width of the bars\n",
    "\n",
    "# Create some axes\n",
    "fig, ax = plt.subplots(figsize=(16,9))\n",
    "rects = []\n",
    "# PLOT!\n",
    "for i in range(0,len(titles)):\n",
    "    b = plt.barh(i, np.round(bytitle[i,1]/np.sum(bytitle[i]),2), width/5, label=titles[i],color=rgb_list[2*i])\n",
    "    nb = plt.barh(i, -np.round(bytitle[i,0]/np.sum(bytitle[i]),2), width/5, label=titles[i],color=rgb_list[2*i+1])\n",
    "    rects.append(b)\n",
    "    plt.annotate(f'N = {str(int(np.sum(bytitle[i])))}',xy=[-0.18,i-0.1],c='white')\n",
    "ax.set_xlabel('\\nNo Survival                                                        Survival\\nRate')\n",
    "ax.set_ylabel('Title')\n",
    "ax.set_title('Survival by Title')\n",
    "ax.set_yticks(range(0,len(titles)))\n",
    "ax.set_xlim(-1.1,1.1)\n",
    "ax.set_yticklabels(titles)\n",
    "ax.grid(axis='x')\n",
    "plt.show()"
   ]
  },
  {
   "cell_type": "markdown",
   "metadata": {},
   "source": [
    "It appears that there is no correlation with having a prestigious title and surviving or not. Also it appears that having any title except Mr. is correlated with surviving. Mr is strongly correlated with drowning/hypothermia. Let's calculate the pearson R for confirmation."
   ]
  },
  {
   "cell_type": "code",
   "execution_count": 51,
   "metadata": {
    "scrolled": false
   },
   "outputs": [
    {
     "data": {
      "text/plain": [
       "array([[1., 0., 0., 0., 0.],\n",
       "       [0., 0., 1., 0., 0.],\n",
       "       [0., 1., 0., 0., 0.],\n",
       "       [0., 0., 1., 0., 0.],\n",
       "       [1., 0., 0., 0., 0.]])"
      ]
     },
     "execution_count": 51,
     "metadata": {},
     "output_type": "execute_result"
    }
   ],
   "source": [
    "# Prepare an array to hold our data\n",
    "tit_arr = np.zeros((len(df),len(titles)))\n",
    "\n",
    "# Populate array with title indicators\n",
    "for i in range(0,len(df)):\n",
    "    for j in range(0,len(titles)):\n",
    "        if df['title'][i] == titles[j]:\n",
    "            tit_arr[i,j] = 1\n",
    "            break\n",
    "tit_arr[0:5]"
   ]
  },
  {
   "cell_type": "code",
   "execution_count": 52,
   "metadata": {},
   "outputs": [
    {
     "name": "stdout",
     "output_type": "stream",
     "text": [
      "i = 0\n",
      "Title Mr \n",
      "\tcorr -0.55\n",
      "\tp-value 2.4e-71\n",
      "\tSignificant: True\n",
      "\tPassengers: 517.0\n",
      "+------------------------+\n",
      "i = 1\n",
      "Title Miss \n",
      "\tcorr 0.34\n",
      "\tp-value 6.7e-25\n",
      "\tSignificant: True\n",
      "\tPassengers: 185.0\n",
      "+------------------------+\n",
      "i = 2\n",
      "Title Mrs \n",
      "\tcorr 0.34\n",
      "\tp-value 2.7e-26\n",
      "\tSignificant: True\n",
      "\tPassengers: 127.0\n",
      "+------------------------+\n",
      "i = 3\n",
      "Title Master \n",
      "\tcorr 0.09\n",
      "\tp-value 1.1e-02\n",
      "\tSignificant: True\n",
      "\tPassengers: 40.0\n",
      "+------------------------+\n",
      "869.0\n"
     ]
    }
   ],
   "source": [
    "# Here I loop through the title array.\n",
    "# Each title is checked for correlation with the Survived variable.\n",
    "\n",
    "X = tit_arr\n",
    "total = 0\n",
    "for i in range(0,tit_arr.shape[1]):\n",
    "    significant = False\n",
    "    if stats.pearsonr(X[:,i],y)[1] < 0.05:\n",
    "        significant = True\n",
    "        print(f'i = {i}')\n",
    "        print(f'Title {titles[i]} ')\n",
    "        print(f'\\tcorr {stats.pearsonr(X[:,i],y)[0]:.2f}')\n",
    "        print(f'\\tp-value {stats.pearsonr(X[:,i],y)[1]:.1e}')\n",
    "        print(f'\\tSignificant: {significant}')\n",
    "        print(f'\\tPassengers: {np.sum(X[:,i])}')\n",
    "        model.append(f'{titles[i]}')\n",
    "        total = total + np.sum(X[:,i])\n",
    "        print('+------------------------+')       \n",
    "\n",
    "print(total)"
   ]
  },
  {
   "cell_type": "code",
   "execution_count": 53,
   "metadata": {},
   "outputs": [
    {
     "data": {
      "text/plain": [
       "['male',\n",
       " 'port_Q',\n",
       " 'port_S',\n",
       " 'deck_?',\n",
       " 'deck_B',\n",
       " 'deck_C',\n",
       " 'deck_D',\n",
       " 'deck_E',\n",
       " '0_4',\n",
       " '32_36',\n",
       " 'Mr',\n",
       " 'Miss',\n",
       " 'Mrs',\n",
       " 'Master']"
      ]
     },
     "execution_count": 53,
     "metadata": {},
     "output_type": "execute_result"
    }
   ],
   "source": [
    "model"
   ]
  },
  {
   "cell_type": "markdown",
   "metadata": {},
   "source": [
    "# BY SIBSP"
   ]
  },
  {
   "cell_type": "code",
   "execution_count": 54,
   "metadata": {},
   "outputs": [
    {
     "data": {
      "text/plain": [
       "[608, 209, 28, 16, 18, 5, 7]"
      ]
     },
     "execution_count": 54,
     "metadata": {},
     "output_type": "execute_result"
    }
   ],
   "source": [
    "df['SibSp'].value_counts().sort_index().tolist()"
   ]
  },
  {
   "cell_type": "code",
   "execution_count": 55,
   "metadata": {},
   "outputs": [],
   "source": [
    "sbsps = np.array(df['SibSp'].value_counts().sort_index().index)\n",
    "bysbsp = np.zeros([len(sbsps),2])\n",
    "for i in range(0,len(sbsps)):\n",
    "    bysbsp[i] = df[df['SibSp'] == sbsps[i]]['Survived'].value_counts().sort_index()"
   ]
  },
  {
   "cell_type": "code",
   "execution_count": 56,
   "metadata": {},
   "outputs": [
    {
     "name": "stdout",
     "output_type": "stream",
     "text": [
      "Survival rate of SibSp\n",
      "\t = 0: 0.35\n",
      "\t = 1: 0.54\n",
      "\t = 2: 0.46\n",
      "\t = 3: 0.25\n",
      "\t = 4: 0.17\n",
      "\t = 5: 0.50\n",
      "\t = 8: 0.50\n"
     ]
    }
   ],
   "source": [
    "print('Survival rate of SibSp')\n",
    "for i in range(0,len(sbsps)):\n",
    "    print(f'\\t = {sbsps[i]}: {bysbsp[i][1]/np.sum(bysbsp[i]):.2f}')"
   ]
  },
  {
   "cell_type": "code",
   "execution_count": 57,
   "metadata": {},
   "outputs": [
    {
     "data": {
      "text/plain": [
       "array([[0., 1., 0., 0., 0., 0., 0.],\n",
       "       [0., 1., 0., 0., 0., 0., 0.],\n",
       "       [1., 0., 0., 0., 0., 0., 0.],\n",
       "       [0., 1., 0., 0., 0., 0., 0.],\n",
       "       [1., 0., 0., 0., 0., 0., 0.]])"
      ]
     },
     "execution_count": 57,
     "metadata": {},
     "output_type": "execute_result"
    }
   ],
   "source": [
    "ssp_arr = np.zeros((len(df),len(sbsps)))\n",
    "for i in range(0,len(df)):\n",
    "    for j in range(0,len(sbsps)):\n",
    "        if df['SibSp'][i] == sbsps[j]:\n",
    "            ssp_arr[i,j] = 1\n",
    "            break\n",
    "ssp_arr[0:5]"
   ]
  },
  {
   "cell_type": "code",
   "execution_count": 58,
   "metadata": {},
   "outputs": [
    {
     "name": "stdout",
     "output_type": "stream",
     "text": [
      "i = 0\n",
      "SibSp: 0 \n",
      "\tcorr -0.12\n",
      "\tp-value 5.3e-04\n",
      "\tSignificant: True\n",
      "\tPassengers: 608.0\n",
      "+------------------------+\n",
      "i = 1\n",
      "SibSp: 1 \n",
      "\tcorr 0.17\n",
      "\tp-value 2.0e-07\n",
      "\tSignificant: True\n",
      "\tPassengers: 209.0\n",
      "+------------------------+\n",
      "i = 6\n",
      "SibSp: 8 \n",
      "\tcorr -0.07\n",
      "\tp-value 3.6e-02\n",
      "\tSignificant: True\n",
      "\tPassengers: 7.0\n",
      "+------------------------+\n",
      "824.0\n"
     ]
    }
   ],
   "source": [
    "X = ssp_arr\n",
    "total = 0\n",
    "for i in range(0,ssp_arr.shape[1]):\n",
    "    significant = False\n",
    "    if stats.pearsonr(X[:,i],y)[1] < 0.05:\n",
    "        significant = True\n",
    "        print(f'i = {i}')\n",
    "        print(f'SibSp: {sbsps[i]} ')\n",
    "        print(f'\\tcorr {stats.pearsonr(X[:,i],y)[0]:.2f}')\n",
    "        print(f'\\tp-value {stats.pearsonr(X[:,i],y)[1]:.1e}')\n",
    "        print(f'\\tSignificant: {significant}')\n",
    "        print(f'\\tPassengers: {np.sum(X[:,i])}')\n",
    "        model.append(f'sbsp_{sbsps[i]}')\n",
    "        total = total + np.sum(X[:,i])\n",
    "        print('+------------------------+')       \n",
    "\n",
    "print(total)"
   ]
  },
  {
   "cell_type": "code",
   "execution_count": 59,
   "metadata": {},
   "outputs": [
    {
     "data": {
      "text/plain": [
       "['male',\n",
       " 'port_Q',\n",
       " 'port_S',\n",
       " 'deck_?',\n",
       " 'deck_B',\n",
       " 'deck_C',\n",
       " 'deck_D',\n",
       " 'deck_E',\n",
       " '0_4',\n",
       " '32_36',\n",
       " 'Mr',\n",
       " 'Miss',\n",
       " 'Mrs',\n",
       " 'Master',\n",
       " 'sbsp_0',\n",
       " 'sbsp_1',\n",
       " 'sbsp_8']"
      ]
     },
     "execution_count": 59,
     "metadata": {},
     "output_type": "execute_result"
    }
   ],
   "source": [
    "model"
   ]
  },
  {
   "cell_type": "markdown",
   "metadata": {},
   "source": [
    "# BY PARCH"
   ]
  },
  {
   "cell_type": "code",
   "execution_count": 60,
   "metadata": {},
   "outputs": [],
   "source": [
    "parchs = np.array(df['Parch'].value_counts().sort_index().index)\n",
    "byparch = np.zeros([len(parchs),2])\n",
    "for i in range(0,len(parchs)):\n",
    "    byparch[i] = df[df['Parch'] == parchs[i]]['Survived'].value_counts().sort_index()"
   ]
  },
  {
   "cell_type": "code",
   "execution_count": 61,
   "metadata": {},
   "outputs": [
    {
     "name": "stdout",
     "output_type": "stream",
     "text": [
      "Survival rate of: Parch\n",
      "\t = 0: 0.34\n",
      "\t = 1: 0.55\n",
      "\t = 2: 0.50\n",
      "\t = 3: 0.60\n",
      "\t = 4: 0.50\n",
      "\t = 5: 0.20\n",
      "\t = 6: 0.50\n"
     ]
    }
   ],
   "source": [
    "print('Survival rate of: Parch')\n",
    "for i in range(0,len(parchs)):\n",
    "    print(f'\\t = {parchs[i]}: {byparch[i][1]/np.sum(byparch[i]):.2f}')"
   ]
  },
  {
   "cell_type": "code",
   "execution_count": 62,
   "metadata": {},
   "outputs": [
    {
     "data": {
      "text/plain": [
       "array([[1., 0., 0., 0., 0., 0., 0.],\n",
       "       [1., 0., 0., 0., 0., 0., 0.],\n",
       "       [1., 0., 0., 0., 0., 0., 0.],\n",
       "       [1., 0., 0., 0., 0., 0., 0.],\n",
       "       [1., 0., 0., 0., 0., 0., 0.]])"
      ]
     },
     "execution_count": 62,
     "metadata": {},
     "output_type": "execute_result"
    }
   ],
   "source": [
    "pch_arr = np.zeros((len(df),len(parchs)))\n",
    "for i in range(0,len(df)):\n",
    "    for j in range(0,len(parchs)):\n",
    "        if df['Parch'][i] == parchs[j]:\n",
    "            pch_arr[i,j] = 1\n",
    "            break\n",
    "pch_arr[0:5]"
   ]
  },
  {
   "cell_type": "code",
   "execution_count": 63,
   "metadata": {},
   "outputs": [
    {
     "name": "stdout",
     "output_type": "stream",
     "text": [
      "i = 0\n",
      "Parch: 0 \n",
      "\tcorr -0.15\n",
      "\tp-value 1.0e-05\n",
      "\tSignificant: True\n",
      "\tPassengers: 678.0\n",
      "+------------------------+\n",
      "i = 1\n",
      "Parch: 1 \n",
      "\tcorr 0.13\n",
      "\tp-value 5.9e-05\n",
      "\tSignificant: True\n",
      "\tPassengers: 118.0\n",
      "+------------------------+\n",
      "i = 2\n",
      "Parch: 2 \n",
      "\tcorr 0.08\n",
      "\tp-value 2.5e-02\n",
      "\tSignificant: True\n",
      "\tPassengers: 80.0\n",
      "+------------------------+\n",
      "876.0\n"
     ]
    }
   ],
   "source": [
    "X = pch_arr\n",
    "total = 0\n",
    "for i in range(0,pch_arr.shape[1]):\n",
    "    significant = False\n",
    "    if stats.pearsonr(X[:,i],y)[1] < 0.05:\n",
    "        significant = True\n",
    "        print(f'i = {i}')\n",
    "        print(f'Parch: {parchs[i]} ')\n",
    "        print(f'\\tcorr {stats.pearsonr(X[:,i],y)[0]:.2f}')\n",
    "        print(f'\\tp-value {stats.pearsonr(X[:,i],y)[1]:.1e}')\n",
    "        print(f'\\tSignificant: {significant}')\n",
    "        print(f'\\tPassengers: {np.sum(X[:,i])}')\n",
    "        model.append(f'pa_{parchs[i]}')\n",
    "        total = total + np.sum(X[:,i])\n",
    "        print('+------------------------+')       \n",
    "\n",
    "print(total)"
   ]
  },
  {
   "cell_type": "markdown",
   "metadata": {},
   "source": [
    "# BY PCLASS"
   ]
  },
  {
   "cell_type": "code",
   "execution_count": 64,
   "metadata": {},
   "outputs": [
    {
     "data": {
      "text/plain": [
       "array([1, 2, 3])"
      ]
     },
     "execution_count": 64,
     "metadata": {},
     "output_type": "execute_result"
    }
   ],
   "source": [
    "pcls = np.array(df['Pclass'].value_counts().sort_index().index)\n",
    "pcls"
   ]
  },
  {
   "cell_type": "code",
   "execution_count": 65,
   "metadata": {},
   "outputs": [
    {
     "data": {
      "text/plain": [
       "array([[0., 0., 1.],\n",
       "       [1., 0., 0.],\n",
       "       [0., 0., 1.],\n",
       "       [1., 0., 0.],\n",
       "       [0., 0., 1.]])"
      ]
     },
     "execution_count": 65,
     "metadata": {},
     "output_type": "execute_result"
    }
   ],
   "source": [
    "pcls_arr = np.zeros((len(df),len(pcls)))\n",
    "for i in range(0,len(df)):\n",
    "    for j in range(0,len(pcls)):\n",
    "        if df['Pclass'][i] == pcls[j]:\n",
    "            pcls_arr[i,j] = 1\n",
    "            break\n",
    "pcls_arr[0:5]"
   ]
  },
  {
   "cell_type": "code",
   "execution_count": 66,
   "metadata": {},
   "outputs": [
    {
     "name": "stdout",
     "output_type": "stream",
     "text": [
      "i = 0\n",
      "Pclass: 1 \n",
      "\tcorr 0.29\n",
      "\tp-value 3.2e-18\n",
      "\tSignificant: True\n",
      "\tPassengers: 216.0\n",
      "+------------------------+\n",
      "i = 1\n",
      "Pclass: 2 \n",
      "\tcorr 0.09\n",
      "\tp-value 5.3e-03\n",
      "\tSignificant: True\n",
      "\tPassengers: 184.0\n",
      "+------------------------+\n",
      "i = 2\n",
      "Pclass: 3 \n",
      "\tcorr -0.32\n",
      "\tp-value 5.5e-23\n",
      "\tSignificant: True\n",
      "\tPassengers: 491.0\n",
      "+------------------------+\n",
      "891.0\n"
     ]
    }
   ],
   "source": [
    "X = pcls_arr\n",
    "total = 0\n",
    "for i in range(0,pcls_arr.shape[1]):\n",
    "    significant = False\n",
    "    if stats.pearsonr(X[:,i],y)[1] < 0.05:\n",
    "        significant = True\n",
    "        print(f'i = {i}')\n",
    "        print(f'Pclass: {pcls[i]} ')\n",
    "        print(f'\\tcorr {stats.pearsonr(X[:,i],y)[0]:.2f}')\n",
    "        print(f'\\tp-value {stats.pearsonr(X[:,i],y)[1]:.1e}')\n",
    "        print(f'\\tSignificant: {significant}')\n",
    "        print(f'\\tPassengers: {np.sum(X[:,i])}')\n",
    "        model.append(f'class_{pcls[i]}')\n",
    "        total = total + np.sum(X[:,i])\n",
    "        print('+------------------------+')       \n",
    "\n",
    "print(total)"
   ]
  },
  {
   "cell_type": "markdown",
   "metadata": {},
   "source": [
    "# Modeling\n",
    "\n",
    "Below I use the information gleaned from exploration to build a model of who survives the disaster based upon variables considered to be most signicant. A function is defined to create an array of 0s and 1s from a dataframe which indicate whether or not the passenger has this particular feature. The array is then used to generate three different models. \n",
    "* Logistic Regression\n",
    "* Grid Search (Logistic Regression)\n",
    "* Decision Tree"
   ]
  },
  {
   "cell_type": "code",
   "execution_count": 67,
   "metadata": {},
   "outputs": [
    {
     "data": {
      "text/plain": [
       "['male',\n",
       " 'port_Q',\n",
       " 'port_S',\n",
       " 'deck_?',\n",
       " 'deck_B',\n",
       " 'deck_C',\n",
       " 'deck_D',\n",
       " 'deck_E',\n",
       " '0_4',\n",
       " '32_36',\n",
       " 'Mr',\n",
       " 'Miss',\n",
       " 'Mrs',\n",
       " 'Master',\n",
       " 'sbsp_0',\n",
       " 'sbsp_1',\n",
       " 'sbsp_8',\n",
       " 'pa_0',\n",
       " 'pa_1',\n",
       " 'pa_2',\n",
       " 'class_1',\n",
       " 'class_2',\n",
       " 'class_3']"
      ]
     },
     "execution_count": 67,
     "metadata": {},
     "output_type": "execute_result"
    }
   ],
   "source": [
    "model"
   ]
  },
  {
   "cell_type": "code",
   "execution_count": 68,
   "metadata": {
    "scrolled": false
   },
   "outputs": [
    {
     "data": {
      "text/html": [
       "<div>\n",
       "<style scoped>\n",
       "    .dataframe tbody tr th:only-of-type {\n",
       "        vertical-align: middle;\n",
       "    }\n",
       "\n",
       "    .dataframe tbody tr th {\n",
       "        vertical-align: top;\n",
       "    }\n",
       "\n",
       "    .dataframe thead th {\n",
       "        text-align: right;\n",
       "    }\n",
       "</style>\n",
       "<table border=\"1\" class=\"dataframe\">\n",
       "  <thead>\n",
       "    <tr style=\"text-align: right;\">\n",
       "      <th></th>\n",
       "      <th>male</th>\n",
       "      <th>port_Q</th>\n",
       "      <th>port_S</th>\n",
       "      <th>deck_?</th>\n",
       "      <th>deck_B</th>\n",
       "      <th>deck_C</th>\n",
       "      <th>deck_D</th>\n",
       "      <th>deck_E</th>\n",
       "      <th>0_4</th>\n",
       "      <th>Mr</th>\n",
       "      <th>...</th>\n",
       "      <th>Master</th>\n",
       "      <th>sbsp_0</th>\n",
       "      <th>sbsp_1</th>\n",
       "      <th>sbsp_8</th>\n",
       "      <th>pa_0</th>\n",
       "      <th>pa_1</th>\n",
       "      <th>pa_2</th>\n",
       "      <th>class_1</th>\n",
       "      <th>class_2</th>\n",
       "      <th>class_3</th>\n",
       "    </tr>\n",
       "  </thead>\n",
       "  <tbody>\n",
       "  </tbody>\n",
       "</table>\n",
       "<p>0 rows × 22 columns</p>\n",
       "</div>"
      ],
      "text/plain": [
       "Empty DataFrame\n",
       "Columns: [male, port_Q, port_S, deck_?, deck_B, deck_C, deck_D, deck_E, 0_4, Mr, Miss, Mrs, Master, sbsp_0, sbsp_1, sbsp_8, pa_0, pa_1, pa_2, class_1, class_2, class_3]\n",
       "Index: []\n",
       "\n",
       "[0 rows x 22 columns]"
      ]
     },
     "execution_count": 68,
     "metadata": {},
     "output_type": "execute_result"
    }
   ],
   "source": [
    "# View the format of the model array\n",
    "pd.DataFrame(columns=model)"
   ]
  },
  {
   "cell_type": "code",
   "execution_count": 98,
   "metadata": {},
   "outputs": [],
   "source": [
    "def initialize_model(dataframe):\n",
    "    model_arr = np.zeros((len(dataframe),len(model)),dtype=int)\n",
    "    for i in range(0,len(dataframe)):\n",
    "        \n",
    "        ### SEX\n",
    "        model_arr[i,0] = (dataframe['Sex'][i] == 'male')        \n",
    "        \n",
    "        ### PORT\n",
    "        #if dataframe['Embarked'][i] == 'Q':\n",
    "        #    model_arr[i,1] = 1\n",
    "        if dataframe['Embarked'][i] == 'S':\n",
    "            model_arr[i,2] = 1    \n",
    "        \n",
    "        ### DECK\n",
    "        dataframe['Cabin'].replace(np.nan,'??',inplace=True)\n",
    "        dataframe['deck'] = dataframe['Cabin'].apply(get_deck)\n",
    "        if dataframe['deck'][i] == '?':\n",
    "            model_arr[i,3] = 1\n",
    "        if dataframe['deck'][i] == 'B':\n",
    "            model_arr[i,4] = 1\n",
    "        if dataframe['deck'][i] == 'C':\n",
    "            model_arr[i,5] = 1\n",
    "        if dataframe['deck'][i] == 'D':\n",
    "            model_arr[i,6] = 1\n",
    "        if dataframe['deck'][i] == 'E':\n",
    "            model_arr[i,7] = 1\n",
    "        \n",
    "\n",
    "        \n",
    "        ### TITLE\n",
    "        miss = ['Ms','Mlle']\n",
    "        mrs = ['Mme', 'Lady']\n",
    "        dataframe['title'] = dataframe['Name'].apply(lambda x: x.split(',')[1].split('.')[0].replace(' ',''))\n",
    "        dataframe['title'] = dataframe['title'].replace(miss,'Miss')\n",
    "        dataframe['title'] = dataframe['title'].replace(mrs,'Mrs')\n",
    "        if dataframe['title'][i] == 'Mr':\n",
    "            model_arr[i,8] = 1\n",
    "        if dataframe['title'][i] == 'Miss':\n",
    "            model_arr[i,9] = 1\n",
    "        if dataframe['title'][i] == 'Mrs':\n",
    "            model_arr[i,10] = 1\n",
    "        #if dataframe['title'][i] == 'Master':\n",
    "        #    model_arr[i,11] = 1\n",
    "        \n",
    "        ### SIBSP\n",
    "        if dataframe['SibSp'][i] == 0:\n",
    "            model_arr[i,12] = 1        \n",
    "        if dataframe['SibSp'][i] == 1:\n",
    "            model_arr[i,13] = 1   \n",
    "        #if dataframe['SibSp'][i] == 8:\n",
    "        #   model_arr[i,14] = 1\n",
    "        \n",
    "        ### PARCH\n",
    "        if dataframe['Parch'][i] == 0:\n",
    "            model_arr[i,15] = 1                       \n",
    "        if dataframe['Parch'][i] == 1:\n",
    "            model_arr[i,16] = 1         \n",
    "        #if dataframe['Parch'][i] == 2:\n",
    "        #    model_arr[i,17] = 1\n",
    "        \n",
    "        ### PCLASS\n",
    "        if dataframe['Pclass'][i] == 1:\n",
    "            model_arr[i,18] = 1\n",
    "        #if dataframe['Pclass'][i] == 2:\n",
    "        #    model_arr[i,19] = 1             \n",
    "        if dataframe['Pclass'][i] == 3:\n",
    "            model_arr[i,20] = 1 \n",
    "            \n",
    "        ### AGE\n",
    "        if dataframe['Age'].isnull().any():\n",
    "            nullage = dataframe[dataframe['Age'].isnull()].index.tolist() # Bookmark indices of NaNs\n",
    "            df2 = dataframe.loc[:,['Pclass','Sex','SibSp','Parch','Fare','Embarked','Age']]\n",
    "\n",
    "            df2['Sex'].replace(['female','male'],[0,1],inplace=True)\n",
    "            df2['Embarked'].replace(['C','Q','S'],[0,1,2],inplace=True)\n",
    "\n",
    "            X = np.array(df2[df2['Age'].isnull()])\n",
    "            X = scaler.transform(X[:,:6])\n",
    "            dataframe.iloc[nullage,5] = knn.predict(X) # Use the same model we built earlier to estimate age\n",
    "      \n",
    "        if (dataframe['Age'][i] > 0) & (df['Age'][i] <= 4):\n",
    "            model_arr[i,21] = 1\n",
    "            \n",
    "        if (dataframe['Age'][i] > 32) & (df['Age'][i] <= 36):\n",
    "            model_arr[i,22] = 1\n",
    "        \n",
    "    return model_arr            "
   ]
  },
  {
   "cell_type": "code",
   "execution_count": 99,
   "metadata": {},
   "outputs": [
    {
     "name": "stdout",
     "output_type": "stream",
     "text": [
      "[[1 0 1 1 0 0 0 0 1 0 0 0 0 1 0 1 0 0 0 0 1 0 0]\n",
      " [0 0 0 0 0 1 0 0 0 0 1 0 0 1 0 1 0 0 1 0 0 0 0]\n",
      " [0 0 1 1 0 0 0 0 0 1 0 0 1 0 0 1 0 0 0 0 1 0 0]\n",
      " [0 0 1 0 0 1 0 0 0 0 1 0 0 1 0 1 0 0 1 0 0 0 1]\n",
      " [1 0 1 1 0 0 0 0 1 0 0 0 1 0 0 1 0 0 0 0 1 0 1]]\n"
     ]
    }
   ],
   "source": [
    "# Load the dataframe and initialize the model array\n",
    "\n",
    "df_train = pd.read_csv('train.csv')\n",
    "train_arr = initialize_model(df_train)\n",
    "print(train_arr[0:5])"
   ]
  },
  {
   "cell_type": "code",
   "execution_count": 113,
   "metadata": {},
   "outputs": [
    {
     "name": "stdout",
     "output_type": "stream",
     "text": [
      "[[1 0 1 1 0 0 0 0 1 0 0 0 0 1 0 1 0 0 0 0 1 0 0]\n",
      " [0 0 0 0 0 1 0 0 0 0 1 0 0 1 0 1 0 0 1 0 0 0 0]\n",
      " [0 0 1 1 0 0 0 0 0 1 0 0 1 0 0 1 0 0 0 0 1 0 0]\n",
      " [0 0 1 0 0 1 0 0 0 0 1 0 0 1 0 1 0 0 1 0 0 0 1]\n",
      " [1 0 1 1 0 0 0 0 1 0 0 0 1 0 0 1 0 0 0 0 1 0 1]]\n",
      "f1-score:\n",
      "\tLogReg: 0.71\n",
      "\n",
      "Jaccard-score:\n",
      "\tLogRReg: 0.54\n",
      "\n",
      "acc. score:\n",
      "\tLogReg: 0.77\n",
      "\n",
      "logloss:\n",
      "\tLogReg: 7.91\n",
      "\n",
      "\n",
      "\n",
      "\tAccuracy: 0.986\n",
      "\tLogReg: 0.981\n",
      "\tD-tree: 0.821\n"
     ]
    },
    {
     "data": {
      "image/png": "[encoded data removed]",
      "text/plain": [
       "<Figure size 432x288 with 2 Axes>"
      ]
     },
     "metadata": {
      "needs_background": "light"
     },
     "output_type": "display_data"
    }
   ],
   "source": [
    "X = train_arr\n",
    "y = np.array(df_train['Survived'])\n",
    "\n",
    "print(X[0:5])\n",
    "X_train, X_test, y_train, y_test = train_test_split(X,y,test_size=0.2)\n",
    "\n",
    "\n",
    "clf_dt = tree.DecisionTreeClassifier()\n",
    "clf_dt.fit(X_train, y_train)\n",
    "\n",
    "clf_log = LogisticRegression(C=1e-2,multi_class='multinomial',class_weight=None,solver='newton-cg',max_iter=100)\n",
    "#clf_log_gd = LogisticRegression(solver='liblinear',max_iter=100)\n",
    "\n",
    "#lg_pgrid={'penalty':['l1','l2'], 'C':np.logspace(1,2,10)}\n",
    "#lg_grid = GridSearchCV(clf_log, lg_pgrid,cv=5,scoring='accuracy',n_jobs=4)\n",
    "#lg_grid.fit(X_train,y_train)\n",
    "\n",
    "clf_log.fit(X_train, y_train)\n",
    "print('f1-score:')\n",
    "print(f'\\tLogReg: {f1_score(y_test,clf_log.predict(X_test)):.2f}')\n",
    "#print(f'\\tGridSearch: {f1_score(y_test,lg_grid.best_estimator_.predict(X_test)):.2f}')\n",
    "#print(f'\\tD-Tree: {f1_score(y_test,clf_dt.predict(X_test)):.2f}')\n",
    "print()\n",
    "print('Jaccard-score:')\n",
    "print(f'\\tLogRReg: {jaccard_score(y_test,clf_log.predict(X_test)):.2f}')\n",
    "#print(f'\\tGridSearch: {jaccard_score(y_test,lg_grid.best_estimator_.predict(X_test)):.2f}')\n",
    "#print(f'\\tD-Tree: {jaccard_score(y_test,clf_dt.predict(X_test)):.2f}')\n",
    "print()\n",
    "print('acc. score:')\n",
    "print(f'\\tLogReg: {accuracy_score(y_test,clf_log.predict(X_test)):.2f}')\n",
    "#print(f'\\tGridSearch: {accuracy_score(y_test,lg_grid.best_estimator_.predict(X_test)):.2f}')\n",
    "#print(f'\\tD-Tree: {accuracy_score(y_test,clf_dt.predict(X_test)):.2f}')\n",
    "print()\n",
    "print('logloss:')\n",
    "print(f'\\tLogReg: {log_loss(y_test,clf_log.predict(X_test)):.2f}')\n",
    "#print(f'\\tGridSearch: {log_loss(y_test,lg_grid.best_estimator_.predict(X_test)):.2f}')\n",
    "#print(f'\\tD-Tree: {log_loss(y_test,clf_dt.predict(X_test)):.2f}')\n",
    "\n",
    "print('\\n\\n')\n",
    "\n",
    "df_test = pd.read_csv('test.csv')\n",
    "df_true = pd.read_csv('gender_submission.csv')\n",
    "test_arr = initialize_model(df_test)\n",
    "print(f'\\tAccuracy: {accuracy_score(df_true.iloc[:,1],clf_log.predict(test_arr)):.3f}')\n",
    "print(f'\\tLogReg: {f1_score(df_true.iloc[:,1],clf_log.predict(test_arr)):.3f}')\n",
    "#print(f'\\tGridS: {accuracy_score(df_true.iloc[:,1],lg_grid.best_estimator_.predict(test_arr)):.3f}')\n",
    "print(f'\\tD-tree: {accuracy_score(df_true.iloc[:,1],clf_dt.predict(test_arr)):.3f}')\n",
    "\n",
    "c_mat = confusion_matrix(df_true.iloc[:,1],clf_log.predict(test_arr))\n",
    "disp = ConfusionMatrixDisplay(confusion_matrix = c_mat, display_labels=['No Survive','Survive'])\n",
    "disp.plot(values_format='d')\n",
    "plt.savefig('confusion.png',bbox_inches='tight',dpi=300)"
   ]
  },
  {
   "cell_type": "code",
   "execution_count": 114,
   "metadata": {},
   "outputs": [],
   "source": [
    "df_test = pd.read_csv('test.csv')\n",
    "df_true = pd.read_csv('gender_submission.csv')\n",
    "test_arr = initialize_model(df_test)"
   ]
  },
  {
   "cell_type": "code",
   "execution_count": 115,
   "metadata": {},
   "outputs": [
    {
     "name": "stdout",
     "output_type": "stream",
     "text": [
      "\tAccuracy: 0.986\n",
      "\tf1: 0.981\n",
      "\tD-tree: 0.821\n"
     ]
    },
    {
     "data": {
      "image/png": "[encoded data removed]",
      "text/plain": [
       "<Figure size 432x288 with 2 Axes>"
      ]
     },
     "metadata": {
      "needs_background": "light"
     },
     "output_type": "display_data"
    }
   ],
   "source": [
    "df_test = pd.read_csv('test.csv')\n",
    "df_true = pd.read_csv('gender_submission.csv')\n",
    "test_arr = initialize_model(df_test)\n",
    "print(f'\\tAccuracy: {accuracy_score(df_true.iloc[:,1],clf_log.predict(test_arr)):.3f}')\n",
    "print(f'\\tf1: {f1_score(df_true.iloc[:,1],clf_log.predict(test_arr)):.3f}')\n",
    "#print(f'\\tGridS: {accuracy_score(df_true.iloc[:,1],lg_grid.best_estimator_.predict(test_arr)):.3f}')\n",
    "print(f'\\tD-tree: {accuracy_score(df_true.iloc[:,1],clf_dt.predict(test_arr)):.3f}')\n",
    "\n",
    "c_mat = confusion_matrix(df_true.iloc[:,1],clf_log.predict(test_arr))\n",
    "disp = ConfusionMatrixDisplay(confusion_matrix = c_mat, display_labels=['No Survive','Survive'])\n",
    "disp.plot(values_format='d')\n",
    "plt.savefig('confusion.png',bbox_inches='tight',dpi=300)"
   ]
  },
  {
   "cell_type": "code",
   "execution_count": 120,
   "metadata": {},
   "outputs": [
    {
     "data": {
      "text/html": [
       "<div>\n",
       "<style scoped>\n",
       "    .dataframe tbody tr th:only-of-type {\n",
       "        vertical-align: middle;\n",
       "    }\n",
       "\n",
       "    .dataframe tbody tr th {\n",
       "        vertical-align: top;\n",
       "    }\n",
       "\n",
       "    .dataframe thead th {\n",
       "        text-align: right;\n",
       "    }\n",
       "</style>\n",
       "<table border=\"1\" class=\"dataframe\">\n",
       "  <thead>\n",
       "    <tr style=\"text-align: right;\">\n",
       "      <th></th>\n",
       "      <th>Survived</th>\n",
       "    </tr>\n",
       "    <tr>\n",
       "      <th>PassengerId</th>\n",
       "      <th></th>\n",
       "    </tr>\n",
       "  </thead>\n",
       "  <tbody>\n",
       "    <tr>\n",
       "      <th>892</th>\n",
       "      <td>0</td>\n",
       "    </tr>\n",
       "    <tr>\n",
       "      <th>893</th>\n",
       "      <td>1</td>\n",
       "    </tr>\n",
       "    <tr>\n",
       "      <th>894</th>\n",
       "      <td>0</td>\n",
       "    </tr>\n",
       "    <tr>\n",
       "      <th>895</th>\n",
       "      <td>0</td>\n",
       "    </tr>\n",
       "    <tr>\n",
       "      <th>896</th>\n",
       "      <td>1</td>\n",
       "    </tr>\n",
       "  </tbody>\n",
       "</table>\n",
       "</div>"
      ],
      "text/plain": [
       "             Survived\n",
       "PassengerId          \n",
       "892                 0\n",
       "893                 1\n",
       "894                 0\n",
       "895                 0\n",
       "896                 1"
      ]
     },
     "execution_count": 120,
     "metadata": {},
     "output_type": "execute_result"
    }
   ],
   "source": [
    "df_submit[0:5]"
   ]
  },
  {
   "cell_type": "code",
   "execution_count": 119,
   "metadata": {},
   "outputs": [
    {
     "data": {
      "text/html": [
       "<div>\n",
       "<style scoped>\n",
       "    .dataframe tbody tr th:only-of-type {\n",
       "        vertical-align: middle;\n",
       "    }\n",
       "\n",
       "    .dataframe tbody tr th {\n",
       "        vertical-align: top;\n",
       "    }\n",
       "\n",
       "    .dataframe thead th {\n",
       "        text-align: right;\n",
       "    }\n",
       "</style>\n",
       "<table border=\"1\" class=\"dataframe\">\n",
       "  <thead>\n",
       "    <tr style=\"text-align: right;\">\n",
       "      <th></th>\n",
       "      <th>PassengerId</th>\n",
       "      <th>Survived</th>\n",
       "    </tr>\n",
       "  </thead>\n",
       "  <tbody>\n",
       "    <tr>\n",
       "      <th>0</th>\n",
       "      <td>892</td>\n",
       "      <td>0</td>\n",
       "    </tr>\n",
       "    <tr>\n",
       "      <th>1</th>\n",
       "      <td>893</td>\n",
       "      <td>1</td>\n",
       "    </tr>\n",
       "    <tr>\n",
       "      <th>2</th>\n",
       "      <td>894</td>\n",
       "      <td>0</td>\n",
       "    </tr>\n",
       "    <tr>\n",
       "      <th>3</th>\n",
       "      <td>895</td>\n",
       "      <td>0</td>\n",
       "    </tr>\n",
       "    <tr>\n",
       "      <th>4</th>\n",
       "      <td>896</td>\n",
       "      <td>1</td>\n",
       "    </tr>\n",
       "  </tbody>\n",
       "</table>\n",
       "</div>"
      ],
      "text/plain": [
       "   PassengerId  Survived\n",
       "0          892         0\n",
       "1          893         1\n",
       "2          894         0\n",
       "3          895         0\n",
       "4          896         1"
      ]
     },
     "execution_count": 119,
     "metadata": {},
     "output_type": "execute_result"
    }
   ],
   "source": [
    "df_true[0:5]"
   ]
  },
  {
   "cell_type": "code",
   "execution_count": 128,
   "metadata": {},
   "outputs": [
    {
     "data": {
      "text/html": [
       "<div>\n",
       "<style scoped>\n",
       "    .dataframe tbody tr th:only-of-type {\n",
       "        vertical-align: middle;\n",
       "    }\n",
       "\n",
       "    .dataframe tbody tr th {\n",
       "        vertical-align: top;\n",
       "    }\n",
       "\n",
       "    .dataframe thead th {\n",
       "        text-align: right;\n",
       "    }\n",
       "</style>\n",
       "<table border=\"1\" class=\"dataframe\">\n",
       "  <thead>\n",
       "    <tr style=\"text-align: right;\">\n",
       "      <th></th>\n",
       "      <th>Survived</th>\n",
       "    </tr>\n",
       "    <tr>\n",
       "      <th>PassengerId</th>\n",
       "      <th></th>\n",
       "    </tr>\n",
       "  </thead>\n",
       "  <tbody>\n",
       "    <tr>\n",
       "      <th>892</th>\n",
       "      <td>0</td>\n",
       "    </tr>\n",
       "    <tr>\n",
       "      <th>893</th>\n",
       "      <td>1</td>\n",
       "    </tr>\n",
       "    <tr>\n",
       "      <th>894</th>\n",
       "      <td>0</td>\n",
       "    </tr>\n",
       "    <tr>\n",
       "      <th>895</th>\n",
       "      <td>0</td>\n",
       "    </tr>\n",
       "    <tr>\n",
       "      <th>896</th>\n",
       "      <td>1</td>\n",
       "    </tr>\n",
       "  </tbody>\n",
       "</table>\n",
       "</div>"
      ],
      "text/plain": [
       "             Survived\n",
       "PassengerId          \n",
       "892                 0\n",
       "893                 1\n",
       "894                 0\n",
       "895                 0\n",
       "896                 1"
      ]
     },
     "execution_count": 128,
     "metadata": {},
     "output_type": "execute_result"
    }
   ],
   "source": [
    "df_submit = pd.DataFrame({'PassengerId':df_test['PassengerId'],'Survived':clf_log.predict(test_arr).tolist()})\n",
    "df_submit.set_index('PassengerId',inplace=True)\n",
    "df_submit[0:5]"
   ]
  },
  {
   "cell_type": "code",
   "execution_count": 130,
   "metadata": {},
   "outputs": [],
   "source": [
    "df_submit.to_csv('kagglesubmission.csv')"
   ]
  },
  {
   "cell_type": "code",
   "execution_count": 129,
   "metadata": {},
   "outputs": [],
   "source": [
    "df_leaderboard = pd.read_csv('./leaderboard/titanic-publicleaderboard.csv')"
   ]
  },
  {
   "cell_type": "code",
   "execution_count": 83,
   "metadata": {},
   "outputs": [
    {
     "data": {
      "text/html": [
       "<div>\n",
       "<style scoped>\n",
       "    .dataframe tbody tr th:only-of-type {\n",
       "        vertical-align: middle;\n",
       "    }\n",
       "\n",
       "    .dataframe tbody tr th {\n",
       "        vertical-align: top;\n",
       "    }\n",
       "\n",
       "    .dataframe thead th {\n",
       "        text-align: right;\n",
       "    }\n",
       "</style>\n",
       "<table border=\"1\" class=\"dataframe\">\n",
       "  <thead>\n",
       "    <tr style=\"text-align: right;\">\n",
       "      <th></th>\n",
       "      <th>TeamId</th>\n",
       "      <th>TeamName</th>\n",
       "      <th>SubmissionDate</th>\n",
       "      <th>Score</th>\n",
       "    </tr>\n",
       "  </thead>\n",
       "  <tbody>\n",
       "    <tr>\n",
       "      <th>5065</th>\n",
       "      <td>5676964</td>\n",
       "      <td>Joey #5</td>\n",
       "      <td>2021-01-13 16:48:41</td>\n",
       "      <td>0.78468</td>\n",
       "    </tr>\n",
       "  </tbody>\n",
       "</table>\n",
       "</div>"
      ],
      "text/plain": [
       "       TeamId TeamName       SubmissionDate    Score\n",
       "5065  5676964  Joey #5  2021-01-13 16:48:41  0.78468"
      ]
     },
     "execution_count": 83,
     "metadata": {},
     "output_type": "execute_result"
    }
   ],
   "source": [
    "df_leaderboard[df_leaderboard['TeamName'] == 'Joey #5']"
   ]
  },
  {
   "cell_type": "code",
   "execution_count": 77,
   "metadata": {},
   "outputs": [
    {
     "name": "stdout",
     "output_type": "stream",
     "text": [
      "0.7644415666554156\n"
     ]
    },
    {
     "data": {
      "text/plain": [
       "0.07242269756384552"
      ]
     },
     "execution_count": 77,
     "metadata": {},
     "output_type": "execute_result"
    },
    {
     "data": {
      "image/png": "[encoded data removed]",
      "text/plain": [
       "<Figure size 1152x648 with 1 Axes>"
      ]
     },
     "metadata": {
      "needs_background": "light"
     },
     "output_type": "display_data"
    }
   ],
   "source": [
    "bins = np.linspace(.7,.855,66)\n",
    "\n",
    "plt.figure(figsize=(16,9))\n",
    "plt.xticklabels=bins\n",
    "\n",
    "plt.hist(df_leaderboard['Score'],bins = bins)\n",
    "plt.axvline(0.78468,c='C1')\n",
    "\n",
    "print(df_leaderboard['Score'].mean())\n",
    "np.std(df_leaderboard['Score'])"
   ]
  },
  {
   "cell_type": "code",
   "execution_count": 88,
   "metadata": {},
   "outputs": [
    {
     "data": {
      "text/plain": [
       "<Figure size 1152x648 with 0 Axes>"
      ]
     },
     "metadata": {},
     "output_type": "display_data"
    },
    {
     "data": {
      "image/png": "[encoded data removed]",
      "text/plain": [
       "<Figure size 576x432 with 1 Axes>"
      ]
     },
     "metadata": {
      "needs_background": "light"
     },
     "output_type": "display_data"
    }
   ],
   "source": [
    "plt.figure(figsize=(16,9))\n",
    "\n",
    "# Defining some parameters for our histogram\n",
    "nbins = 65 # The number of bins in our histogram. More on this later.\n",
    "ylim = 0.855 # Maximum value for the histogram's x-axis\n",
    "ymin = 0.7\n",
    "binwidth= (ylim-ymin)/nbins # The width of each bin\n",
    "\n",
    "bins = np.arange(0.7,ylim,binwidth) # An array of evenly spaced bins \"binwidth\" apart from 0 to 80 years of age.\n",
    "\n",
    "\n",
    "thedigital = np.digitize(df_leaderboard['Score'],bins,right=True) # assign each age to a bin\n",
    "thecount = np.bincount(thedigital) # Count the members in each bin\n",
    "\n",
    "# Create some axes\n",
    "plt.figure(figsize=(8,6))\n",
    "plt.bar(bins[0:35]+binwidth/2,thecount[1:36],width=binwidth,color = 'C0')\n",
    "plt.bar(bins[35:36]+binwidth/2,thecount[36:37],width=binwidth,color = 'C1')\n",
    "plt.bar(bins[36:]+binwidth/2,thecount[37:],width=binwidth,color = 'C0')\n",
    "\n",
    "plt.xticklabels=bins[33:66]\n",
    "plt.xlim=(0.7,0.85)\n",
    "\n",
    "plt.title('Competition Rankings')\n",
    "plt.ylabel('Frequency')\n",
    "plt.xlabel('Kaggle Score')\n",
    "plt.savefig('./kaggle.png',bbox_inches='tight',dpi=300)\n",
    "plt.show()"
   ]
  },
  {
   "cell_type": "code",
   "execution_count": 92,
   "metadata": {},
   "outputs": [
    {
     "data": {
      "text/plain": [
       "0.87"
      ]
     },
     "execution_count": 92,
     "metadata": {},
     "output_type": "execute_result"
    }
   ],
   "source": [
    "round(len(df_leaderboard[df_leaderboard['Score'] <= 0.78468 ])/len(df_leaderboard),2)"
   ]
  },
  {
   "cell_type": "code",
   "execution_count": null,
   "metadata": {},
   "outputs": [],
   "source": []
  }
 ],
 "metadata": {
  "kernelspec": {
   "display_name": "Python 3",
   "language": "python",
   "name": "python3"
  },
  "language_info": {
   "codemirror_mode": {
    "name": "ipython",
    "version": 3
   },
   "file_extension": ".py",
   "mimetype": "text/x-python",
   "name": "python",
   "nbconvert_exporter": "python",
   "pygments_lexer": "ipython3",
   "version": "3.8.6"
  }
 },
 "nbformat": 4,
 "nbformat_minor": 4
}
