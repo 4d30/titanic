{
 "cells": [
  {
   "cell_type": "code",
   "execution_count": 580,
   "metadata": {},
   "outputs": [],
   "source": [
    "import pandas as pd\n",
    "import numpy as np\n",
    "from scipy import stats\n",
    "from sklearn import tree\n",
    "from sklearn.linear_model import LogisticRegression\n",
    "from sklearn.model_selection import train_test_split\n",
    "from sklearn.model_selection import GridSearchCV\n",
    "from sklearn.metrics import jaccard_score, f1_score, accuracy_score, log_loss\n",
    "from sklearn import neighbors\n",
    "from sklearn import preprocessing\n",
    "\n",
    "import matplotlib.pyplot as plt\n",
    "import matplotlib\n",
    "%matplotlib inline "
   ]
  },
  {
   "cell_type": "code",
   "execution_count": 2,
   "metadata": {},
   "outputs": [],
   "source": [
    "matplotlib.rcParams.update({'font.size': 16})"
   ]
  },
  {
   "cell_type": "raw",
   "metadata": {},
   "source": [
    "Variable\tDefinition\tKey\n",
    "survival \tSurvival \t0 = No, 1 = Yes\n",
    "pclass \tTicket class \t1 = 1st, 2 = 2nd, 3 = 3rd\n",
    "sex \tSex \t\n",
    "Age \tAge in years \t\n",
    "sibsp \t# of siblings / spouses aboard the Titanic \t\n",
    "parch \t# of parents / children aboard the Titanic \t\n",
    "ticket \tTicket number \t\n",
    "fare \tPassenger fare \t\n",
    "cabin \tCabin number \t\n",
    "embarked \tPort of Embarkation \tC = Cherbourg, Q = Queenstown, S = Southampton"
   ]
  },
  {
   "cell_type": "code",
   "execution_count": 3,
   "metadata": {
    "scrolled": false
   },
   "outputs": [
    {
     "name": "stdout",
     "output_type": "stream",
     "text": [
      "(891, 12)\n",
      "PassengerId      int64\n",
      "Survived         int64\n",
      "Pclass           int64\n",
      "Name            object\n",
      "Sex             object\n",
      "Age            float64\n",
      "SibSp            int64\n",
      "Parch            int64\n",
      "Ticket          object\n",
      "Fare           float64\n",
      "Cabin           object\n",
      "Embarked        object\n",
      "dtype: object\n"
     ]
    },
    {
     "data": {
      "text/html": [
       "<div>\n",
       "<style scoped>\n",
       "    .dataframe tbody tr th:only-of-type {\n",
       "        vertical-align: middle;\n",
       "    }\n",
       "\n",
       "    .dataframe tbody tr th {\n",
       "        vertical-align: top;\n",
       "    }\n",
       "\n",
       "    .dataframe thead th {\n",
       "        text-align: right;\n",
       "    }\n",
       "</style>\n",
       "<table border=\"1\" class=\"dataframe\">\n",
       "  <thead>\n",
       "    <tr style=\"text-align: right;\">\n",
       "      <th></th>\n",
       "      <th>PassengerId</th>\n",
       "      <th>Survived</th>\n",
       "      <th>Pclass</th>\n",
       "      <th>Name</th>\n",
       "      <th>Sex</th>\n",
       "      <th>Age</th>\n",
       "      <th>SibSp</th>\n",
       "      <th>Parch</th>\n",
       "      <th>Ticket</th>\n",
       "      <th>Fare</th>\n",
       "      <th>Cabin</th>\n",
       "      <th>Embarked</th>\n",
       "    </tr>\n",
       "  </thead>\n",
       "  <tbody>\n",
       "    <tr>\n",
       "      <th>0</th>\n",
       "      <td>1</td>\n",
       "      <td>0</td>\n",
       "      <td>3</td>\n",
       "      <td>Braund, Mr. Owen Harris</td>\n",
       "      <td>male</td>\n",
       "      <td>22.0</td>\n",
       "      <td>1</td>\n",
       "      <td>0</td>\n",
       "      <td>A/5 21171</td>\n",
       "      <td>7.2500</td>\n",
       "      <td>NaN</td>\n",
       "      <td>S</td>\n",
       "    </tr>\n",
       "    <tr>\n",
       "      <th>1</th>\n",
       "      <td>2</td>\n",
       "      <td>1</td>\n",
       "      <td>1</td>\n",
       "      <td>Cumings, Mrs. John Bradley (Florence Briggs Th...</td>\n",
       "      <td>female</td>\n",
       "      <td>38.0</td>\n",
       "      <td>1</td>\n",
       "      <td>0</td>\n",
       "      <td>PC 17599</td>\n",
       "      <td>71.2833</td>\n",
       "      <td>C85</td>\n",
       "      <td>C</td>\n",
       "    </tr>\n",
       "    <tr>\n",
       "      <th>2</th>\n",
       "      <td>3</td>\n",
       "      <td>1</td>\n",
       "      <td>3</td>\n",
       "      <td>Heikkinen, Miss. Laina</td>\n",
       "      <td>female</td>\n",
       "      <td>26.0</td>\n",
       "      <td>0</td>\n",
       "      <td>0</td>\n",
       "      <td>STON/O2. 3101282</td>\n",
       "      <td>7.9250</td>\n",
       "      <td>NaN</td>\n",
       "      <td>S</td>\n",
       "    </tr>\n",
       "    <tr>\n",
       "      <th>3</th>\n",
       "      <td>4</td>\n",
       "      <td>1</td>\n",
       "      <td>1</td>\n",
       "      <td>Futrelle, Mrs. Jacques Heath (Lily May Peel)</td>\n",
       "      <td>female</td>\n",
       "      <td>35.0</td>\n",
       "      <td>1</td>\n",
       "      <td>0</td>\n",
       "      <td>113803</td>\n",
       "      <td>53.1000</td>\n",
       "      <td>C123</td>\n",
       "      <td>S</td>\n",
       "    </tr>\n",
       "    <tr>\n",
       "      <th>4</th>\n",
       "      <td>5</td>\n",
       "      <td>0</td>\n",
       "      <td>3</td>\n",
       "      <td>Allen, Mr. William Henry</td>\n",
       "      <td>male</td>\n",
       "      <td>35.0</td>\n",
       "      <td>0</td>\n",
       "      <td>0</td>\n",
       "      <td>373450</td>\n",
       "      <td>8.0500</td>\n",
       "      <td>NaN</td>\n",
       "      <td>S</td>\n",
       "    </tr>\n",
       "  </tbody>\n",
       "</table>\n",
       "</div>"
      ],
      "text/plain": [
       "   PassengerId  Survived  Pclass  \\\n",
       "0            1         0       3   \n",
       "1            2         1       1   \n",
       "2            3         1       3   \n",
       "3            4         1       1   \n",
       "4            5         0       3   \n",
       "\n",
       "                                                Name     Sex   Age  SibSp  \\\n",
       "0                            Braund, Mr. Owen Harris    male  22.0      1   \n",
       "1  Cumings, Mrs. John Bradley (Florence Briggs Th...  female  38.0      1   \n",
       "2                             Heikkinen, Miss. Laina  female  26.0      0   \n",
       "3       Futrelle, Mrs. Jacques Heath (Lily May Peel)  female  35.0      1   \n",
       "4                           Allen, Mr. William Henry    male  35.0      0   \n",
       "\n",
       "   Parch            Ticket     Fare Cabin Embarked  \n",
       "0      0         A/5 21171   7.2500   NaN        S  \n",
       "1      0          PC 17599  71.2833   C85        C  \n",
       "2      0  STON/O2. 3101282   7.9250   NaN        S  \n",
       "3      0            113803  53.1000  C123        S  \n",
       "4      0            373450   8.0500   NaN        S  "
      ]
     },
     "execution_count": 3,
     "metadata": {},
     "output_type": "execute_result"
    }
   ],
   "source": [
    "df = pd.read_csv('train.csv')\n",
    "print(df.shape)\n",
    "no_passengers = df.shape[0]\n",
    "print(df.dtypes)\n",
    "df[0:5]"
   ]
  },
  {
   "cell_type": "markdown",
   "metadata": {},
   "source": [
    "# OVERALL SURVIVAL RATE"
   ]
  },
  {
   "cell_type": "code",
   "execution_count": 4,
   "metadata": {
    "scrolled": true
   },
   "outputs": [
    {
     "name": "stdout",
     "output_type": "stream",
     "text": [
      "Overall survival rate:  0.384\n"
     ]
    }
   ],
   "source": [
    "survival_arr = df['Survived'].value_counts().sort_index()\n",
    "survivalrate = survival_arr[1]/np.sum(survival_arr)\n",
    "print('Overall survival rate: ', f'{survivalrate:.3f}')"
   ]
  },
  {
   "cell_type": "markdown",
   "metadata": {},
   "source": [
    "# MISSING DATA"
   ]
  },
  {
   "cell_type": "markdown",
   "metadata": {},
   "source": [
    "## Port of Embarkation"
   ]
  },
  {
   "cell_type": "code",
   "execution_count": 5,
   "metadata": {
    "scrolled": true
   },
   "outputs": [
    {
     "data": {
      "text/html": [
       "<div>\n",
       "<style scoped>\n",
       "    .dataframe tbody tr th:only-of-type {\n",
       "        vertical-align: middle;\n",
       "    }\n",
       "\n",
       "    .dataframe tbody tr th {\n",
       "        vertical-align: top;\n",
       "    }\n",
       "\n",
       "    .dataframe thead th {\n",
       "        text-align: right;\n",
       "    }\n",
       "</style>\n",
       "<table border=\"1\" class=\"dataframe\">\n",
       "  <thead>\n",
       "    <tr style=\"text-align: right;\">\n",
       "      <th></th>\n",
       "      <th>PassengerId</th>\n",
       "      <th>Survived</th>\n",
       "      <th>Pclass</th>\n",
       "      <th>Name</th>\n",
       "      <th>Sex</th>\n",
       "      <th>Age</th>\n",
       "      <th>SibSp</th>\n",
       "      <th>Parch</th>\n",
       "      <th>Ticket</th>\n",
       "      <th>Fare</th>\n",
       "      <th>Cabin</th>\n",
       "      <th>Embarked</th>\n",
       "    </tr>\n",
       "  </thead>\n",
       "  <tbody>\n",
       "    <tr>\n",
       "      <th>61</th>\n",
       "      <td>62</td>\n",
       "      <td>1</td>\n",
       "      <td>1</td>\n",
       "      <td>Icard, Miss. Amelie</td>\n",
       "      <td>female</td>\n",
       "      <td>38.0</td>\n",
       "      <td>0</td>\n",
       "      <td>0</td>\n",
       "      <td>113572</td>\n",
       "      <td>80.0</td>\n",
       "      <td>B28</td>\n",
       "      <td>NaN</td>\n",
       "    </tr>\n",
       "    <tr>\n",
       "      <th>829</th>\n",
       "      <td>830</td>\n",
       "      <td>1</td>\n",
       "      <td>1</td>\n",
       "      <td>Stone, Mrs. George Nelson (Martha Evelyn)</td>\n",
       "      <td>female</td>\n",
       "      <td>62.0</td>\n",
       "      <td>0</td>\n",
       "      <td>0</td>\n",
       "      <td>113572</td>\n",
       "      <td>80.0</td>\n",
       "      <td>B28</td>\n",
       "      <td>NaN</td>\n",
       "    </tr>\n",
       "  </tbody>\n",
       "</table>\n",
       "</div>"
      ],
      "text/plain": [
       "     PassengerId  Survived  Pclass                                       Name  \\\n",
       "61            62         1       1                        Icard, Miss. Amelie   \n",
       "829          830         1       1  Stone, Mrs. George Nelson (Martha Evelyn)   \n",
       "\n",
       "        Sex   Age  SibSp  Parch  Ticket  Fare Cabin Embarked  \n",
       "61   female  38.0      0      0  113572  80.0   B28      NaN  \n",
       "829  female  62.0      0      0  113572  80.0   B28      NaN  "
      ]
     },
     "execution_count": 5,
     "metadata": {},
     "output_type": "execute_result"
    }
   ],
   "source": [
    "df[df['Embarked'].isnull()]"
   ]
  },
  {
   "cell_type": "code",
   "execution_count": 6,
   "metadata": {
    "scrolled": false
   },
   "outputs": [],
   "source": [
    "df2 = df.loc[:,['Pclass','Fare','Embarked']]\n",
    "df2.dropna(inplace=True)\n",
    "df2[df2['Embarked'].isnull() == True]\n",
    "\n",
    "X = np.array(df2.loc[:,['Pclass','Fare']])\n",
    "scaler = preprocessing.StandardScaler().fit(X)\n",
    "scaled_data = scaler.transform(X)\n",
    "emb_dum = pd.get_dummies(df2['Embarked'])\n",
    "ports = emb_dum.columns.values\n",
    "y = np.array(emb_dum)"
   ]
  },
  {
   "cell_type": "code",
   "execution_count": 7,
   "metadata": {},
   "outputs": [
    {
     "data": {
      "text/plain": [
       "DecisionTreeClassifier(ccp_alpha=0.0, class_weight=None, criterion='gini',\n",
       "                       max_depth=None, max_features=None, max_leaf_nodes=None,\n",
       "                       min_impurity_decrease=0.0, min_impurity_split=None,\n",
       "                       min_samples_leaf=1, min_samples_split=2,\n",
       "                       min_weight_fraction_leaf=0.0, presort='deprecated',\n",
       "                       random_state=None, splitter='best')"
      ]
     },
     "execution_count": 7,
     "metadata": {},
     "output_type": "execute_result"
    }
   ],
   "source": [
    "clf = tree.DecisionTreeClassifier()\n",
    "clf.fit(scaled_data, y)"
   ]
  },
  {
   "cell_type": "code",
   "execution_count": 8,
   "metadata": {},
   "outputs": [
    {
     "name": "stdout",
     "output_type": "stream",
     "text": [
      "['C' 'Q' 'S']\n"
     ]
    },
    {
     "data": {
      "text/plain": [
       "array([[0, 0, 1]], dtype=uint8)"
      ]
     },
     "execution_count": 8,
     "metadata": {},
     "output_type": "execute_result"
    }
   ],
   "source": [
    "x = scaler.transform(np.array([1,80]).reshape(1,-1))\n",
    "print(ports)\n",
    "clf.predict(x)"
   ]
  },
  {
   "cell_type": "code",
   "execution_count": 9,
   "metadata": {},
   "outputs": [],
   "source": [
    "df['Embarked'].fillna('S', inplace=True)"
   ]
  },
  {
   "cell_type": "code",
   "execution_count": 10,
   "metadata": {
    "scrolled": true
   },
   "outputs": [
    {
     "data": {
      "text/html": [
       "<div>\n",
       "<style scoped>\n",
       "    .dataframe tbody tr th:only-of-type {\n",
       "        vertical-align: middle;\n",
       "    }\n",
       "\n",
       "    .dataframe tbody tr th {\n",
       "        vertical-align: top;\n",
       "    }\n",
       "\n",
       "    .dataframe thead th {\n",
       "        text-align: right;\n",
       "    }\n",
       "</style>\n",
       "<table border=\"1\" class=\"dataframe\">\n",
       "  <thead>\n",
       "    <tr style=\"text-align: right;\">\n",
       "      <th></th>\n",
       "      <th>PassengerId</th>\n",
       "      <th>Survived</th>\n",
       "      <th>Pclass</th>\n",
       "      <th>Name</th>\n",
       "      <th>Sex</th>\n",
       "      <th>Age</th>\n",
       "      <th>SibSp</th>\n",
       "      <th>Parch</th>\n",
       "      <th>Ticket</th>\n",
       "      <th>Fare</th>\n",
       "      <th>Cabin</th>\n",
       "      <th>Embarked</th>\n",
       "    </tr>\n",
       "  </thead>\n",
       "  <tbody>\n",
       "  </tbody>\n",
       "</table>\n",
       "</div>"
      ],
      "text/plain": [
       "Empty DataFrame\n",
       "Columns: [PassengerId, Survived, Pclass, Name, Sex, Age, SibSp, Parch, Ticket, Fare, Cabin, Embarked]\n",
       "Index: []"
      ]
     },
     "execution_count": 10,
     "metadata": {},
     "output_type": "execute_result"
    }
   ],
   "source": [
    "df[df['Embarked'].isnull()]"
   ]
  },
  {
   "cell_type": "markdown",
   "metadata": {},
   "source": [
    "## Age"
   ]
  },
  {
   "cell_type": "code",
   "execution_count": 11,
   "metadata": {},
   "outputs": [
    {
     "data": {
      "text/html": [
       "<div>\n",
       "<style scoped>\n",
       "    .dataframe tbody tr th:only-of-type {\n",
       "        vertical-align: middle;\n",
       "    }\n",
       "\n",
       "    .dataframe tbody tr th {\n",
       "        vertical-align: top;\n",
       "    }\n",
       "\n",
       "    .dataframe thead th {\n",
       "        text-align: right;\n",
       "    }\n",
       "</style>\n",
       "<table border=\"1\" class=\"dataframe\">\n",
       "  <thead>\n",
       "    <tr style=\"text-align: right;\">\n",
       "      <th></th>\n",
       "      <th>PassengerId</th>\n",
       "      <th>Survived</th>\n",
       "      <th>Pclass</th>\n",
       "      <th>Name</th>\n",
       "      <th>Sex</th>\n",
       "      <th>Age</th>\n",
       "      <th>SibSp</th>\n",
       "      <th>Parch</th>\n",
       "      <th>Ticket</th>\n",
       "      <th>Fare</th>\n",
       "      <th>Cabin</th>\n",
       "      <th>Embarked</th>\n",
       "    </tr>\n",
       "  </thead>\n",
       "  <tbody>\n",
       "    <tr>\n",
       "      <th>5</th>\n",
       "      <td>6</td>\n",
       "      <td>0</td>\n",
       "      <td>3</td>\n",
       "      <td>Moran, Mr. James</td>\n",
       "      <td>male</td>\n",
       "      <td>NaN</td>\n",
       "      <td>0</td>\n",
       "      <td>0</td>\n",
       "      <td>330877</td>\n",
       "      <td>8.4583</td>\n",
       "      <td>NaN</td>\n",
       "      <td>Q</td>\n",
       "    </tr>\n",
       "    <tr>\n",
       "      <th>17</th>\n",
       "      <td>18</td>\n",
       "      <td>1</td>\n",
       "      <td>2</td>\n",
       "      <td>Williams, Mr. Charles Eugene</td>\n",
       "      <td>male</td>\n",
       "      <td>NaN</td>\n",
       "      <td>0</td>\n",
       "      <td>0</td>\n",
       "      <td>244373</td>\n",
       "      <td>13.0000</td>\n",
       "      <td>NaN</td>\n",
       "      <td>S</td>\n",
       "    </tr>\n",
       "    <tr>\n",
       "      <th>19</th>\n",
       "      <td>20</td>\n",
       "      <td>1</td>\n",
       "      <td>3</td>\n",
       "      <td>Masselmani, Mrs. Fatima</td>\n",
       "      <td>female</td>\n",
       "      <td>NaN</td>\n",
       "      <td>0</td>\n",
       "      <td>0</td>\n",
       "      <td>2649</td>\n",
       "      <td>7.2250</td>\n",
       "      <td>NaN</td>\n",
       "      <td>C</td>\n",
       "    </tr>\n",
       "    <tr>\n",
       "      <th>26</th>\n",
       "      <td>27</td>\n",
       "      <td>0</td>\n",
       "      <td>3</td>\n",
       "      <td>Emir, Mr. Farred Chehab</td>\n",
       "      <td>male</td>\n",
       "      <td>NaN</td>\n",
       "      <td>0</td>\n",
       "      <td>0</td>\n",
       "      <td>2631</td>\n",
       "      <td>7.2250</td>\n",
       "      <td>NaN</td>\n",
       "      <td>C</td>\n",
       "    </tr>\n",
       "    <tr>\n",
       "      <th>28</th>\n",
       "      <td>29</td>\n",
       "      <td>1</td>\n",
       "      <td>3</td>\n",
       "      <td>O'Dwyer, Miss. Ellen \"Nellie\"</td>\n",
       "      <td>female</td>\n",
       "      <td>NaN</td>\n",
       "      <td>0</td>\n",
       "      <td>0</td>\n",
       "      <td>330959</td>\n",
       "      <td>7.8792</td>\n",
       "      <td>NaN</td>\n",
       "      <td>Q</td>\n",
       "    </tr>\n",
       "    <tr>\n",
       "      <th>...</th>\n",
       "      <td>...</td>\n",
       "      <td>...</td>\n",
       "      <td>...</td>\n",
       "      <td>...</td>\n",
       "      <td>...</td>\n",
       "      <td>...</td>\n",
       "      <td>...</td>\n",
       "      <td>...</td>\n",
       "      <td>...</td>\n",
       "      <td>...</td>\n",
       "      <td>...</td>\n",
       "      <td>...</td>\n",
       "    </tr>\n",
       "    <tr>\n",
       "      <th>859</th>\n",
       "      <td>860</td>\n",
       "      <td>0</td>\n",
       "      <td>3</td>\n",
       "      <td>Razi, Mr. Raihed</td>\n",
       "      <td>male</td>\n",
       "      <td>NaN</td>\n",
       "      <td>0</td>\n",
       "      <td>0</td>\n",
       "      <td>2629</td>\n",
       "      <td>7.2292</td>\n",
       "      <td>NaN</td>\n",
       "      <td>C</td>\n",
       "    </tr>\n",
       "    <tr>\n",
       "      <th>863</th>\n",
       "      <td>864</td>\n",
       "      <td>0</td>\n",
       "      <td>3</td>\n",
       "      <td>Sage, Miss. Dorothy Edith \"Dolly\"</td>\n",
       "      <td>female</td>\n",
       "      <td>NaN</td>\n",
       "      <td>8</td>\n",
       "      <td>2</td>\n",
       "      <td>CA. 2343</td>\n",
       "      <td>69.5500</td>\n",
       "      <td>NaN</td>\n",
       "      <td>S</td>\n",
       "    </tr>\n",
       "    <tr>\n",
       "      <th>868</th>\n",
       "      <td>869</td>\n",
       "      <td>0</td>\n",
       "      <td>3</td>\n",
       "      <td>van Melkebeke, Mr. Philemon</td>\n",
       "      <td>male</td>\n",
       "      <td>NaN</td>\n",
       "      <td>0</td>\n",
       "      <td>0</td>\n",
       "      <td>345777</td>\n",
       "      <td>9.5000</td>\n",
       "      <td>NaN</td>\n",
       "      <td>S</td>\n",
       "    </tr>\n",
       "    <tr>\n",
       "      <th>878</th>\n",
       "      <td>879</td>\n",
       "      <td>0</td>\n",
       "      <td>3</td>\n",
       "      <td>Laleff, Mr. Kristo</td>\n",
       "      <td>male</td>\n",
       "      <td>NaN</td>\n",
       "      <td>0</td>\n",
       "      <td>0</td>\n",
       "      <td>349217</td>\n",
       "      <td>7.8958</td>\n",
       "      <td>NaN</td>\n",
       "      <td>S</td>\n",
       "    </tr>\n",
       "    <tr>\n",
       "      <th>888</th>\n",
       "      <td>889</td>\n",
       "      <td>0</td>\n",
       "      <td>3</td>\n",
       "      <td>Johnston, Miss. Catherine Helen \"Carrie\"</td>\n",
       "      <td>female</td>\n",
       "      <td>NaN</td>\n",
       "      <td>1</td>\n",
       "      <td>2</td>\n",
       "      <td>W./C. 6607</td>\n",
       "      <td>23.4500</td>\n",
       "      <td>NaN</td>\n",
       "      <td>S</td>\n",
       "    </tr>\n",
       "  </tbody>\n",
       "</table>\n",
       "<p>177 rows × 12 columns</p>\n",
       "</div>"
      ],
      "text/plain": [
       "     PassengerId  Survived  Pclass                                      Name  \\\n",
       "5              6         0       3                          Moran, Mr. James   \n",
       "17            18         1       2              Williams, Mr. Charles Eugene   \n",
       "19            20         1       3                   Masselmani, Mrs. Fatima   \n",
       "26            27         0       3                   Emir, Mr. Farred Chehab   \n",
       "28            29         1       3             O'Dwyer, Miss. Ellen \"Nellie\"   \n",
       "..           ...       ...     ...                                       ...   \n",
       "859          860         0       3                          Razi, Mr. Raihed   \n",
       "863          864         0       3         Sage, Miss. Dorothy Edith \"Dolly\"   \n",
       "868          869         0       3               van Melkebeke, Mr. Philemon   \n",
       "878          879         0       3                        Laleff, Mr. Kristo   \n",
       "888          889         0       3  Johnston, Miss. Catherine Helen \"Carrie\"   \n",
       "\n",
       "        Sex  Age  SibSp  Parch      Ticket     Fare Cabin Embarked  \n",
       "5      male  NaN      0      0      330877   8.4583   NaN        Q  \n",
       "17     male  NaN      0      0      244373  13.0000   NaN        S  \n",
       "19   female  NaN      0      0        2649   7.2250   NaN        C  \n",
       "26     male  NaN      0      0        2631   7.2250   NaN        C  \n",
       "28   female  NaN      0      0      330959   7.8792   NaN        Q  \n",
       "..      ...  ...    ...    ...         ...      ...   ...      ...  \n",
       "859    male  NaN      0      0        2629   7.2292   NaN        C  \n",
       "863  female  NaN      8      2    CA. 2343  69.5500   NaN        S  \n",
       "868    male  NaN      0      0      345777   9.5000   NaN        S  \n",
       "878    male  NaN      0      0      349217   7.8958   NaN        S  \n",
       "888  female  NaN      1      2  W./C. 6607  23.4500   NaN        S  \n",
       "\n",
       "[177 rows x 12 columns]"
      ]
     },
     "execution_count": 11,
     "metadata": {},
     "output_type": "execute_result"
    }
   ],
   "source": [
    "df[df['Age'].isnull()]"
   ]
  },
  {
   "cell_type": "code",
   "execution_count": 12,
   "metadata": {
    "scrolled": false
   },
   "outputs": [
    {
     "data": {
      "text/plain": [
       "[5, 17, 19, 26, 28]"
      ]
     },
     "execution_count": 12,
     "metadata": {},
     "output_type": "execute_result"
    }
   ],
   "source": [
    "nullage = list(df[df['Age'].isnull()].index)\n",
    "nullage[0:5]"
   ]
  },
  {
   "cell_type": "code",
   "execution_count": 13,
   "metadata": {
    "scrolled": false
   },
   "outputs": [
    {
     "data": {
      "image/png": "[encoded data removed]",
      "text/plain": [
       "<Figure size 1152x648 with 1 Axes>"
      ]
     },
     "metadata": {
      "needs_background": "light"
     },
     "output_type": "display_data"
    }
   ],
   "source": [
    "df2 = df.loc[:,['Pclass','Sex','SibSp','Parch','Fare','Embarked','Age']]\n",
    "\n",
    "df2['Sex'].replace(['female','male'],[0,1],inplace=True)\n",
    "df2['Embarked'].replace(['C','Q','S'],[0,1,2],inplace=True)\n",
    "df3 = df2.copy()\n",
    "\n",
    "df2.dropna(inplace=True)\n",
    "data = np.array(df2)\n",
    "X = data[:,:6]\n",
    "y = data[:,6]\n",
    "n_neighbors = 3\n",
    "\n",
    "scaler = preprocessing.StandardScaler().fit(X)\n",
    "\n",
    "T = np.array(df3[df3['Age'].isnull()])\n",
    "T = scaler.transform(T[:,:6])\n",
    "X = scaler.transform(X)\n",
    "\n",
    "knn = neighbors.KNeighborsRegressor(n_neighbors,weights='distance',algorithm='brute',n_jobs=-1)\n",
    "knn.fit(X,y)\n",
    "\n",
    "plt.figure(figsize=(16,9))\n",
    "df.iloc[nullage,5] = knn.predict(T)\n",
    "plt.hist(df['Age'],color='y',bins=np.arange(0,80,10))\n",
    "plt.hist(knn.predict(T),bins=np.arange(0,80,10))\n",
    "df.iloc[nullage,5] = knn.predict(T)\n",
    "\n",
    "plt.show()"
   ]
  },
  {
   "cell_type": "code",
   "execution_count": 14,
   "metadata": {},
   "outputs": [
    {
     "data": {
      "text/html": [
       "<div>\n",
       "<style scoped>\n",
       "    .dataframe tbody tr th:only-of-type {\n",
       "        vertical-align: middle;\n",
       "    }\n",
       "\n",
       "    .dataframe tbody tr th {\n",
       "        vertical-align: top;\n",
       "    }\n",
       "\n",
       "    .dataframe thead th {\n",
       "        text-align: right;\n",
       "    }\n",
       "</style>\n",
       "<table border=\"1\" class=\"dataframe\">\n",
       "  <thead>\n",
       "    <tr style=\"text-align: right;\">\n",
       "      <th></th>\n",
       "      <th>PassengerId</th>\n",
       "      <th>Survived</th>\n",
       "      <th>Pclass</th>\n",
       "      <th>Name</th>\n",
       "      <th>Sex</th>\n",
       "      <th>Age</th>\n",
       "      <th>SibSp</th>\n",
       "      <th>Parch</th>\n",
       "      <th>Ticket</th>\n",
       "      <th>Fare</th>\n",
       "      <th>Cabin</th>\n",
       "      <th>Embarked</th>\n",
       "    </tr>\n",
       "  </thead>\n",
       "  <tbody>\n",
       "  </tbody>\n",
       "</table>\n",
       "</div>"
      ],
      "text/plain": [
       "Empty DataFrame\n",
       "Columns: [PassengerId, Survived, Pclass, Name, Sex, Age, SibSp, Parch, Ticket, Fare, Cabin, Embarked]\n",
       "Index: []"
      ]
     },
     "execution_count": 14,
     "metadata": {},
     "output_type": "execute_result"
    }
   ],
   "source": [
    "df[df['Age'].isnull()]"
   ]
  },
  {
   "cell_type": "code",
   "execution_count": 210,
   "metadata": {},
   "outputs": [],
   "source": [
    "model = []"
   ]
  },
  {
   "cell_type": "markdown",
   "metadata": {},
   "source": [
    "# BY SEX"
   ]
  },
  {
   "cell_type": "code",
   "execution_count": 15,
   "metadata": {},
   "outputs": [
    {
     "data": {
      "text/plain": [
       "array([[468., 109.],\n",
       "       [ 81., 233.]])"
      ]
     },
     "execution_count": 15,
     "metadata": {},
     "output_type": "execute_result"
    }
   ],
   "source": [
    "sexes = ['male','female']\n",
    "bysex = np.zeros((2,2))\n",
    "for i in range(0,len(sexes)):\n",
    "    bysex[i] = df[df['Sex'] == sexes[i]]['Survived'].value_counts().sort_index()\n",
    "bysex"
   ]
  },
  {
   "cell_type": "code",
   "execution_count": 16,
   "metadata": {},
   "outputs": [
    {
     "name": "stdout",
     "output_type": "stream",
     "text": [
      "Survival rate of:\n",
      "\tmales:\t\t 0.189\n",
      "\tfemales:\t 0.742\n"
     ]
    }
   ],
   "source": [
    "males_rate = bysex[0][1]/np.sum(bysex[0])\n",
    "females_rate = bysex[1][1]/np.sum(bysex[1])\n",
    "print('Survival rate of:')\n",
    "print('\\tmales:\\t\\t',f'{males_rate:.3f}')\n",
    "print('\\tfemales:\\t',f'{females_rate:.3f}')"
   ]
  },
  {
   "cell_type": "code",
   "execution_count": 17,
   "metadata": {
    "scrolled": false
   },
   "outputs": [
    {
     "data": {
      "image/png": "[encoded data removed]",
      "text/plain": [
       "<Figure size 720x576 with 1 Axes>"
      ]
     },
     "metadata": {
      "needs_background": "light"
     },
     "output_type": "display_data"
    }
   ],
   "source": [
    "labels = ['No Survive', 'Survive']\n",
    "male = bysex[0]\n",
    "female = bysex[1]\n",
    "\n",
    "x = np.arange(len(labels))  # the label locations\n",
    "width = 0.35  # the width of the bars\n",
    "\n",
    "fig, ax = plt.subplots(figsize=(10,8))\n",
    "rects1 = ax.bar(x - width/2, male, width, label='Men')\n",
    "rects2 = ax.bar(x + width/2, female, width, label='Women')\n",
    "\n",
    "# Add some text for labels, title and custom x-axis tick labels, etc.\n",
    "ax.set_ylabel('Passengers')\n",
    "ax.set_title('Survival by Sex')\n",
    "ax.set_xticks(x)\n",
    "ax.set_ylim(0,500)\n",
    "ax.set_xticklabels(labels)\n",
    "ax.legend()\n",
    "\n",
    "def autolabel(rects):\n",
    "    \"\"\"Attach a text label above each bar in *rects*, displaying its height.\"\"\"\n",
    "    for rect in rects:\n",
    "        height = rect.get_height()\n",
    "        ax.annotate('{}'.format(height),\n",
    "                    xy=(rect.get_x() + rect.get_width() / 2, height),\n",
    "                    xytext=(0, 3),  # 3 points vertical offset\n",
    "                    textcoords=\"offset points\",\n",
    "                    ha='center', va='bottom')\n",
    "\n",
    "autolabel(rects1)\n",
    "autolabel(rects2)\n",
    "\n",
    "plt.show()"
   ]
  },
  {
   "cell_type": "code",
   "execution_count": 18,
   "metadata": {},
   "outputs": [
    {
     "data": {
      "image/png": "[encoded data removed]",
      "text/plain": [
       "<Figure size 720x576 with 1 Axes>"
      ]
     },
     "metadata": {
      "needs_background": "light"
     },
     "output_type": "display_data"
    }
   ],
   "source": [
    "labels = ['No Survive', 'Survive']\n",
    "male = np.round(bysex[0]/np.sum(bysex[0]),2)\n",
    "female = np.round(bysex[1]/np.sum(bysex[1]),2)\n",
    "\n",
    "x = np.arange(len(labels))  # the label locations\n",
    "width = 0.35  # the width of the bars\n",
    "\n",
    "fig, ax = plt.subplots(figsize=(10,8))\n",
    "rects1 = ax.bar(x - width/2, male, width, label='Male')\n",
    "rects2 = ax.bar(x + width/2, female, width, label='Female')\n",
    "\n",
    "# Add some text for labels, title and custom x-axis tick labels, etc.\n",
    "ax.set_ylabel('Rate')\n",
    "ax.set_title('Survival by Sex')\n",
    "ax.set_xticks(x)\n",
    "ax.set_ylim(0,1)\n",
    "ax.set_xticklabels(labels)\n",
    "ax.legend()\n",
    "\n",
    "autolabel(rects1)\n",
    "autolabel(rects2)\n",
    "\n",
    "plt.show()"
   ]
  },
  {
   "cell_type": "code",
   "execution_count": 19,
   "metadata": {},
   "outputs": [
    {
     "data": {
      "text/plain": [
       "891"
      ]
     },
     "execution_count": 19,
     "metadata": {},
     "output_type": "execute_result"
    }
   ],
   "source": [
    "df['male'] = df['Sex'] == 'male'\n",
    "df['male'].replace([True,False],[1,0],inplace=True)\n",
    "X = np.array(df['male'])\n",
    "y = np.array(df['Survived'])\n",
    "\n",
    "len(y)"
   ]
  },
  {
   "cell_type": "code",
   "execution_count": 20,
   "metadata": {
    "scrolled": false
   },
   "outputs": [
    {
     "data": {
      "text/plain": [
       "(-0.5433513806577572, 1.406066130876717e-69)"
      ]
     },
     "execution_count": 20,
     "metadata": {},
     "output_type": "execute_result"
    }
   ],
   "source": [
    "stats.pearsonr(X,y)"
   ]
  },
  {
   "cell_type": "code",
   "execution_count": 211,
   "metadata": {},
   "outputs": [
    {
     "data": {
      "text/plain": [
       "['male']"
      ]
     },
     "execution_count": 211,
     "metadata": {},
     "output_type": "execute_result"
    }
   ],
   "source": [
    "model.append('male')\n",
    "model"
   ]
  },
  {
   "cell_type": "markdown",
   "metadata": {},
   "source": [
    "#### Discussion\n",
    "There is a statistically significant indirect correlation between being a male and survival. Our model should include whether or not the passenger is male."
   ]
  },
  {
   "cell_type": "markdown",
   "metadata": {},
   "source": [
    "# BY PORT of EMBARKATION\n"
   ]
  },
  {
   "cell_type": "code",
   "execution_count": 212,
   "metadata": {},
   "outputs": [],
   "source": [
    "df['Embarked'].replace(np.nan,'S',inplace=True)\n",
    "ports = df['Embarked'].unique()"
   ]
  },
  {
   "cell_type": "code",
   "execution_count": 213,
   "metadata": {
    "scrolled": false
   },
   "outputs": [],
   "source": [
    "byport = np.zeros((len(ports),2))\n",
    "byport\n",
    "for i in range(0,len(ports)):\n",
    "    byport[i] = df[df['Embarked'] == ports[i]]['Survived'].value_counts().sort_index()"
   ]
  },
  {
   "cell_type": "code",
   "execution_count": 214,
   "metadata": {},
   "outputs": [
    {
     "name": "stdout",
     "output_type": "stream",
     "text": [
      "Survival rate of:\n",
      "\tS: 0.34\n",
      "\tC: 0.55\n",
      "\tQ: 0.39\n"
     ]
    }
   ],
   "source": [
    "print('Survival rate of:')\n",
    "for i in range(0,len(ports)):\n",
    "    print(f'\\t{ports[i]}: {byport[i][1]/np.sum(byport[i]):.2f}')"
   ]
  },
  {
   "cell_type": "code",
   "execution_count": 215,
   "metadata": {},
   "outputs": [
    {
     "data": {
      "image/png": "[encoded data removed]",
      "text/plain": [
       "<Figure size 720x576 with 1 Axes>"
      ]
     },
     "metadata": {
      "needs_background": "light"
     },
     "output_type": "display_data"
    }
   ],
   "source": [
    "labels = ['No Survive', 'Survive']\n",
    "S = byport[0]\n",
    "C = byport[1]\n",
    "Q = byport[2]\n",
    "\n",
    "x = np.arange(len(labels))  # the label locations\n",
    "width = 0.2  # the width of the bars\n",
    "\n",
    "fig, ax = plt.subplots(figsize=(10,8))\n",
    "rects1 = ax.bar(x - width, S, width, label='Southampton')\n",
    "rects2 = ax.bar(x , C, width, label='Cherbourg')\n",
    "rects3 = ax.bar(x + width, Q, width, label='Queenstown')\n",
    "\n",
    "\n",
    "# Add some text for labels, title and custom x-axis tick labels, etc.\n",
    "ax.set_ylabel('Passengers')\n",
    "ax.set_title('Survival by Port')\n",
    "ax.set_xticks(x)\n",
    "ax.set_ylim(0,500)\n",
    "ax.set_xticklabels(labels)\n",
    "ax.legend()\n",
    "\n",
    "autolabel(rects1)\n",
    "autolabel(rects2)\n",
    "autolabel(rects3)\n",
    "\n",
    "plt.show()"
   ]
  },
  {
   "cell_type": "code",
   "execution_count": 216,
   "metadata": {
    "scrolled": false
   },
   "outputs": [
    {
     "data": {
      "image/png": "[encoded data removed]",
      "text/plain": [
       "<Figure size 720x576 with 1 Axes>"
      ]
     },
     "metadata": {
      "needs_background": "light"
     },
     "output_type": "display_data"
    }
   ],
   "source": [
    "\n",
    "labels = ['No Survive', 'Survive']\n",
    "S = np.round(byport[0]/np.sum(byport[0]),2)\n",
    "C = np.round(byport[1]/np.sum(byport[1]),2)\n",
    "Q = np.round(byport[2]/np.sum(byport[2]),2)\n",
    "\n",
    "x = np.arange(len(labels))  # the label locations\n",
    "width = 0.2  # the width of the bars\n",
    "\n",
    "fig, ax = plt.subplots(figsize=(10,8))\n",
    "rects1 = ax.bar(x - width, S, width, label='Southampton')\n",
    "rects2 = ax.bar(x , C, width, label='Cherbourg')\n",
    "rects3 = ax.bar(x + width, Q, width, label='Queenstown')\n",
    "\n",
    "\n",
    "# Add some text for labels, title and custom x-axis tick labels, etc.\n",
    "ax.set_ylabel('rate')\n",
    "ax.set_title('Survival by Port')\n",
    "ax.set_xticks(x)\n",
    "ax.set_ylim(0,1)\n",
    "ax.set_xticklabels(labels)\n",
    "ax.legend()\n",
    "\n",
    "autolabel(rects1)\n",
    "autolabel(rects2)\n",
    "autolabel(rects3)\n",
    "\n",
    "plt.show()"
   ]
  },
  {
   "cell_type": "code",
   "execution_count": 217,
   "metadata": {},
   "outputs": [
    {
     "data": {
      "text/plain": [
       "891"
      ]
     },
     "execution_count": 217,
     "metadata": {},
     "output_type": "execute_result"
    }
   ],
   "source": [
    "len(y)"
   ]
  },
  {
   "cell_type": "code",
   "execution_count": 218,
   "metadata": {},
   "outputs": [
    {
     "data": {
      "text/plain": [
       "['male']"
      ]
     },
     "execution_count": 218,
     "metadata": {},
     "output_type": "execute_result"
    }
   ],
   "source": [
    "model"
   ]
  },
  {
   "cell_type": "code",
   "execution_count": 219,
   "metadata": {},
   "outputs": [
    {
     "name": "stdout",
     "output_type": "stream",
     "text": [
      "Embarked Q:\n",
      "\tcorr 0.004\n",
      "\tp-value 9.134e-01\n",
      "\n",
      "Embarked S:\n",
      "\tcorr -0.150\n",
      "\tp-value 7.223e-06\n",
      "\n"
     ]
    }
   ],
   "source": [
    "portdum = pd.get_dummies(df['Embarked'])\n",
    "ports = np.array(portdum.columns)\n",
    "X = np.array(portdum)\n",
    "for i in range(0,3):\n",
    "    if stats.pearsonr(X[:,i],y)[0] < 0.05:\n",
    "        print(f'Embarked {ports[i]}:')\n",
    "        print(f'\\tcorr {stats.pearsonr(X[:,i],y)[0]:.3f}')\n",
    "        print(f'\\tp-value {stats.pearsonr(X[:,i],y)[1]:.3e}')\n",
    "        model.append(f'port_{ports[i]}')\n",
    "        print()"
   ]
  },
  {
   "cell_type": "markdown",
   "metadata": {},
   "source": [
    "#### Discussion\n",
    "These values suggest that embarking at Cherbourg has a statistically significant direct correlation with surviving. Southampton has a similar indirect correlation. There is no statisically significant correlation between embarking at Queenstown and survival. Our model should include whether the passenger embarked at Cherbourg or Southampton."
   ]
  },
  {
   "cell_type": "markdown",
   "metadata": {},
   "source": [
    "# BY DECK"
   ]
  },
  {
   "cell_type": "code",
   "execution_count": 220,
   "metadata": {
    "scrolled": true
   },
   "outputs": [
    {
     "data": {
      "text/html": [
       "<div>\n",
       "<style scoped>\n",
       "    .dataframe tbody tr th:only-of-type {\n",
       "        vertical-align: middle;\n",
       "    }\n",
       "\n",
       "    .dataframe tbody tr th {\n",
       "        vertical-align: top;\n",
       "    }\n",
       "\n",
       "    .dataframe thead th {\n",
       "        text-align: right;\n",
       "    }\n",
       "</style>\n",
       "<table border=\"1\" class=\"dataframe\">\n",
       "  <thead>\n",
       "    <tr style=\"text-align: right;\">\n",
       "      <th></th>\n",
       "      <th>PassengerId</th>\n",
       "      <th>Survived</th>\n",
       "      <th>Pclass</th>\n",
       "      <th>Name</th>\n",
       "      <th>Sex</th>\n",
       "      <th>Age</th>\n",
       "      <th>SibSp</th>\n",
       "      <th>Parch</th>\n",
       "      <th>Ticket</th>\n",
       "      <th>Fare</th>\n",
       "      <th>Cabin</th>\n",
       "      <th>Embarked</th>\n",
       "      <th>male</th>\n",
       "      <th>deck</th>\n",
       "      <th>nickname</th>\n",
       "      <th>family</th>\n",
       "      <th>title</th>\n",
       "    </tr>\n",
       "  </thead>\n",
       "  <tbody>\n",
       "    <tr>\n",
       "      <th>0</th>\n",
       "      <td>1</td>\n",
       "      <td>0</td>\n",
       "      <td>3</td>\n",
       "      <td>Braund, Mr. Owen Harris</td>\n",
       "      <td>male</td>\n",
       "      <td>22.0</td>\n",
       "      <td>1</td>\n",
       "      <td>0</td>\n",
       "      <td>A/5 21171</td>\n",
       "      <td>7.2500</td>\n",
       "      <td>??</td>\n",
       "      <td>S</td>\n",
       "      <td>1</td>\n",
       "      <td>?</td>\n",
       "      <td>False</td>\n",
       "      <td>Braund</td>\n",
       "      <td>Mr</td>\n",
       "    </tr>\n",
       "    <tr>\n",
       "      <th>1</th>\n",
       "      <td>2</td>\n",
       "      <td>1</td>\n",
       "      <td>1</td>\n",
       "      <td>Cumings, Mrs. John Bradley (Florence Briggs Th...</td>\n",
       "      <td>female</td>\n",
       "      <td>38.0</td>\n",
       "      <td>1</td>\n",
       "      <td>0</td>\n",
       "      <td>PC 17599</td>\n",
       "      <td>71.2833</td>\n",
       "      <td>C85</td>\n",
       "      <td>C</td>\n",
       "      <td>0</td>\n",
       "      <td>C</td>\n",
       "      <td>False</td>\n",
       "      <td>Cumings</td>\n",
       "      <td>Mrs</td>\n",
       "    </tr>\n",
       "    <tr>\n",
       "      <th>2</th>\n",
       "      <td>3</td>\n",
       "      <td>1</td>\n",
       "      <td>3</td>\n",
       "      <td>Heikkinen, Miss. Laina</td>\n",
       "      <td>female</td>\n",
       "      <td>26.0</td>\n",
       "      <td>0</td>\n",
       "      <td>0</td>\n",
       "      <td>STON/O2. 3101282</td>\n",
       "      <td>7.9250</td>\n",
       "      <td>??</td>\n",
       "      <td>S</td>\n",
       "      <td>0</td>\n",
       "      <td>?</td>\n",
       "      <td>False</td>\n",
       "      <td>Heikkinen</td>\n",
       "      <td>Miss</td>\n",
       "    </tr>\n",
       "  </tbody>\n",
       "</table>\n",
       "</div>"
      ],
      "text/plain": [
       "   PassengerId  Survived  Pclass  \\\n",
       "0            1         0       3   \n",
       "1            2         1       1   \n",
       "2            3         1       3   \n",
       "\n",
       "                                                Name     Sex   Age  SibSp  \\\n",
       "0                            Braund, Mr. Owen Harris    male  22.0      1   \n",
       "1  Cumings, Mrs. John Bradley (Florence Briggs Th...  female  38.0      1   \n",
       "2                             Heikkinen, Miss. Laina  female  26.0      0   \n",
       "\n",
       "   Parch            Ticket     Fare Cabin Embarked  male deck  nickname  \\\n",
       "0      0         A/5 21171   7.2500    ??        S     1    ?     False   \n",
       "1      0          PC 17599  71.2833   C85        C     0    C     False   \n",
       "2      0  STON/O2. 3101282   7.9250    ??        S     0    ?     False   \n",
       "\n",
       "      family title  \n",
       "0     Braund    Mr  \n",
       "1    Cumings   Mrs  \n",
       "2  Heikkinen  Miss  "
      ]
     },
     "execution_count": 220,
     "metadata": {},
     "output_type": "execute_result"
    }
   ],
   "source": [
    "df[0:3]"
   ]
  },
  {
   "cell_type": "code",
   "execution_count": 221,
   "metadata": {},
   "outputs": [],
   "source": [
    "df['Cabin'].replace(np.nan,'??',inplace=True)\n",
    "def get_deck(cabin):\n",
    "    return str(cabin)[0]\n",
    "df['deck'] = df['Cabin'].apply(get_deck)"
   ]
  },
  {
   "cell_type": "code",
   "execution_count": 222,
   "metadata": {
    "scrolled": true
   },
   "outputs": [],
   "source": [
    "decks = df['deck'].unique()\n",
    "decks.sort()"
   ]
  },
  {
   "cell_type": "code",
   "execution_count": 223,
   "metadata": {
    "scrolled": true
   },
   "outputs": [],
   "source": [
    "bydeck = np.zeros((len(decks),2))\n",
    "for i in range(0,len(decks)):\n",
    "    if len(df[df['deck'] == decks[i]]['Survived']) > 1:\n",
    "        bydeck[i] = df[df['deck'] == decks[i]]['Survived'].value_counts().sort_index()\n",
    "    elif df[df['deck'] == decks[8]]['Survived'].value_counts().index[0] == 0:\n",
    "        bydeck[i] = [df[df['deck'] == decks[8]]['Survived'].value_counts(),0]"
   ]
  },
  {
   "cell_type": "code",
   "execution_count": 224,
   "metadata": {},
   "outputs": [
    {
     "name": "stdout",
     "output_type": "stream",
     "text": [
      "Survival rate of:\n",
      "\tDeck ?: 0.30\n",
      "\tDeck A: 0.47\n",
      "\tDeck B: 0.74\n",
      "\tDeck C: 0.59\n",
      "\tDeck D: 0.76\n",
      "\tDeck E: 0.75\n",
      "\tDeck F: 0.62\n",
      "\tDeck G: 0.50\n",
      "\tDeck T: 0.00\n"
     ]
    }
   ],
   "source": [
    "print('Survival rate of:')\n",
    "for i in range(0,len(decks)):\n",
    "    print(f'\\tDeck {decks[i]}: {bydeck[i][1]/np.sum(bydeck[i]):.2f}')"
   ]
  },
  {
   "cell_type": "code",
   "execution_count": 225,
   "metadata": {},
   "outputs": [
    {
     "data": {
      "image/png": "[encoded data removed]",
      "text/plain": [
       "<Figure size 1152x648 with 1 Axes>"
      ]
     },
     "metadata": {
      "needs_background": "light"
     },
     "output_type": "display_data"
    }
   ],
   "source": [
    "labels = ['No Survive', 'Survive']\n",
    "\n",
    "x = np.arange(0,2)  # the label locations\n",
    "width = 0.5  # the width of the bars\n",
    "\n",
    "fig, ax = plt.subplots(figsize=(16,9))\n",
    "\n",
    "for i in range(1,len(decks)):\n",
    "    b = ax.bar(x + (i-5)*width/5, bydeck[i], width/5, label=decks[i])\n",
    "    autolabel(b)\n",
    "\n",
    "# Add some text for labels, title and custom x-axis tick labels, etc.\n",
    "ax.set_ylabel('Passengers')\n",
    "ax.set_title('Survival by Deck')\n",
    "ax.set_xticks(x)\n",
    "#ax.set_ylim(0,505)\n",
    "ax.set_xticklabels(labels)\n",
    "ax.legend()\n",
    "\n",
    "plt.show()"
   ]
  },
  {
   "cell_type": "code",
   "execution_count": 226,
   "metadata": {},
   "outputs": [
    {
     "name": "stdout",
     "output_type": "stream",
     "text": [
      "colors: 18\n"
     ]
    }
   ],
   "source": [
    "# A snippet to generate distinct colors for our clusters.\n",
    "import colorsys\n",
    "N = 2*len(np.unique(decks))\n",
    "print('colors: {}'.format(N))\n",
    "rgb_list = []\n",
    "HSV_tuples = []\n",
    "for x in range(1,N+1):\n",
    "    if (x%2 == 0):\n",
    "        HSV_tuples.append(((x-1)*1.0/N, 1.0, 0.325))\n",
    "    else:\n",
    "        HSV_tuples.append((x*1.0/N, 1.0, 0.75))\n",
    "RGB_tuples = map(lambda x: colorsys.hsv_to_rgb(*x), HSV_tuples)\n",
    "for rgb in RGB_tuples:\n",
    "        color = [int(255*rgb[0]),int(255*rgb[1]),int(255*rgb[2])]\n",
    "        hxstr = '#'\n",
    "        for c in color:\n",
    "            hxstr = hxstr + '{0:0{1}X}'.format(c,2)\n",
    "        rgb_list.append(hxstr)    \n"
   ]
  },
  {
   "cell_type": "code",
   "execution_count": 227,
   "metadata": {
    "scrolled": false
   },
   "outputs": [
    {
     "data": {
      "image/png": "[encoded data removed]",
      "text/plain": [
       "<Figure size 1152x648 with 1 Axes>"
      ]
     },
     "metadata": {
      "needs_background": "light"
     },
     "output_type": "display_data"
    }
   ],
   "source": [
    "x = np.arange(-2.0,2.0)  # the label locations\n",
    "width = 5.0  # the width of the bars\n",
    "\n",
    "fig, ax = plt.subplots(figsize=(16,9))\n",
    "rects = []\n",
    "for i in range(0,len(decks)):\n",
    "    b = plt.barh(i, np.round(bydeck[i,1]/np.sum(bydeck[i]),2), width/5, label=decks[i],color=rgb_list[2*i])\n",
    "    nb = plt.barh(i, -np.round(bydeck[i,0]/np.sum(bydeck[i]),2), width/5, label=decks[i],color=rgb_list[2*i+1])\n",
    "    plt.annotate(f'N = {str(int(np.sum(bydeck[i])))}',xy=[-0.20,i-0.1],c='white')\n",
    "    rects.append(b)\n",
    "ax.set_xlabel('\\nDeath                                                        Survival\\nRate')\n",
    "ax.set_ylabel('Deck')\n",
    "ax.set_title('Survival by Deck')\n",
    "ax.set_yticks(range(0,9))\n",
    "ax.set_xlim(-1.1,1.1)\n",
    "ax.set_yticklabels(decks)\n",
    "ax.grid(axis='x')\n",
    "plt.show()"
   ]
  },
  {
   "cell_type": "code",
   "execution_count": 231,
   "metadata": {
    "scrolled": false
   },
   "outputs": [
    {
     "name": "stdout",
     "output_type": "stream",
     "text": [
      "Deck ? \n",
      "\tcorr -0.317\n",
      "\tp-value 3.091e-22\n",
      "\tSignificant: True\n",
      "+------------------------+\n",
      "Deck B \n",
      "\tcorr 0.175\n",
      "\tp-value 1.442e-07\n",
      "\tSignificant: True\n",
      "+------------------------+\n",
      "Deck C \n",
      "\tcorr 0.115\n",
      "\tp-value 6.062e-04\n",
      "\tSignificant: True\n",
      "+------------------------+\n",
      "Deck D \n",
      "\tcorr 0.151\n",
      "\tp-value 6.233e-06\n",
      "\tSignificant: True\n",
      "+------------------------+\n",
      "Deck E \n",
      "\tcorr 0.145\n",
      "\tp-value 1.332e-05\n",
      "\tSignificant: True\n",
      "+------------------------+\n"
     ]
    }
   ],
   "source": [
    "deckdum = pd.get_dummies(df['deck'])\n",
    "decks = np.array(deckdum.columns)\n",
    "X = np.array(deckdum)\n",
    "for i in range(0,len(decks)):\n",
    "    pr = stats.pearsonr(X[:,i],y)\n",
    "    significant = ( pr[1] < 0.05)\n",
    "    if significant:\n",
    "        print(f'Deck {decks[i]} ')\n",
    "        print(f'\\tcorr {pr[0]:.3f}')\n",
    "        print(f'\\tp-value {pr[1]:.3e}')\n",
    "        print(f'\\tSignificant: {significant}')\n",
    "        model.append(f'deck_{decks[i]}')\n",
    "        print('+------------------------+')"
   ]
  },
  {
   "cell_type": "markdown",
   "metadata": {},
   "source": [
    "#### Discussion\n",
    "There is a statistically significant correlation between staying on Deck B, C, D, E and survival. Conversely, if the deck of the passenger is unknown there is a correlation with not surviving. There is no significant correlation for the other decks A, F, G, & T. The significant decks should be included in our model."
   ]
  },
  {
   "cell_type": "markdown",
   "metadata": {},
   "source": [
    "# BY AGE"
   ]
  },
  {
   "cell_type": "code",
   "execution_count": 232,
   "metadata": {},
   "outputs": [
    {
     "data": {
      "text/plain": [
       "['male', 'port_Q', 'port_S', 'deck_?', 'deck_B', 'deck_C', 'deck_D', 'deck_E']"
      ]
     },
     "execution_count": 232,
     "metadata": {},
     "output_type": "execute_result"
    }
   ],
   "source": [
    "model"
   ]
  },
  {
   "cell_type": "code",
   "execution_count": 233,
   "metadata": {
    "scrolled": false
   },
   "outputs": [
    {
     "data": {
      "image/png": "[encoded data removed]",
      "text/plain": [
       "<Figure size 1152x648 with 1 Axes>"
      ]
     },
     "metadata": {
      "needs_background": "light"
     },
     "output_type": "display_data"
    }
   ],
   "source": [
    "nbins = 12\n",
    "ylim = df['Age'].max()\n",
    "binwidth= ylim/nbins\n",
    "\n",
    "bins = np.arange(0,ylim,binwidth)\n",
    "\n",
    "\n",
    "thedigital = np.digitize(df['Age'],bins,right=True)\n",
    "thecount = np.bincount(thedigital)\n",
    "\n",
    "#print(age_cts)\n",
    "plt.figure(figsize=(16,9))\n",
    "plt.bar(bins+binwidth/2,thecount[1:],width=binwidth*0.95)\n",
    "plt.xticks(bins)\n",
    "plt.show()"
   ]
  },
  {
   "cell_type": "code",
   "execution_count": 234,
   "metadata": {
    "scrolled": false
   },
   "outputs": [
    {
     "data": {
      "image/png": "[encoded data removed]",
      "text/plain": [
       "<Figure size 1152x648 with 1 Axes>"
      ]
     },
     "metadata": {
      "needs_background": "light"
     },
     "output_type": "display_data"
    }
   ],
   "source": [
    "dig_sur = np.digitize(df[df['Survived'] == 1]['Age'],bins,right=True)\n",
    "freq_sur = np.bincount(dig_sur,minlength=len(bins)+1)\n",
    "\n",
    "dig_die = np.digitize(df[df['Survived'] == 0]['Age'],bins,right=True)\n",
    "freq_die = np.bincount(dig_die,minlength=len(bins)+1)\n",
    "\n",
    "xmax = freq_die.max()+5\n",
    "xlim = [-xmax,xmax]\n",
    "\n",
    "plt.figure(figsize=(16,9))\n",
    "plt.barh(bins+binwidth/2,freq_sur[1:],height=binwidth*0.9)\n",
    "plt.barh(bins+binwidth/2,-freq_die[1:],height=binwidth*0.9)\n",
    "plt.xlim(xlim)\n",
    "plt.yticks(bins)\n",
    "plt.ylabel('Age')\n",
    "plt.xlabel('Lost                                     Saved\\nLives')\n",
    "\n",
    "plt.show()"
   ]
  },
  {
   "cell_type": "code",
   "execution_count": 235,
   "metadata": {},
   "outputs": [
    {
     "name": "stdout",
     "output_type": "stream",
     "text": [
      "[ 0  6 13 20 26 33 40 46 53 60 66 73]\n",
      "[[0 0 0 1 0 0 0 0 0 0 0 0 0]\n",
      " [0 0 0 0 0 1 0 0 0 0 0 0 0]\n",
      " [0 0 0 1 0 0 0 0 0 0 0 0 0]\n",
      " [0 0 0 0 0 1 0 0 0 0 0 0 0]\n",
      " [0 0 0 0 0 1 0 0 0 0 0 0 0]\n",
      " [0 0 0 0 0 0 0 0 1 0 0 0 0]\n",
      " [0 0 0 0 0 0 0 0 1 0 0 0 0]\n",
      " [1 0 0 0 0 0 0 0 0 0 0 0 0]\n",
      " [0 0 0 0 1 0 0 0 0 0 0 0 0]\n",
      " [0 0 1 0 0 0 0 0 0 0 0 0 0]]\n"
     ]
    }
   ],
   "source": [
    "age_arr = np.zeros((len(df),len(bins)+1))\n",
    "\n",
    "for i in range(0,len(df)):\n",
    "    for j in range(0,len(bins)):\n",
    "        if (df['Age'][i] > bins[j]) & (df['Age'][i] <= bins[j]+binwidth):\n",
    "            age_arr[i,j] = 1\n",
    "            break\n",
    "print(bins.astype(int))\n",
    "print(age_arr[0:10].astype(int))"
   ]
  },
  {
   "cell_type": "code",
   "execution_count": 236,
   "metadata": {},
   "outputs": [
    {
     "data": {
      "image/png": "[encoded data removed]",
      "text/plain": [
       "<Figure size 1152x648 with 1 Axes>"
      ]
     },
     "metadata": {
      "needs_background": "light"
     },
     "output_type": "display_data"
    }
   ],
   "source": [
    "list = []\n",
    "for nb in range(2,int(ylim/2)):\n",
    "\n",
    "    _binwidth = ylim/nb\n",
    "    _bins = np.arange(0,ylim,_binwidth)\n",
    "    _age_arr = np.zeros((len(df),len(_bins)+1))\n",
    "    for i in range(0,len(df)):\n",
    "        for j in range(0,len(_bins)):\n",
    "            if (df['Age'][i] > _bins[j]) & (df['Age'][i] <= _bins[j]+_binwidth):\n",
    "\n",
    "                _age_arr[i,j] = 1\n",
    "                break\n",
    "    _X = _age_arr\n",
    "    _total = 0\n",
    "    for i in range(0,_age_arr.shape[1]-1):\n",
    "        if stats.pearsonr(_X[:,i],y)[1] < 0.05:\n",
    "            _total = _total + np.sum(_X[:,i])\n",
    "    list.append([nb,_total])   \n",
    "data= np.array(list)\n",
    "plt.figure(figsize=(16,9))\n",
    "plt.plot(data[:,0],data[:,1])\n",
    "plt.axvline(12,color='r',linestyle=':')\n",
    "plt.ylabel('Number of people correlated, p < 0.05')\n",
    "plt.xlabel('Number of Bins')\n",
    "plt.show()"
   ]
  },
  {
   "cell_type": "code",
   "execution_count": 245,
   "metadata": {},
   "outputs": [
    {
     "data": {
      "text/plain": [
       "'26.7'"
      ]
     },
     "execution_count": 245,
     "metadata": {},
     "output_type": "execute_result"
    }
   ],
   "source": [
    "f'{bins[4]:.1f}'"
   ]
  },
  {
   "cell_type": "code",
   "execution_count": 246,
   "metadata": {
    "scrolled": false
   },
   "outputs": [
    {
     "name": "stdout",
     "output_type": "stream",
     "text": [
      "i = 0\n",
      "Age 0.0 : 6.7 \n",
      "\tcorr 0.133\n",
      "\tp-value 0.000\n",
      "\tSignificant: True\n",
      "\tPassengers: 51.0\n",
      "+------------------------+\n",
      "i = 3\n",
      "Age 20.0 : 26.7 \n",
      "\tcorr -0.073\n",
      "\tp-value 0.029\n",
      "\tSignificant: True\n",
      "\tPassengers: 179.0\n",
      "+------------------------+\n",
      "230.0\n"
     ]
    }
   ],
   "source": [
    "bins = np.arange(0,ylim,binwidth)\n",
    "X = age_arr\n",
    "total = 0\n",
    "for i in range(0,age_arr.shape[1]):\n",
    "    significant = False\n",
    "    if stats.pearsonr(X[:,i],y)[1] < 0.05:\n",
    "        significant = True\n",
    "        print(f'i = {i}')\n",
    "        print(f'Age {bins[i]:.1f} : {bins[i]+binwidth:.1f} ')\n",
    "        print(f'\\tcorr {stats.pearsonr(X[:,i],y)[0]:.3f}')\n",
    "        print(f'\\tp-value {stats.pearsonr(X[:,i],y)[1]:.3f}')\n",
    "        print(f'\\tSignificant: {significant}')\n",
    "        print(f'\\tPassengers: {np.sum(X[:,i])}')\n",
    "        model.append(f'{bins[i]:.0f}_{bins[i]+binwidth:.0f}')\n",
    "        total = total + np.sum(X[:,i])\n",
    "        print('+------------------------+')       \n",
    "\n",
    "print(total)"
   ]
  },
  {
   "cell_type": "code",
   "execution_count": 247,
   "metadata": {},
   "outputs": [
    {
     "data": {
      "text/plain": [
       "['male',\n",
       " 'port_Q',\n",
       " 'port_S',\n",
       " 'deck_?',\n",
       " 'deck_B',\n",
       " 'deck_C',\n",
       " 'deck_D',\n",
       " 'deck_E',\n",
       " '0_7',\n",
       " '20_27']"
      ]
     },
     "execution_count": 247,
     "metadata": {},
     "output_type": "execute_result"
    }
   ],
   "source": [
    "model"
   ]
  },
  {
   "cell_type": "markdown",
   "metadata": {},
   "source": [
    "# Discussion\n",
    "\n",
    "There is a statistically significant correlation for two age groups."
   ]
  },
  {
   "cell_type": "markdown",
   "metadata": {},
   "source": [
    "# BY TICKET PREFIX"
   ]
  },
  {
   "cell_type": "code",
   "execution_count": 159,
   "metadata": {},
   "outputs": [],
   "source": [
    "def get_prefix(PD_SERIES):\n",
    "    splt = PD_SERIES.split(' ')\n",
    "    tmp = splt\n",
    "    if len(splt) > 1:      \n",
    "        tmp = splt[0]\n",
    "        tmp = tmp.replace('STON/O2','SOTON/O2')\n",
    "        tmp = tmp.replace('STON/O','SOTON/O2')\n",
    "        tmp = tmp.replace('O2.','O2')\n",
    "\n",
    "        tmp = tmp.upper()\n",
    "    else:\n",
    "        tmp = ''\n",
    "    return tmp"
   ]
  },
  {
   "cell_type": "code",
   "execution_count": 160,
   "metadata": {},
   "outputs": [
    {
     "data": {
      "text/plain": [
       "              665\n",
       "PC             60\n",
       "C.A.           27\n",
       "SOTON/O2       20\n",
       "A/5            10\n",
       "W./C.           9\n",
       "SC/PARIS        9\n",
       "SOTON/O.Q.      8\n",
       "CA.             8\n",
       "SOTON/OQ        7\n",
       "A/5.            7\n",
       "CA              6\n",
       "S.O.C.          5\n",
       "F.C.C.          5\n",
       "C               5\n",
       "A/4             3\n",
       "A/4.            3\n",
       "S.O./P.P.       3\n",
       "PP              3\n",
       "SC/AH           3\n",
       "A.5.            2\n",
       "A./5.           2\n",
       "S.C./PARIS      2\n",
       "WE/P            2\n",
       "P/PP            2\n",
       "W.E.P.          1\n",
       "S.O.P.          1\n",
       "FA              1\n",
       "SW/PP           1\n",
       "A4.             1\n",
       "C.A./SOTON      1\n",
       "S.P.            1\n",
       "SC              1\n",
       "W/C             1\n",
       "S.C./A.4.       1\n",
       "S.W./PP         1\n",
       "A/S             1\n",
       "SO/C            1\n",
       "SCO/W           1\n",
       "F.C.            1\n",
       "Name: Ticket, dtype: int64"
      ]
     },
     "execution_count": 160,
     "metadata": {},
     "output_type": "execute_result"
    }
   ],
   "source": [
    "df['Ticket'].apply(get_prefix).value_counts()\n"
   ]
  },
  {
   "cell_type": "markdown",
   "metadata": {},
   "source": [
    "#### Discussion\n",
    "\n",
    "This is a waste of time. There aren't enough passengers with any specific prefix to make any inference about the group."
   ]
  },
  {
   "cell_type": "markdown",
   "metadata": {},
   "source": [
    "# BY TITLE"
   ]
  },
  {
   "cell_type": "code",
   "execution_count": 89,
   "metadata": {
    "scrolled": true
   },
   "outputs": [
    {
     "data": {
      "text/plain": [
       "Mr             517\n",
       "Miss           182\n",
       "Mrs            125\n",
       "Master          40\n",
       "Dr               7\n",
       "Rev              6\n",
       "Mlle             2\n",
       "Major            2\n",
       "Col              2\n",
       "Jonkheer         1\n",
       "theCountess      1\n",
       "Capt             1\n",
       "Ms               1\n",
       "Don              1\n",
       "Lady             1\n",
       "Mme              1\n",
       "Sir              1\n",
       "Name: title, dtype: int64"
      ]
     },
     "execution_count": 89,
     "metadata": {},
     "output_type": "execute_result"
    }
   ],
   "source": [
    "df['title'] = df['Name'].apply(lambda x: x.split(',')[1].split('.')[0].replace(' ',''))\n",
    "df['title'].value_counts()"
   ]
  },
  {
   "cell_type": "code",
   "execution_count": 186,
   "metadata": {},
   "outputs": [],
   "source": [
    "miss = ['Ms','Mlle']\n",
    "mrs = ['Mme', 'Lady']\n",
    "prestigious = ['Dr','Rev','Major','Col','Sir','theCountess','Capt','Jonkheer','Don']\n",
    "\n",
    "df['title'] = df['title'].replace(miss,'Miss')\n",
    "df['title'] = df['title'].replace(mrs,'Mrs')\n",
    "df['title'] = df['title'].replace(prestigious,'Prestigious')"
   ]
  },
  {
   "cell_type": "code",
   "execution_count": 187,
   "metadata": {},
   "outputs": [
    {
     "data": {
      "text/plain": [
       "Mr             517\n",
       "Miss           185\n",
       "Mrs            127\n",
       "Master          40\n",
       "Prestigious     22\n",
       "Name: title, dtype: int64"
      ]
     },
     "execution_count": 187,
     "metadata": {},
     "output_type": "execute_result"
    }
   ],
   "source": [
    "df['title'].value_counts()"
   ]
  },
  {
   "cell_type": "code",
   "execution_count": 191,
   "metadata": {
    "scrolled": true
   },
   "outputs": [],
   "source": [
    "titles = df['title'].value_counts().index.tolist()\n",
    "bytitle = np.zeros((len(titles),2))\n",
    "for i in range(0,len(titles)):\n",
    "    bytitle[i] = df[df['title'] == titles[i]]['Survived'].value_counts().sort_index()"
   ]
  },
  {
   "cell_type": "code",
   "execution_count": 192,
   "metadata": {},
   "outputs": [
    {
     "data": {
      "image/png": "[encoded data removed]",
      "text/plain": [
       "<Figure size 1152x648 with 1 Axes>"
      ]
     },
     "metadata": {
      "needs_background": "light"
     },
     "output_type": "display_data"
    }
   ],
   "source": [
    "x = np.arange(-2.0,2.0)  # the label locations\n",
    "width = 5.0  # the width of the bars\n",
    "\n",
    "fig, ax = plt.subplots(figsize=(16,9))\n",
    "rects = []\n",
    "for i in range(0,len(titles)):\n",
    "    b = plt.barh(i, np.round(bytitle[i,1]/np.sum(bytitle[i]),2), width/5, label=titles[i],color=rgb_list[2*i])\n",
    "    nb = plt.barh(i, -np.round(bytitle[i,0]/np.sum(bytitle[i]),2), width/5, label=titles[i],color=rgb_list[2*i+1])\n",
    "    rects.append(b)\n",
    "    plt.annotate(f'N = {str(int(np.sum(bytitle[i])))}',xy=[-0.18,i-0.1],c='white')\n",
    "ax.set_xlabel('\\nDeath                                                        Survival\\nRate')\n",
    "ax.set_ylabel('Title')\n",
    "ax.set_title('Survival by Title')\n",
    "ax.set_yticks(range(0,len(titles)))\n",
    "ax.set_xlim(-1.1,1.1)\n",
    "ax.set_yticklabels(titles)\n",
    "ax.grid(axis='x')\n",
    "plt.show()"
   ]
  },
  {
   "cell_type": "code",
   "execution_count": 134,
   "metadata": {
    "scrolled": true
   },
   "outputs": [
    {
     "data": {
      "text/plain": [
       "array([[1., 0., 0., 0., 0.],\n",
       "       [0., 0., 1., 0., 0.],\n",
       "       [0., 1., 0., 0., 0.],\n",
       "       [0., 0., 1., 0., 0.],\n",
       "       [1., 0., 0., 0., 0.]])"
      ]
     },
     "execution_count": 134,
     "metadata": {},
     "output_type": "execute_result"
    }
   ],
   "source": [
    "tit_arr = np.zeros((len(df),len(titles)))\n",
    "for i in range(0,len(df)):\n",
    "    for j in range(0,len(titles)):\n",
    "        if df['title'][i] == titles[j]:\n",
    "            tit_arr[i,j] = 1\n",
    "            break\n",
    "tit_arr[0:5]"
   ]
  },
  {
   "cell_type": "code",
   "execution_count": 249,
   "metadata": {},
   "outputs": [
    {
     "name": "stdout",
     "output_type": "stream",
     "text": [
      "i = 0\n",
      "Title Mr \n",
      "\tcorr -0.55\n",
      "\tp-value 2.4e-71\n",
      "\tSignificant: True\n",
      "\tPassengers: 517.0\n",
      "+------------------------+\n",
      "i = 1\n",
      "Title Miss \n",
      "\tcorr 0.34\n",
      "\tp-value 6.7e-25\n",
      "\tSignificant: True\n",
      "\tPassengers: 185.0\n",
      "+------------------------+\n",
      "i = 2\n",
      "Title Mrs \n",
      "\tcorr 0.34\n",
      "\tp-value 2.7e-26\n",
      "\tSignificant: True\n",
      "\tPassengers: 127.0\n",
      "+------------------------+\n",
      "i = 3\n",
      "Title Master \n",
      "\tcorr 0.09\n",
      "\tp-value 1.1e-02\n",
      "\tSignificant: True\n",
      "\tPassengers: 40.0\n",
      "+------------------------+\n",
      "869.0\n"
     ]
    }
   ],
   "source": [
    "X = tit_arr\n",
    "total = 0\n",
    "for i in range(0,tit_arr.shape[1]):\n",
    "    significant = False\n",
    "    if stats.pearsonr(X[:,i],y)[1] < 0.05:\n",
    "        significant = True\n",
    "        print(f'i = {i}')\n",
    "        print(f'Title {titles[i]} ')\n",
    "        print(f'\\tcorr {stats.pearsonr(X[:,i],y)[0]:.2f}')\n",
    "        print(f'\\tp-value {stats.pearsonr(X[:,i],y)[1]:.1e}')\n",
    "        print(f'\\tSignificant: {significant}')\n",
    "        print(f'\\tPassengers: {np.sum(X[:,i])}')\n",
    "        model.append(f'{titles[i]}')\n",
    "        total = total + np.sum(X[:,i])\n",
    "        print('+------------------------+')       \n",
    "\n",
    "print(total)"
   ]
  },
  {
   "cell_type": "markdown",
   "metadata": {},
   "source": [
    "# BY SIBSP"
   ]
  },
  {
   "cell_type": "code",
   "execution_count": 193,
   "metadata": {},
   "outputs": [
    {
     "data": {
      "text/plain": [
       "[608, 209, 28, 16, 18, 5, 7]"
      ]
     },
     "execution_count": 193,
     "metadata": {},
     "output_type": "execute_result"
    }
   ],
   "source": [
    "df['SibSp'].value_counts().sort_index().tolist()"
   ]
  },
  {
   "cell_type": "code",
   "execution_count": 194,
   "metadata": {},
   "outputs": [],
   "source": [
    "sbsps = np.array(df['SibSp'].value_counts().sort_index().index)\n",
    "bysbsp = np.zeros([len(sbsps),2])\n",
    "for i in range(0,len(sbsps)):\n",
    "    bysbsp[i] = df[df['SibSp'] == sbsps[i]]['Survived'].value_counts().sort_index()"
   ]
  },
  {
   "cell_type": "code",
   "execution_count": 195,
   "metadata": {},
   "outputs": [
    {
     "name": "stdout",
     "output_type": "stream",
     "text": [
      "Survival rate of SibSp\n",
      "\t = 0: 0.35\n",
      "\t = 1: 0.54\n",
      "\t = 2: 0.46\n",
      "\t = 3: 0.25\n",
      "\t = 4: 0.17\n",
      "\t = 5: 0.50\n",
      "\t = 8: 0.50\n"
     ]
    }
   ],
   "source": [
    "print('Survival rate of SibSp')\n",
    "for i in range(0,len(sbsps)):\n",
    "    print(f'\\t = {sbsps[i]}: {bysbsp[i][1]/np.sum(bysbsp[i]):.2f}')"
   ]
  },
  {
   "cell_type": "code",
   "execution_count": 196,
   "metadata": {},
   "outputs": [
    {
     "data": {
      "text/plain": [
       "array([[0., 1., 0., 0., 0., 0., 0.],\n",
       "       [0., 1., 0., 0., 0., 0., 0.],\n",
       "       [1., 0., 0., 0., 0., 0., 0.],\n",
       "       [0., 1., 0., 0., 0., 0., 0.],\n",
       "       [1., 0., 0., 0., 0., 0., 0.]])"
      ]
     },
     "execution_count": 196,
     "metadata": {},
     "output_type": "execute_result"
    }
   ],
   "source": [
    "ssp_arr = np.zeros((len(df),len(sbsps)))\n",
    "for i in range(0,len(df)):\n",
    "    for j in range(0,len(sbsps)):\n",
    "        if df['SibSp'][i] == sbsps[j]:\n",
    "            ssp_arr[i,j] = 1\n",
    "            break\n",
    "ssp_arr[0:5]"
   ]
  },
  {
   "cell_type": "code",
   "execution_count": 250,
   "metadata": {},
   "outputs": [
    {
     "name": "stdout",
     "output_type": "stream",
     "text": [
      "i = 0\n",
      "SibSp: 0 \n",
      "\tcorr -0.12\n",
      "\tp-value 5.3e-04\n",
      "\tSignificant: True\n",
      "\tPassengers: 608.0\n",
      "+------------------------+\n",
      "i = 1\n",
      "SibSp: 1 \n",
      "\tcorr 0.17\n",
      "\tp-value 2.0e-07\n",
      "\tSignificant: True\n",
      "\tPassengers: 209.0\n",
      "+------------------------+\n",
      "i = 6\n",
      "SibSp: 8 \n",
      "\tcorr -0.07\n",
      "\tp-value 3.6e-02\n",
      "\tSignificant: True\n",
      "\tPassengers: 7.0\n",
      "+------------------------+\n",
      "824.0\n"
     ]
    }
   ],
   "source": [
    "X = ssp_arr\n",
    "total = 0\n",
    "for i in range(0,ssp_arr.shape[1]):\n",
    "    significant = False\n",
    "    if stats.pearsonr(X[:,i],y)[1] < 0.05:\n",
    "        significant = True\n",
    "        print(f'i = {i}')\n",
    "        print(f'SibSp: {sbsps[i]} ')\n",
    "        print(f'\\tcorr {stats.pearsonr(X[:,i],y)[0]:.2f}')\n",
    "        print(f'\\tp-value {stats.pearsonr(X[:,i],y)[1]:.1e}')\n",
    "        print(f'\\tSignificant: {significant}')\n",
    "        print(f'\\tPassengers: {np.sum(X[:,i])}')\n",
    "        model.append(f'sbsp_{sbsps[i]}')\n",
    "        total = total + np.sum(X[:,i])\n",
    "        print('+------------------------+')       \n",
    "\n",
    "print(total)"
   ]
  },
  {
   "cell_type": "code",
   "execution_count": 251,
   "metadata": {},
   "outputs": [
    {
     "data": {
      "text/plain": [
       "['male',\n",
       " 'port_Q',\n",
       " 'port_S',\n",
       " 'deck_?',\n",
       " 'deck_B',\n",
       " 'deck_C',\n",
       " 'deck_D',\n",
       " 'deck_E',\n",
       " '0_7',\n",
       " '20_27',\n",
       " 'Mr',\n",
       " 'Miss',\n",
       " 'Mrs',\n",
       " 'Master',\n",
       " 'sbsp_0',\n",
       " 'sbsp_1',\n",
       " 'sbsp_8']"
      ]
     },
     "execution_count": 251,
     "metadata": {},
     "output_type": "execute_result"
    }
   ],
   "source": [
    "model"
   ]
  },
  {
   "cell_type": "markdown",
   "metadata": {},
   "source": [
    "# BY PARCH"
   ]
  },
  {
   "cell_type": "code",
   "execution_count": 198,
   "metadata": {},
   "outputs": [],
   "source": [
    "parchs = np.array(df['Parch'].value_counts().sort_index().index)\n",
    "byparch = np.zeros([len(parchs),2])\n",
    "for i in range(0,len(parchs)):\n",
    "    byparch[i] = df[df['Parch'] == parchs[i]]['Survived'].value_counts().sort_index()"
   ]
  },
  {
   "cell_type": "code",
   "execution_count": 199,
   "metadata": {},
   "outputs": [
    {
     "name": "stdout",
     "output_type": "stream",
     "text": [
      "Survival rate of: Parch\n",
      "\t = 0: 0.34\n",
      "\t = 1: 0.55\n",
      "\t = 2: 0.50\n",
      "\t = 3: 0.60\n",
      "\t = 4: 0.50\n",
      "\t = 5: 0.20\n",
      "\t = 6: 0.50\n"
     ]
    }
   ],
   "source": [
    "print('Survival rate of: Parch')\n",
    "for i in range(0,len(parchs)):\n",
    "    print(f'\\t = {parchs[i]}: {byparch[i][1]/np.sum(byparch[i]):.2f}')"
   ]
  },
  {
   "cell_type": "code",
   "execution_count": 200,
   "metadata": {},
   "outputs": [
    {
     "data": {
      "text/plain": [
       "array([[1., 0., 0., 0., 0., 0., 0.],\n",
       "       [1., 0., 0., 0., 0., 0., 0.],\n",
       "       [1., 0., 0., 0., 0., 0., 0.],\n",
       "       [1., 0., 0., 0., 0., 0., 0.],\n",
       "       [1., 0., 0., 0., 0., 0., 0.]])"
      ]
     },
     "execution_count": 200,
     "metadata": {},
     "output_type": "execute_result"
    }
   ],
   "source": [
    "pch_arr = np.zeros((len(df),len(parchs)))\n",
    "for i in range(0,len(df)):\n",
    "    for j in range(0,len(parchs)):\n",
    "        if df['Parch'][i] == parchs[j]:\n",
    "            pch_arr[i,j] = 1\n",
    "            break\n",
    "pch_arr[0:5]"
   ]
  },
  {
   "cell_type": "code",
   "execution_count": 252,
   "metadata": {},
   "outputs": [
    {
     "name": "stdout",
     "output_type": "stream",
     "text": [
      "i = 0\n",
      "Parch: 0 \n",
      "\tcorr -0.15\n",
      "\tp-value 1.0e-05\n",
      "\tSignificant: True\n",
      "\tPassengers: 678.0\n",
      "+------------------------+\n",
      "i = 1\n",
      "Parch: 1 \n",
      "\tcorr 0.13\n",
      "\tp-value 5.9e-05\n",
      "\tSignificant: True\n",
      "\tPassengers: 118.0\n",
      "+------------------------+\n",
      "i = 2\n",
      "Parch: 2 \n",
      "\tcorr 0.08\n",
      "\tp-value 2.5e-02\n",
      "\tSignificant: True\n",
      "\tPassengers: 80.0\n",
      "+------------------------+\n",
      "876.0\n"
     ]
    }
   ],
   "source": [
    "X = pch_arr\n",
    "total = 0\n",
    "for i in range(0,pch_arr.shape[1]):\n",
    "    significant = False\n",
    "    if stats.pearsonr(X[:,i],y)[1] < 0.05:\n",
    "        significant = True\n",
    "        print(f'i = {i}')\n",
    "        print(f'Parch: {parchs[i]} ')\n",
    "        print(f'\\tcorr {stats.pearsonr(X[:,i],y)[0]:.2f}')\n",
    "        print(f'\\tp-value {stats.pearsonr(X[:,i],y)[1]:.1e}')\n",
    "        print(f'\\tSignificant: {significant}')\n",
    "        print(f'\\tPassengers: {np.sum(X[:,i])}')\n",
    "        model.append(f'pa_{parchs[i]}')\n",
    "        total = total + np.sum(X[:,i])\n",
    "        print('+------------------------+')       \n",
    "\n",
    "print(total)"
   ]
  },
  {
   "cell_type": "markdown",
   "metadata": {},
   "source": [
    "# BY PCLASS"
   ]
  },
  {
   "cell_type": "code",
   "execution_count": 202,
   "metadata": {},
   "outputs": [
    {
     "data": {
      "text/plain": [
       "array([1, 2, 3])"
      ]
     },
     "execution_count": 202,
     "metadata": {},
     "output_type": "execute_result"
    }
   ],
   "source": [
    "pcls = np.array(df['Pclass'].value_counts().sort_index().index)\n",
    "pcls"
   ]
  },
  {
   "cell_type": "code",
   "execution_count": 203,
   "metadata": {},
   "outputs": [
    {
     "data": {
      "text/plain": [
       "array([[0., 0., 1.],\n",
       "       [1., 0., 0.],\n",
       "       [0., 0., 1.],\n",
       "       [1., 0., 0.],\n",
       "       [0., 0., 1.]])"
      ]
     },
     "execution_count": 203,
     "metadata": {},
     "output_type": "execute_result"
    }
   ],
   "source": [
    "pcls_arr = np.zeros((len(df),len(pcls)))\n",
    "for i in range(0,len(df)):\n",
    "    for j in range(0,len(pcls)):\n",
    "        if df['Pclass'][i] == pcls[j]:\n",
    "            pcls_arr[i,j] = 1\n",
    "            break\n",
    "pcls_arr[0:5]"
   ]
  },
  {
   "cell_type": "code",
   "execution_count": 253,
   "metadata": {},
   "outputs": [
    {
     "name": "stdout",
     "output_type": "stream",
     "text": [
      "i = 0\n",
      "Pclass: 1 \n",
      "\tcorr 0.29\n",
      "\tp-value 3.2e-18\n",
      "\tSignificant: True\n",
      "\tPassengers: 216.0\n",
      "+------------------------+\n",
      "i = 1\n",
      "Pclass: 2 \n",
      "\tcorr 0.09\n",
      "\tp-value 5.3e-03\n",
      "\tSignificant: True\n",
      "\tPassengers: 184.0\n",
      "+------------------------+\n",
      "i = 2\n",
      "Pclass: 3 \n",
      "\tcorr -0.32\n",
      "\tp-value 5.5e-23\n",
      "\tSignificant: True\n",
      "\tPassengers: 491.0\n",
      "+------------------------+\n",
      "891.0\n"
     ]
    }
   ],
   "source": [
    "X = pcls_arr\n",
    "total = 0\n",
    "for i in range(0,pcls_arr.shape[1]):\n",
    "    significant = False\n",
    "    if stats.pearsonr(X[:,i],y)[1] < 0.05:\n",
    "        significant = True\n",
    "        print(f'i = {i}')\n",
    "        print(f'Pclass: {pcls[i]} ')\n",
    "        print(f'\\tcorr {stats.pearsonr(X[:,i],y)[0]:.2f}')\n",
    "        print(f'\\tp-value {stats.pearsonr(X[:,i],y)[1]:.1e}')\n",
    "        print(f'\\tSignificant: {significant}')\n",
    "        print(f'\\tPassengers: {np.sum(X[:,i])}')\n",
    "        model.append(f'class_{pcls[i]}')\n",
    "        total = total + np.sum(X[:,i])\n",
    "        print('+------------------------+')       \n",
    "\n",
    "print(total)"
   ]
  },
  {
   "cell_type": "code",
   "execution_count": 597,
   "metadata": {},
   "outputs": [
    {
     "data": {
      "text/plain": [
       "['male',\n",
       " 'port_Q',\n",
       " 'port_S',\n",
       " 'deck_?',\n",
       " 'deck_B',\n",
       " 'deck_C',\n",
       " 'deck_D',\n",
       " 'deck_E',\n",
       " '0_7',\n",
       " '20_27',\n",
       " 'Mr',\n",
       " 'Miss',\n",
       " 'Mrs',\n",
       " 'Master',\n",
       " 'sbsp_0',\n",
       " 'sbsp_1',\n",
       " 'sbsp_8',\n",
       " 'pa_0',\n",
       " 'pa_1',\n",
       " 'pa_2',\n",
       " 'class_1',\n",
       " 'class_2',\n",
       " 'class_3']"
      ]
     },
     "execution_count": 597,
     "metadata": {},
     "output_type": "execute_result"
    }
   ],
   "source": [
    "model"
   ]
  },
  {
   "cell_type": "code",
   "execution_count": 600,
   "metadata": {},
   "outputs": [],
   "source": [
    "def initialize_model(dataframe):\n",
    "    model_arr = np.zeros((len(dataframe),len(model)),dtype=int)\n",
    "    for i in range(0,len(dataframe)):\n",
    "        \n",
    "        ### SEX\n",
    "        model_arr[i,0] = (dataframe['Sex'][i] == 'male')        \n",
    "        ### PORT\n",
    "        if dataframe['Embarked'][i] == 'Q':\n",
    "            model_arr[i,1] = 1\n",
    "        if dataframe['Embarked'][i] == 'S':\n",
    "            model_arr[i,2] = 1    \n",
    "        ### DECK\n",
    "        dataframe['Cabin'].replace(np.nan,'??',inplace=True)\n",
    "        dataframe['deck'] = dataframe['Cabin'].apply(get_deck)\n",
    "        if dataframe['deck'][i] == '?':\n",
    "            model_arr[i,3] = 1\n",
    "        if dataframe['deck'][i] == 'B':\n",
    "            model_arr[i,4] = 1\n",
    "        if dataframe['deck'][i] == 'C':\n",
    "            model_arr[i,5] = 1\n",
    "        if dataframe['deck'][i] == 'D':\n",
    "            model_arr[i,6] = 1\n",
    "        if dataframe['deck'][i] == 'E':\n",
    "            model_arr[i,7] = 1\n",
    "        ### AGE\n",
    "        if (dataframe['Age'][i] > 0) & (df['Age'][i] <= 7):\n",
    "            model_arr[i,8] = 1\n",
    "        if (dataframe['Age'][i] > 20) & (df['Age'][i] <= 27):\n",
    "            model_arr[i,9] = 1\n",
    "        ### TITLE\n",
    "        miss = ['Ms','Mlle']\n",
    "        mrs = ['Mme', 'Lady']\n",
    "        dataframe['title'] = dataframe['Name'].apply(lambda x: x.split(',')[1].split('.')[0].replace(' ',''))\n",
    "        dataframe['title'] = dataframe['title'].replace(miss,'Miss')\n",
    "        dataframe['title'] = dataframe['title'].replace(mrs,'Mrs')\n",
    "        if dataframe['title'][i] == 'Mr':\n",
    "            model_arr[i,10] = 1\n",
    "        if dataframe['title'][i] == 'Miss':\n",
    "            model_arr[i,11] = 1\n",
    "        if dataframe['title'][i] == 'Mrs':\n",
    "            model_arr[i,12] = 1\n",
    "        if dataframe['title'][i] == 'Master':\n",
    "            model_arr[i,13] = 1\n",
    "        ### SIBSP\n",
    "        if dataframe['SibSp'][i] == 0:\n",
    "            model_arr[i,14] = 1        \n",
    "        if dataframe['SibSp'][i] == 1:\n",
    "            model_arr[i,15] = 1   \n",
    "        if dataframe['SibSp'][i] == 8:\n",
    "            model_arr[i,16] = 1\n",
    "        ### PARCH\n",
    "        if dataframe['Parch'][i] == 0:\n",
    "            model_arr[i,17] = 1                       \n",
    "        if dataframe['Parch'][i] == 1:\n",
    "            model_arr[i,18] = 1         \n",
    "        if dataframe['Parch'][i] == 2:\n",
    "            model_arr[i,19] = 1\n",
    "        ### PCLASS\n",
    "        if dataframe['Pclass'][i] == 1:\n",
    "            model_arr[i,20] = 1\n",
    "        if dataframe['Pclass'][i] == 2:\n",
    "            model_arr[i,21] = 1             \n",
    "        if dataframe['Pclass'][i] == 3:\n",
    "            model_arr[i,22] = 1             \n",
    "    return model_arr            "
   ]
  },
  {
   "cell_type": "code",
   "execution_count": 604,
   "metadata": {},
   "outputs": [
    {
     "name": "stdout",
     "output_type": "stream",
     "text": [
      "[[1 0 1 1 0 0 0 0 0 1 1 0 0 0 0 1 0 1 0 0 0 0 1]\n",
      " [0 0 0 0 0 1 0 0 0 0 0 0 1 0 0 1 0 1 0 0 1 0 0]\n",
      " [0 0 1 1 0 0 0 0 0 1 0 1 0 0 1 0 0 1 0 0 0 0 1]\n",
      " [0 0 1 0 0 1 0 0 0 0 0 0 1 0 0 1 0 1 0 0 1 0 0]\n",
      " [1 0 1 1 0 0 0 0 0 0 1 0 0 0 1 0 0 1 0 0 0 0 1]]\n",
      "f1-score:\n",
      "\tLogR: 0.78\n",
      "\tGSCV: 0.77\n",
      "\tDT: 0.74\n",
      "\n",
      "Jaccard-score:\n",
      "\tLogR: 0.63\n",
      "\tGSCV: 0.63\n",
      "\tDT: 0.59\n",
      "\n",
      "acc. score:\n",
      "\tLogR: 0.84\n",
      "\tGSCV: 0.84\n",
      "\tDT: 0.83\n",
      "\n",
      "logloss:\n",
      "\tLogR: 5.60\n",
      "\tGSCV: 5.60\n",
      "\tDT: 5.98\n"
     ]
    }
   ],
   "source": [
    "df_train = pd.read_csv('train.csv')\n",
    "train_arr = initialize_model(df_train)\n",
    "\n",
    "X = train_arr\n",
    "print(X[0:5])\n",
    "X_train, X_test, y_train, y_test = train_test_split(X,y,test_size=0.2)\n",
    "\n",
    "\n",
    "clf_dt = tree.DecisionTreeClassifier()\n",
    "clf_dt.fit(X_train, y_train)\n",
    "\n",
    "clf_log = LogisticRegression(solver='liblinear',max_iter=100)\n",
    "clf_log_gd = LogisticRegression(solver='liblinear',max_iter=100)\n",
    "\n",
    "lg_pgrid={'penalty':['l1','l2'], 'C':np.linspace(1,10,1000)}\n",
    "lg_grid = GridSearchCV(clf_log_gd, lg_pgrid,cv=5,scoring='accuracy',n_jobs=None)\n",
    "lg_grid.fit(X_train,y_train)\n",
    "\n",
    "clf_log.fit(X_train, y_train)\n",
    "print('f1-score:')\n",
    "print(f'\\tLogR: {f1_score(y_test,clf_log.predict(X_test)):.2f}')\n",
    "print(f'\\tGSCV: {f1_score(y_test,lg_grid.best_estimator_.predict(X_test)):.2f}')\n",
    "print(f'\\tDT: {f1_score(y_test,clf_dt.predict(X_test)):.2f}')\n",
    "print()\n",
    "print('Jaccard-score:')\n",
    "print(f'\\tLogR: {jaccard_score(y_test,clf_log.predict(X_test)):.2f}')\n",
    "print(f'\\tGSCV: {jaccard_score(y_test,lg_grid.best_estimator_.predict(X_test)):.2f}')\n",
    "print(f'\\tDT: {jaccard_score(y_test,clf_dt.predict(X_test)):.2f}')\n",
    "print()\n",
    "print('acc. score:')\n",
    "print(f'\\tLogR: {accuracy_score(y_test,clf_log.predict(X_test)):.2f}')\n",
    "print(f'\\tGSCV: {accuracy_score(y_test,lg_grid.best_estimator_.predict(X_test)):.2f}')\n",
    "print(f'\\tDT: {accuracy_score(y_test,clf_dt.predict(X_test)):.2f}')\n",
    "print()\n",
    "print('logloss:')\n",
    "print(f'\\tLogR: {log_loss(y_test,clf_log.predict(X_test)):.2f}')\n",
    "print(f'\\tGSCV: {log_loss(y_test,lg_grid.best_estimator_.predict(X_test)):.2f}')\n",
    "print(f'\\tDT: {log_loss(y_test,clf_dt.predict(X_test)):.2f}')"
   ]
  },
  {
   "cell_type": "code",
   "execution_count": 610,
   "metadata": {},
   "outputs": [
    {
     "name": "stdout",
     "output_type": "stream",
     "text": [
      "[0 1 0 0 0 1 0 1 1 0 0 0 0 0 1 1 0 1 0 0 0 0 1 0 0 0 0 0 1 0 0 1 0 1 0 0 0\n",
      " 0 0 1 1 0 1 1 0 0 0 0 0 0 0 0 0 0 0 0 0 0 0 0 1 1 0 0 1 0 0 0 0 0 0 1 0 0\n",
      " 0 0 1 0 0 0 1 0 0 1 0 0 0 0 0 0 0 1 1 1 0 1 1 0 0 0 0 0 0 0 0 0 1 1 0 0 0\n",
      " 1 1 1 1 0 1 0 1 0 1 0 0 0 0 0 0 1 0 1 1 0 0 0 0 1 0 0 1 1 0 0 1 0 1 0 0 1\n",
      " 0 1 0 0 0 0 0 1 0 0 1 0 0 0 1 0 0 0 0 0 1 0 0 1 1 0 0 0 0 1 1] \n",
      "\n",
      "[0 1 0 1 0 1 0 1 1 0 0 0 0 0 1 1 0 1 0 0 0 0 1 0 0 0 0 0 1 0 0 1 0 1 0 0 0\n",
      " 0 0 1 1 0 1 1 0 0 0 0 0 0 0 0 0 0 0 0 0 0 0 0 1 1 0 0 1 0 0 0 0 0 0 1 1 0\n",
      " 0 0 1 0 0 0 1 0 0 1 0 0 0 0 0 0 0 1 1 1 0 1 1 0 0 0 0 0 0 0 0 0 1 1 0 0 0\n",
      " 1 1 1 1 0 1 0 1 0 1 0 0 0 0 0 0 1 0 1 1 0 0 0 0 1 0 0 1 1 0 0 1 0 1 0 0 1\n",
      " 0 1 0 0 0 0 0 1 0 0 1 0 0 0 1 0 0 0 0 0 1 0 0 1 1 0 0 0 0 1 1] \n",
      "\n",
      "[1 1 1 1 0 1 0 1 0 0 0 0 0 0 1 1 1 1 0 1 0 0 1 0 0 0 0 0 1 0 0 0 0 1 0 1 0\n",
      " 0 0 1 1 0 1 1 1 0 0 1 1 0 0 0 1 0 0 0 0 0 1 0 1 1 0 0 1 0 0 0 1 0 0 1 0 0\n",
      " 0 0 1 1 1 0 1 0 0 1 1 0 0 0 0 0 0 1 1 1 0 1 1 0 0 0 1 1 0 1 0 0 1 1 0 0 0\n",
      " 1 1 1 1 0 1 0 1 0 1 0 0 0 0 0 0 1 0 1 1 0 0 0 0 1 0 1 0 1 0 0 1 0 1 0 0 1\n",
      " 0 1 1 1 0 0 0 0 0 0 1 0 1 0 1 0 0 0 0 0 1 0 1 1 1 0 0 0 1 0 1]\n"
     ]
    }
   ],
   "source": [
    "print(lg_grid.best_estimator_.predict(X_test),'\\n')\n",
    "print(clf_log.predict(X_test),'\\n')\n",
    "print(y_test)"
   ]
  },
  {
   "cell_type": "code",
   "execution_count": null,
   "metadata": {},
   "outputs": [],
   "source": []
  }
 ],
 "metadata": {
  "kernelspec": {
   "display_name": "Python 3",
   "language": "python",
   "name": "python3"
  },
  "language_info": {
   "codemirror_mode": {
    "name": "ipython",
    "version": 3
   },
   "file_extension": ".py",
   "mimetype": "text/x-python",
   "name": "python",
   "nbconvert_exporter": "python",
   "pygments_lexer": "ipython3",
   "version": "3.8.6"
  }
 },
 "nbformat": 4,
 "nbformat_minor": 4
}
